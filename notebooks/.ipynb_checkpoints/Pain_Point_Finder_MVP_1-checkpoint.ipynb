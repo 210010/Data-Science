{
 "cells": [
  {
   "cell_type": "markdown",
   "metadata": {
    "colab_type": "text",
    "id": "sJKO5xpnOQKO"
   },
   "source": [
    "# MVP 1: Generation of Novel Company Descriptions for Use in Project Ideation\n",
    "\n",
    "The goal of MVP 1 is to generate novel company descriptions and output those ideas to a JSON format. To do this we had to pass through three major steps:\n",
    "1. Source a large volume of company descriptions\n",
    "2. Create and train a model to generate company descriptions\n",
    "3. Apply postprocessing to boost the signal to noise ratio in the generated descriptions\n",
    "\n",
    "<br>\n",
    "\n",
    "Success for MVP 1 hinges on three key measures:\n",
    "1. \\>70% of generated ideas are readable/comprehensible problems\n",
    "2. Reduction in time spent by Lambda Labs staff sourcing basic project ideas - stakeholder judges there to be significant value from the output\n",
    "3. Output is formatted in JSON format in preparation for MVP 2\n"
   ]
  },
  {
   "cell_type": "markdown",
   "metadata": {
    "colab_type": "text",
    "id": "h7q0GYjY67RH"
   },
   "source": [
    "# Sourcing Company descriptions\n",
    "\n",
    "We used company descriptions because they set out their goals, identify issues, include semi-specific plans, and utilize emerging technologies. We feel that these are all things which Lambda Labs may want in a project for their students to show off to the world, and a good dataset for our model to emulate.\n",
    "\n",
    "<br>\n",
    "\n",
    "We pulled descriptions from [Crunchbase](https://www.crunchbase.com/) because it is the more affordable of the two larger API's (pitchbook and crunchbase) and contains full descriptions as well as taglines, for every company.\n",
    "\n",
    "<br>\n",
    "\n",
    "This means that we have access to a rich source of data that represents people who are so sure they've found a problem  (particularly, a problem that they can make money off of/humans really need), that they have put skin in the game for it."
   ]
  },
  {
   "cell_type": "markdown",
   "metadata": {
    "colab_type": "text",
    "id": "ng9YQMd-49R3"
   },
   "source": [
    "#Why GPT-2?\n",
    "\n",
    "GPT-2 is a LM ([language model](https://datascience.stackexchange.com/questions/13188/whats-an-lstm-lm-formulation)) which has had a massive amount of pre-training done to it in the form of every reddit post ever being fed through it.  From this it has learnt the structure of language, and how certain words relate to each other.  This becomes an extraordinarily powerful generating tool that can take an input and 'predict' the next words using probability distribution.\n",
    "\n",
    "<br>\n",
    "\n",
    "This is useful to our task, as we wish to provide generated ideas for labs that represent a high probability of being an issue people have.  This model will take in the data, learn the structure of the 'primer' (structured) data, and begin using that as basis to create its text.  Our primer data needs to represent problems in some semi-structured way, which is why we use the Crunchbase company descriptions."
   ]
  },
  {
   "cell_type": "markdown",
   "metadata": {
    "colab_type": "text",
    "id": "vPMtAQ_j-5mJ"
   },
   "source": [
    "![gpt-2](https://i1.wp.com/deliprao.com/wp-content/uploads/2019/02/image-1.png?raw=1)"
   ]
  },
  {
   "cell_type": "markdown",
   "metadata": {
    "colab_type": "text",
    "id": "8qU45ISL_WUA"
   },
   "source": [
    "(slide showing the process of generating text on GPT-2)"
   ]
  },
  {
   "cell_type": "markdown",
   "metadata": {
    "colab_type": "text",
    "id": "y4A8PXR849Om"
   },
   "source": [
    "## Imports/Downloading Model and Data"
   ]
  },
  {
   "cell_type": "code",
   "execution_count": 0,
   "metadata": {
    "colab": {
     "base_uri": "https://localhost:8080/",
     "height": 72
    },
    "colab_type": "code",
    "id": "KBkpRgBCBS2_",
    "outputId": "b749aecf-5bdd-4763-e700-bdf38a9e82f6"
   },
   "outputs": [
    {
     "name": "stdout",
     "output_type": "stream",
     "text": [
      "\u001b[?25l\r",
      "\u001b[K     |▌                               | 10kB 20.3MB/s eta 0:00:01\r",
      "\u001b[K     |█                               | 20kB 25.2MB/s eta 0:00:01\r",
      "\u001b[K     |█▌                              | 30kB 31.9MB/s eta 0:00:01\r",
      "\u001b[K     |██                              | 40kB 3.5MB/s eta 0:00:01\r",
      "\u001b[K     |██▌                             | 51kB 4.3MB/s eta 0:00:01\r",
      "\u001b[K     |███                             | 61kB 5.1MB/s eta 0:00:01\r",
      "\u001b[K     |███▌                            | 71kB 5.8MB/s eta 0:00:01\r",
      "\u001b[K     |████                            | 81kB 6.5MB/s eta 0:00:01\r",
      "\u001b[K     |████▌                           | 92kB 7.3MB/s eta 0:00:01\r",
      "\u001b[K     |█████                           | 102kB 7.7MB/s eta 0:00:01\r",
      "\u001b[K     |█████▌                          | 112kB 7.7MB/s eta 0:00:01\r",
      "\u001b[K     |██████                          | 122kB 7.7MB/s eta 0:00:01\r",
      "\u001b[K     |██████▌                         | 133kB 7.7MB/s eta 0:00:01\r",
      "\u001b[K     |███████                         | 143kB 7.7MB/s eta 0:00:01\r",
      "\u001b[K     |███████▌                        | 153kB 7.7MB/s eta 0:00:01\r",
      "\u001b[K     |████████                        | 163kB 7.7MB/s eta 0:00:01\r",
      "\u001b[K     |████████▌                       | 174kB 7.7MB/s eta 0:00:01\r",
      "\u001b[K     |█████████                       | 184kB 7.7MB/s eta 0:00:01\r",
      "\u001b[K     |█████████▌                      | 194kB 7.7MB/s eta 0:00:01\r",
      "\u001b[K     |██████████                      | 204kB 7.7MB/s eta 0:00:01\r",
      "\u001b[K     |██████████▌                     | 215kB 7.7MB/s eta 0:00:01\r",
      "\u001b[K     |███████████                     | 225kB 7.7MB/s eta 0:00:01\r",
      "\u001b[K     |███████████▌                    | 235kB 7.7MB/s eta 0:00:01\r",
      "\u001b[K     |████████████                    | 245kB 7.7MB/s eta 0:00:01\r",
      "\u001b[K     |████████████▌                   | 256kB 7.7MB/s eta 0:00:01\r",
      "\u001b[K     |█████████████                   | 266kB 7.7MB/s eta 0:00:01\r",
      "\u001b[K     |█████████████▌                  | 276kB 7.7MB/s eta 0:00:01\r",
      "\u001b[K     |██████████████                  | 286kB 7.7MB/s eta 0:00:01\r",
      "\u001b[K     |██████████████▌                 | 296kB 7.7MB/s eta 0:00:01\r",
      "\u001b[K     |███████████████                 | 307kB 7.7MB/s eta 0:00:01\r",
      "\u001b[K     |███████████████▌                | 317kB 7.7MB/s eta 0:00:01\r",
      "\u001b[K     |████████████████                | 327kB 7.7MB/s eta 0:00:01\r",
      "\u001b[K     |████████████████▌               | 337kB 7.7MB/s eta 0:00:01\r",
      "\u001b[K     |█████████████████               | 348kB 7.7MB/s eta 0:00:01\r",
      "\u001b[K     |█████████████████▌              | 358kB 7.7MB/s eta 0:00:01\r",
      "\u001b[K     |██████████████████              | 368kB 7.7MB/s eta 0:00:01\r",
      "\u001b[K     |██████████████████▌             | 378kB 7.7MB/s eta 0:00:01\r",
      "\u001b[K     |███████████████████             | 389kB 7.7MB/s eta 0:00:01\r",
      "\u001b[K     |███████████████████▌            | 399kB 7.7MB/s eta 0:00:01\r",
      "\u001b[K     |████████████████████            | 409kB 7.7MB/s eta 0:00:01\r",
      "\u001b[K     |████████████████████▌           | 419kB 7.7MB/s eta 0:00:01\r",
      "\u001b[K     |█████████████████████           | 430kB 7.7MB/s eta 0:00:01\r",
      "\u001b[K     |█████████████████████▌          | 440kB 7.7MB/s eta 0:00:01\r",
      "\u001b[K     |██████████████████████          | 450kB 7.7MB/s eta 0:00:01\r",
      "\u001b[K     |██████████████████████▌         | 460kB 7.7MB/s eta 0:00:01\r",
      "\u001b[K     |███████████████████████         | 471kB 7.7MB/s eta 0:00:01\r",
      "\u001b[K     |███████████████████████▌        | 481kB 7.7MB/s eta 0:00:01\r",
      "\u001b[K     |████████████████████████        | 491kB 7.7MB/s eta 0:00:01\r",
      "\u001b[K     |████████████████████████▌       | 501kB 7.7MB/s eta 0:00:01\r",
      "\u001b[K     |█████████████████████████       | 512kB 7.7MB/s eta 0:00:01\r",
      "\u001b[K     |█████████████████████████▌      | 522kB 7.7MB/s eta 0:00:01\r",
      "\u001b[K     |██████████████████████████      | 532kB 7.7MB/s eta 0:00:01\r",
      "\u001b[K     |██████████████████████████▌     | 542kB 7.7MB/s eta 0:00:01\r",
      "\u001b[K     |███████████████████████████     | 552kB 7.7MB/s eta 0:00:01\r",
      "\u001b[K     |███████████████████████████▌    | 563kB 7.7MB/s eta 0:00:01\r",
      "\u001b[K     |████████████████████████████    | 573kB 7.7MB/s eta 0:00:01\r",
      "\u001b[K     |████████████████████████████▌   | 583kB 7.7MB/s eta 0:00:01\r",
      "\u001b[K     |█████████████████████████████   | 593kB 7.7MB/s eta 0:00:01\r",
      "\u001b[K     |█████████████████████████████▌  | 604kB 7.7MB/s eta 0:00:01\r",
      "\u001b[K     |██████████████████████████████  | 614kB 7.7MB/s eta 0:00:01\r",
      "\u001b[K     |██████████████████████████████▌ | 624kB 7.7MB/s eta 0:00:01\r",
      "\u001b[K     |███████████████████████████████ | 634kB 7.7MB/s eta 0:00:01\r",
      "\u001b[K     |███████████████████████████████▌| 645kB 7.7MB/s eta 0:00:01\r",
      "\u001b[K     |████████████████████████████████| 655kB 7.7MB/s \n",
      "\u001b[?25h  Building wheel for gpt-2-simple (setup.py) ... \u001b[?25l\u001b[?25hdone\n",
      "  Building wheel for regex (setup.py) ... \u001b[?25l\u001b[?25hdone\n"
     ]
    }
   ],
   "source": [
    "!pip install -q gpt-2-simple\n",
    "import gpt_2_simple as gpt2\n",
    "from datetime import datetime\n",
    "from google.colab import files\n",
    "import glob\n",
    "import os\n",
    "import pandas as pd"
   ]
  },
  {
   "cell_type": "markdown",
   "metadata": {
    "colab_type": "text",
    "id": "OCh2pldY4VvH"
   },
   "source": [
    "We are using the medium sized model to train, as the larger one sees diminishing returns due to the data being highly structured, but mid still performs far \n",
    "better than the small."
   ]
  },
  {
   "cell_type": "code",
   "execution_count": 0,
   "metadata": {
    "colab": {
     "base_uri": "https://localhost:8080/",
     "height": 144
    },
    "colab_type": "code",
    "id": "P8wSlgXoDPCR",
    "outputId": "3da62669-7193-4d26-e28f-584dcc250b61"
   },
   "outputs": [
    {
     "name": "stderr",
     "output_type": "stream",
     "text": [
      "Fetching checkpoint: 1.05Mit [00:00, 400Mit/s]                                                      \n",
      "Fetching encoder.json: 1.05Mit [00:00, 96.2Mit/s]                                                   \n",
      "Fetching hparams.json: 1.05Mit [00:00, 361Mit/s]                                                    \n",
      "Fetching model.ckpt.data-00000-of-00001: 1.42Git [00:08, 163Mit/s]                                  \n",
      "Fetching model.ckpt.index: 1.05Mit [00:00, 154Mit/s]                                                \n",
      "Fetching model.ckpt.meta: 1.05Mit [00:00, 100Mit/s]                                                 \n",
      "Fetching vocab.bpe: 1.05Mit [00:00, 130Mit/s]                                                       \n"
     ]
    }
   ],
   "source": [
    "gpt2.download_gpt2(model_name=\"345M\")"
   ]
  },
  {
   "cell_type": "markdown",
   "metadata": {
    "colab_type": "text",
    "id": "odMjaRaV4Zga"
   },
   "source": [
    "Cloning repo in for fast access to all .csv's..."
   ]
  },
  {
   "cell_type": "code",
   "execution_count": 0,
   "metadata": {
    "colab": {
     "base_uri": "https://localhost:8080/",
     "height": 144
    },
    "colab_type": "code",
    "id": "JdlyQmnop3nb",
    "outputId": "f95d21c4-2dd1-4058-c521-4247b6a09feb"
   },
   "outputs": [
    {
     "name": "stdout",
     "output_type": "stream",
     "text": [
      "Cloning into 'Data-Science'...\n",
      "remote: Enumerating objects: 11, done.\u001b[K\n",
      "remote: Counting objects: 100% (11/11), done.\u001b[K\n",
      "remote: Compressing objects: 100% (10/10), done.\u001b[K\n",
      "remote: Total 310 (delta 1), reused 8 (delta 1), pack-reused 299\u001b[K\n",
      "Receiving objects: 100% (310/310), 50.64 MiB | 24.93 MiB/s, done.\n",
      "Resolving deltas: 100% (59/59), done.\n"
     ]
    }
   ],
   "source": [
    "!git clone https://github.com/labs15-pain-point/Data-Science"
   ]
  },
  {
   "cell_type": "markdown",
   "metadata": {
    "colab_type": "text",
    "id": "PEvsA3o-4P8A"
   },
   "source": [
    "Now we can utilize the repo with `glob` in order to concatenate every .csv in a particular folder into 1.  This will leave us with a dataframe with some extraneous info, but 171k+ descriptions that we can begin to work with. "
   ]
  },
  {
   "cell_type": "code",
   "execution_count": 0,
   "metadata": {
    "colab": {
     "base_uri": "https://localhost:8080/",
     "height": 549
    },
    "colab_type": "code",
    "id": "vN6bYm7omccb",
    "outputId": "12257ba3-b737-4632-d2f9-fe00b0050a86"
   },
   "outputs": [
    {
     "name": "stderr",
     "output_type": "stream",
     "text": [
      "b'Skipping line 749: expected 4 fields, saw 14\\n'\n",
      "b'Skipping line 521: expected 5 fields, saw 11\\n'\n"
     ]
    },
    {
     "name": "stdout",
     "output_type": "stream",
     "text": [
      "(171472, 5)\n"
     ]
    },
    {
     "name": "stderr",
     "output_type": "stream",
     "text": [
      "b'Skipping line 512: expected 5 fields, saw 16\\n'\n",
      "/usr/local/lib/python3.6/dist-packages/ipykernel_launcher.py:6: FutureWarning: Sorting because non-concatenation axis is not aligned. A future version\n",
      "of pandas will change to not sort by default.\n",
      "\n",
      "To accept the future behavior, pass 'sort=False'.\n",
      "\n",
      "To retain the current behavior and silence the warning, pass 'sort=True'.\n",
      "\n",
      "  \n"
     ]
    },
    {
     "data": {
      "text/html": [
       "<div>\n",
       "<style scoped>\n",
       "    .dataframe tbody tr th:only-of-type {\n",
       "        vertical-align: middle;\n",
       "    }\n",
       "\n",
       "    .dataframe tbody tr th {\n",
       "        vertical-align: top;\n",
       "    }\n",
       "\n",
       "    .dataframe thead th {\n",
       "        text-align: right;\n",
       "    }\n",
       "</style>\n",
       "<table border=\"1\" class=\"dataframe\">\n",
       "  <thead>\n",
       "    <tr style=\"text-align: right;\">\n",
       "      <th></th>\n",
       "      <th>Categories</th>\n",
       "      <th>Description</th>\n",
       "      <th>Full Description</th>\n",
       "      <th>Organization Name</th>\n",
       "      <th>Organization Name URL</th>\n",
       "    </tr>\n",
       "  </thead>\n",
       "  <tbody>\n",
       "    <tr>\n",
       "      <th>0</th>\n",
       "      <td>Artificial Intelligence, Non Profit, Online Games</td>\n",
       "      <td>NaN</td>\n",
       "      <td>OpenAI is a non-profit artificial intelligence...</td>\n",
       "      <td>OpenAI</td>\n",
       "      <td>https://www.crunchbase.com/organization/openai</td>\n",
       "    </tr>\n",
       "    <tr>\n",
       "      <th>1</th>\n",
       "      <td>Artificial Intelligence, Construction, Informa...</td>\n",
       "      <td>NaN</td>\n",
       "      <td>OpenSpace offers photo documentation which is ...</td>\n",
       "      <td>OpenSpace</td>\n",
       "      <td>https://www.crunchbase.com/organization/opensp...</td>\n",
       "    </tr>\n",
       "    <tr>\n",
       "      <th>2</th>\n",
       "      <td>A/B Testing, Developer Tools, Internet, Person...</td>\n",
       "      <td>NaN</td>\n",
       "      <td>Optimizely is the world's leader in customer e...</td>\n",
       "      <td>Optimizely</td>\n",
       "      <td>https://www.crunchbase.com/organization/optimi...</td>\n",
       "    </tr>\n",
       "    <tr>\n",
       "      <th>3</th>\n",
       "      <td>Autonomous Vehicles, Electric Vehicle, Machine...</td>\n",
       "      <td>NaN</td>\n",
       "      <td>Optimus Ride Inc. is a self-driving vehicle co...</td>\n",
       "      <td>Optimus Ride</td>\n",
       "      <td>https://www.crunchbase.com/organization/optimu...</td>\n",
       "    </tr>\n",
       "    <tr>\n",
       "      <th>4</th>\n",
       "      <td>Analytics, Data Visualization, Enterprise Soft...</td>\n",
       "      <td>NaN</td>\n",
       "      <td>OpenGov is the leader in government performanc...</td>\n",
       "      <td>OpenGov</td>\n",
       "      <td>https://www.crunchbase.com/organization/opengov</td>\n",
       "    </tr>\n",
       "  </tbody>\n",
       "</table>\n",
       "</div>"
      ],
      "text/plain": [
       "                                          Categories  ...                              Organization Name URL\n",
       "0  Artificial Intelligence, Non Profit, Online Games  ...     https://www.crunchbase.com/organization/openai\n",
       "1  Artificial Intelligence, Construction, Informa...  ...  https://www.crunchbase.com/organization/opensp...\n",
       "2  A/B Testing, Developer Tools, Internet, Person...  ...  https://www.crunchbase.com/organization/optimi...\n",
       "3  Autonomous Vehicles, Electric Vehicle, Machine...  ...  https://www.crunchbase.com/organization/optimu...\n",
       "4  Analytics, Data Visualization, Enterprise Soft...  ...    https://www.crunchbase.com/organization/opengov\n",
       "\n",
       "[5 rows x 5 columns]"
      ]
     },
     "execution_count": 4,
     "metadata": {
      "tags": []
     },
     "output_type": "execute_result"
    }
   ],
   "source": [
    "files_1 = os.listdir('Data-Science/csvs/')\n",
    "files_1 = os.listdir('Data-Science/crunchbase_csv/')\n",
    "\n",
    "df = pd.concat([pd.read_csv(f, error_bad_lines=False) for f in glob.glob('Data-Science/csvs/*.csv')], ignore_index = True)\n",
    "df_2 = pd.concat([pd.read_csv(f, error_bad_lines=False) for f in glob.glob('Data-Science/crunchbase_csv/*.csv')], ignore_index = True)\n",
    "df_big = pd.concat([df, df_2], ignore_index = True)\n",
    "\n",
    "print(df_big.shape)\n",
    "df_big.head()"
   ]
  },
  {
   "cell_type": "markdown",
   "metadata": {
    "colab_type": "text",
    "id": "FyvImWyw81hu"
   },
   "source": [
    "Final step in our preprocessing is to drop everything except the descriptions from the dataframe, and save that under a variable, so that we can pass it in to the model."
   ]
  },
  {
   "cell_type": "code",
   "execution_count": 0,
   "metadata": {
    "colab": {},
    "colab_type": "code",
    "id": "Np2VM1wUrQTy"
   },
   "outputs": [],
   "source": [
    "df_final = df_big.drop(['Organization Name URL', 'Organization Name', 'Description'], axis = 1)\n",
    "train = df_final['Full Description']\n",
    "train.to_csv('train.csv', sep = ' ', index = False, header = False)\n",
    "\n",
    "file_name = \"train.csv\""
   ]
  },
  {
   "cell_type": "markdown",
   "metadata": {
    "colab_type": "text",
    "id": "LK8aWnYIzVjD"
   },
   "source": [
    "## Parameter Tuning the Model\n",
    "Once a model is selected, even a pre-trained one, there are a variety of knobs and dials that can be turned in order to maximize the potential interaction between the dataset and trained text, in this text cell below we used the following:\n",
    "\n",
    "- __`dataset`__: points to the data you're using to prime the model(crunchbase records, about 180000)\n",
    "\n",
    "- __`accumulate gradients`__: decides how strong backpropagation will be by how many gradients to sum at a time(similar to max_depth in RF, default of 7, keep below 15)\n",
    "\n",
    "- **`steps`**: (epochs) This is the main parameter, and controls how many times should we pass our data back and forth through the machine (as much as your time will allow, diminishing returns past certain point)\n",
    "\n",
    "- **`run_name`**: designates the name of the checkpoint(zip file) that we can pull the model back out of if needed.  Saved in this will be the models exact state at the time.\n",
    "\n",
    "- **`only_train_transformer_layer`**: determines whether or not to do the full train(on structured/limited data) or a lighter train(for things like unstructured comments/text or large bulk data)\n",
    "\n",
    "as this runs it will sample the data every 100 steps, which means it will stop and generate some samples for you to check if anything is wrong.  It will also save to our checkpoint every 250, which is handy in case training is interrupted by need or chance! "
   ]
  },
  {
   "cell_type": "code",
   "execution_count": 0,
   "metadata": {
    "colab": {},
    "colab_type": "code",
    "id": "aeXshJM-Cuaf"
   },
   "outputs": [],
   "source": [
    "sess = gpt2.start_tf_sess()\n",
    "\n",
    "gpt2.finetune(sess,\n",
    "              dataset=file_name,\n",
    "              model_name='345M',\n",
    "              accumulate_gradients = 11,\n",
    "              steps=1500,\n",
    "              restore_from='fresh',\n",
    "              run_name='run1',\n",
    "              print_every=10,\n",
    "              sample_every=100,\n",
    "              save_every=250,\n",
    "              only_train_transformer_layers=False)"
   ]
  },
  {
   "cell_type": "markdown",
   "metadata": {
    "colab_type": "text",
    "id": "IXSuTNERaw6K"
   },
   "source": [
    "After the model is trained, you can copy the checkpoint folder to your own Google Drive."
   ]
  },
  {
   "cell_type": "code",
   "execution_count": 0,
   "metadata": {
    "colab": {},
    "colab_type": "code",
    "id": "VHdTL8NDbAh3"
   },
   "outputs": [],
   "source": [
    "gpt2.copy_checkpoint_to_gdrive(run_name='run1')"
   ]
  },
  {
   "cell_type": "markdown",
   "metadata": {
    "colab_type": "text",
    "id": "pel-uBULXO2L"
   },
   "source": [
    "## Load a Trained Model Checkpoint\n",
    "\n",
    "Running the next cell will copy the `.rar` checkpoint file from your Google Drive into the Colaboratory VM."
   ]
  },
  {
   "cell_type": "code",
   "execution_count": 0,
   "metadata": {
    "colab": {},
    "colab_type": "code",
    "id": "DCcx5u7sbPTD"
   },
   "outputs": [],
   "source": [
    "gpt2.copy_checkpoint_from_gdrive(run_name='run1')"
   ]
  },
  {
   "cell_type": "markdown",
   "metadata": {
    "colab_type": "text",
    "id": "RTa6zf3e_9gV"
   },
   "source": [
    "The next cell will allow you to load the retrained model checkpoint + metadata necessary to generate text.\n",
    "\n",
    "**IMPORTANT NOTE:** If you want to rerun this cell, **restart the VM first** (Runtime -> Restart Runtime). You will need to rerun imports but not recopy files."
   ]
  },
  {
   "cell_type": "code",
   "execution_count": 0,
   "metadata": {
    "colab": {},
    "colab_type": "code",
    "id": "-fxL77nvAMAX"
   },
   "outputs": [],
   "source": [
    "sess = gpt2.start_tf_sess()\n",
    "gpt2.load_gpt2(sess, run_name='run1')"
   ]
  },
  {
   "cell_type": "markdown",
   "metadata": {
    "colab_type": "text",
    "id": "cO5Z01fJLsvY"
   },
   "source": [
    "## Generate Text From The Trained Model\n",
    "After training the model or loading a retrained model from checkpoint, you can now generate text. `generate` generates a single text from the loaded model.\n",
    "\n",
    "<br>\n",
    "\n",
    "You can also pass in a `prefix` to the generate function to force the text to start with a given character sequence and generate text from there (good if you add an indicator when the text starts).\n",
    "\n",
    "<br>\n",
    "\n",
    "Other optional-but-helpful parameters for `gpt2.generate`:\n",
    "\n",
    "*  **`length`**: Number of tokens to generate (default 1023, the maximum)\n",
    "* **`temperature`**: One of the most influential parameters.  The higher the temperature, the crazier the text (default 0.7, recommended to keep between 0.7 and 1.0)\n",
    "* **`top_k`**: Limits the generated guesses to the top *k* guesses (default 0 which disables the behavior; if the generated output is super crazy, you may want to set `top_k=40`)\n",
    "* **`top_p`**: Nucleus sampling: limits the generated guesses to a cumulative probability. (gets good results on a dataset with `top_p=0.9`)\n",
    "* **`truncate`**: Truncates the input text until a given sequence, excluding that sequence (e.g. if `truncate='<|endoftext|>'`, the returned text will include everything before the first `<|endoftext|>`). It may be useful to combine this with a smaller `length` if the input texts are short.\n"
   ]
  },
  {
   "cell_type": "code",
   "execution_count": 0,
   "metadata": {
    "colab": {
     "base_uri": "https://localhost:8080/",
     "height": 1000
    },
    "colab_type": "code",
    "id": "4RNY6RBI9LmL",
    "outputId": "1e945d54-55d7-4ea9-a2fc-73da43c28f86"
   },
   "outputs": [
    {
     "name": "stdout",
     "output_type": "stream",
     "text": [
      "Consumers who use coupon code VENDED are automatically entered to win charity buys! Visit VendedOneBuy.com to enter to win.  Be sure to enter to win by using the right coupon code on the checkout page. Good luck! <|endoftext|>\n",
      "<|startoftext|>Departures are a new platform for digital communication built for travelers that creates an instant, safe and collaborative platform for travelers around the world to communicate and collaborate on their daily travel plans by connecting on destinations that offer cultural, historic, and fantastic environments. Departures use artificial intelligence to converse with travelers and generate recommendations that are shared with them based on their social media activity and other data sources. The company works with travelers around the world on a daily basis and then delivers an amazing gift – a way for travelers to travel and get inspired on their next adventure. Departures has raised $30 million in funding from some of Silicon Valley's most experienced venture capital firms as\n",
      "====================\n",
      "Phil Synthes is an English language learning company that offers online courses in business and entrepreneurship. Its courses are based in Panama, Hong Kong, Spain, Italy and Germany.  The company’s success is based on its quality, adaptability and on the fact that its courses are delivered in English curriculum with Spanish content. It has also developed a valuable online service, which enables its students to capture and share in the course material with their friends and fellow students. The company was established in 2016, and is based in Panama.<|endoftext|>\n",
      "<|startoftext|>PerceptiveVideo is an IQ video company, visual decoder and creator of the Mark It VC-backed Bright Future video platform. The platform enables media organizations, educators and the public sector to engage with their audiences through intelligent postproduction techniques and advanced lighting that deliver highly immersive video content.  The Mark It Vending Board approved of the lighting design and feasibility of the PerceptiveVideo system.  Per\n",
      "====================\n",
      "<|startoftext|>Vegetable Cycle Pharmaceuticals, a private biotech company developing best-in-class formulations of cancer vaccines and therapeutics for select cancer types based on its proprietary, patented Veggie Cycle DMP144™ Candid Allogeneic LungAMOP 294™ Candid Allogeneic LungAMOP 294™ is a veggie lung transplantation project, which is developing a new targeted delivery system for the four human Veggie Lung Transplantation Program (VLTP) recipients in the United States. Veggie LungAMOP 294™ is a four-component, human lung cell line described in the U.S. Food and Drug Administration (FDA) NICS Form ADVANCE for Veggie LungAMOP 144™, a four-component, human lung cell line. Veggie LungAMOP 144™ is a single-cell, 14β-estradiol-based delivery system for delivery of human lung cells to patients via an outpatient intramural route\n",
      "====================\n",
      "|<\n",
      "\n",
      "<|startoftext|>DeepTech was founded with a mission to enable individuals and institutions to transform how they discover knowledge.<|endoftext|>\n",
      "<|startoftext|>Dentint is the modern health care company. They are the only company that provides continuous, primary care dental services integrated with a patient-centered approach to care.They believe that dental care should be affordable, universal, and accessible to everyone. They are committed to building a dentistry accessible to all.<|endoftext|>\n",
      "<|startoftext|>Delicatessen is a privately-held, independent research company specialized in the design and manufacture of analytical instruments. The company was founded in 2003 to capitalize on breakthrough UGC process technologies. Today, Delicatessen delivers state-of-the-art analytical solutions in the laboratory and clinic, where they are recognized for their value toward improving clinical and public health standards of care.<|endoftext\n",
      "====================\n",
      "Overland Park, KS (Ousta Labs) is a data-driven, high-growth start-up that is building a unique set of computational tools that allows communities and organizations to rapidly create better predictions and achieve goals. Ousta is leveraging breakthrough computer science and engineering to enable greater predictability in city and neighborhood-level data. The company’s first product, PredictIt, a cloud-based, interactive forecasting software, taps the power of high-resolution GPS navigation for unprecedented predictability. Ousta is also developing a mobile app for iPhone and Android devices that transforms the city into a \"Cars Land\" experience, where residents can explore neighborhoods through automated car-mounted camera(“CAM), allowing for greater spatial awareness, and more reliable street-level predictions.  Ousta is funding-focused, with a 3-year, $14 million US research grant from the Army Research Office and a $2 million US Amazon Development Fund grant.</|end\n",
      "====================\n",
      "Sign Up for an NFL team you love to support while you still can. The NFL is a game where the stars and stripes rise, and you can't help but to follow. But just because you're following doesn't make you obligated to follow.  Followers are free to follow who they want, wherever they want, whenever they want, however they want to get their fix.  Stick to your schedule, stick to your diet, and stop following the crowd-count. Followers are here to entertain and entertain them will be followers. And once you've got that, introduce your new face to a world you won't believe.   🤢 From a behind-the-scenes perspective, Twilio is a software that helps businesses and organizations use artificial intelligence to up-skill and automate their followership management process. We're here to enable you to automate much of your follower management pain point. Find out how we work in the beautiful and mysterious world of Twilio.\n",
      "====================\n",
      "About\n",
      "\n",
      "Rollcar is a real time online commerce engine that talks to retailers and brands to find unique transaction opportunities, and deliver those offers to consumers right when they are close to them. When a brand’s online commerce efforts heat up, Rollcar lowers the prices they pay for goods and services, while increasing the volume of retail delivery they get from their distribution centers. The ability to do this is key to P&G’s strategy of making retail sales work for them.<|endoftext|>\n",
      "<|startoftext|><|endoftext|>\n",
      "<|startoftext|>Promise is the best way to make sure developers get the maximum return on their investment. The Promise Marketplace is your source for reliable help making your dream project a reality.<|endoftext|>\n",
      "<|startoftext|>Promotion Lending is a credit sales platform for independent contractors. It provides lenders with an innovative technology platform to support the lending\n",
      "====================\n",
      "Each month, Sweetgreen provides its customers with a variety of products and services to support their individual wellness goals and to make a positive impact on the communities they serve. For example, if you’re interested in losing weight, getting more sleep, or experiencing more emotions, Sweetgreen can help you through the many ways that your body adjusts to stress – including through a variety of insights, tips, and solutions for managing stress, managing stress reaction, and coping with anxiety. Whether you’re interested in dieting, getting more sleep, or feeling happier, knowing that youre helped every step of the way can make a big difference in making a habit change a regular occurrence.<|endoftext|>\n",
      "<|startoftext|>Shulman’s Vision is to attract the world's best talent and develop them to meet their industry-leading clients’ unique needs, while providing a great value to their communities. Through integrated business development, coaching and mentoring,\n",
      "====================\n",
      "AUSTIN, Texas (KXAN) -- A jury has awarded a total of $56 million to the family of five who were lost in an Austin construction accident in 2011. In a case that has become a symbol of road safety, eight-year-old Austin boy Warren was driving home from school one day when he saw a construction crew working on the side of the road. Thinking it was a strange sight, Warren swerved to avoid the construction vehicle and drove home worried. Fortunately, the construction worker's life was spared because he was sitting in the car after all. After an extensive investigation, the Austin Fire Department discovered that the construction worker's name is Warren and he was driving home with his family on the day the accident occurred. Officer Warren is survived by his father, Gregg, and his mother, Jan.A. Gregg. Officer Warren was born and raised in Austin, Texas and graduated from Austin Southern College in 2011. Officer Warren was a first-year student at the University\n",
      "====================\n",
      "Pick your poison: It's time for the real world to experience your ideas.  Our world is filled with people who are experts in various fields, yet you can't seem to find anything that interests you.  Why? Because you just can't seem to decide what to do with your time.  Are we missing something important?   Do you have ideas about growing your business?  Do you have ideas for marketing?  Do you have ideas for advertising?     You name it, we've got it. Share them with other like-minded Individuals, and bring a few bucks with you as a gift so you can Austrolize your own passion.<|endoftext|>\n",
      "<|startoftext|>PainDreams is a dream-sharing website that allows users to share and enjoy physical, emotional and creative dreams. It also provides listeners with dream audio stories, and provides sleep coaching services. The company was founded in 2010 and is based in Austin,\n",
      "====================\n",
      "<|startoftext|>randombrew is a team of technologists, designers, and innovators building custom mobile operating systems with a focus on building custom operating systems for smart phones and tablets. They are building the world's first large-scale, custom operating system for smartphones and tablets, and the only complete mobile operating system built for each specific platform. Their goal is to deliver a highly immersive mobile experience that will transform the way people interact with their mobile devices throughout their lives. Their vision is to build the world’s most immersive operating system for smartphones and tablets, and to make this experience work for them, for their users, and for the devices they already have. They believe that, one day, people will wake up confidently knowing that their smartphone or tablet has the best operating system on the market. With their mission in mind, they are combining industry-leading technologies with cutting-edge design and engineering to bring the world’s most innovative operating systems to people’\n",
      "====================\n",
      "Coming today, NICHD is the first certification in the world that will enable healthcare providers, in the virtual environment, to make accurate health assessments from their own personal computers! Through our innovative, patent pending, technology, NICHD-certified healthcare providers have a superior user experience and transparent visibility of health metrics across the ERP value chain. NICHD is a Win-Win-Win solution for healthcare providers and their patients. We are transforming the way healthcare is delivered, transforming patient and provider workflow, reducing costs and improving health outcomes. NICHD is based on Dell PrecisionMark, an industry leading x-premise Precision Graphics architecture with integrated digital GPU, and IBM's x86 Floating Point Machine (PFM) technologies. Our platform provides value-based, real-time performance monitoring, predictive health analytics and decision support for healthcare applications in a user-friendly user interface. By aligning healthcare with its value-based goals, NICHD allows for better value-based decision support, and ultimately better\n",
      "====================\n",
      "PHABLE offers companies and individuals with advanced technology and their solutions that are transforming the way their companies and individuals do business. We are on a mission to create value by using technology in the most creative and efficient way.  PHABLE Collaborate offers a suite of products and capabilities that accelerate business processes, catalysts, and solutions to achieve innovative business goals. We have developed a number of proprietary solutions that allow companies and individuals to manage, analyze, track, and measure their data, processes and programs more effectively, resulting in more profitable, customer-facing, shareholder-focused outcomes.  PHABLE has a presence in over 40 countries across its award-winning partner networks. And today, PHABLE continues to be one of the leading cloud data providers in the financial services industry. For more information, visit www.phable.com or follow us on Twitter @phabledotcom.<|endoftext|>\n",
      "<|startoftext|>Pseudo is a privately-held cybersecurity\n",
      "====================\n",
      "(Image: ©iStockphoto.com) …and since then, the site has evolved into an online platform that allows individuals to buy and sell residential property, and more.   Owners of properties can list their needs on the site, and receive personalized recommendations from experts on the property market.   Many of the real estate deals on the site are in the final stages of closing, and it is a good bet that you will see many of the featured deals on the site as the day goes by.  In the mean time, you can browse through collections of home improvement and construction projects that are currently active in your neighborhood, as well as the newest projects, news, and deals in the area.  At Homescents, we believe that the best home improvement sites are built with community and enthusiasm. We don't want our site to be \"just for home,\" so we’ll put it here where we’ll make sure that we’re making things as\n",
      "====================\n",
      "|<\n",
      "\n",
      "<|startoftext|>Promentia is a rapidly growing cloud computing provider, which is great news for small and medium-sized businesses and consumers looking for low cost, reliable access to high-performance computing capacity. Promentia is owned & operated by the global leadership team in enterprise software and cloud services. Promentia provides an array of complete business, cloud, and technical support for its customers. Together, they serve more than 430,000 enterprise customers in over 190 countries and more than 14,000 consumer businesses in over 162 countries. Promentia is headquartered in San Jose, California. The company is backed by Accel, SAP, VMware, Oracle, DigitalOcean and Xilinx. For more information, visit promentia.com.<|endoftext|>\n",
      "<|startoftext|>PathAI is building the industry’s most comprehensive data science platform to provide real-time, contextual insights and intelligence that dramatically improve path\n",
      "====================\n",
      "The company was built to enable doctors to deliver better patient care by enhancing patient monitoring and communication. In doing so, we came to realize that our own skills as health providers were often lacking. Through the use of mHealthCare's platform and software, we have enabled more than 15,000 physicians across the country to better support and facilitate their staff as they serve their patients.<|endoftext|>\n",
      "<|startoftext|>PumaPay is a world's first, fully-licensed, bitcoin-enabled utility bill payment service provider. We accept bitcoin, cryptocurrency, and blockchain payments on our website and mobile apps, providing fast, seamless, secure, private, and compliant payment solutions. PumaPay was founded in 2018 and is headquartered in London, England.<|endoftext|>\n",
      "<|startoftext|>The Public Payment Platform (PPP) is a fully regulated alternative payment solution that helps organisations make money from users. PPP is based in San Francisco\n",
      "====================\n",
      "|<\n",
      "\n",
      "<|startoftext|>Their focus is not making money off of your failures, but rather helping you build great habits and getting you back on track.They pick the tools you use to build your tools and use them to build amazing solutions you haven't thought of. They use their Data-Driven Processes to identify patterns and insights in your own environment with which to build great products and services. They use their accelerated technology to provide you with new tools and ideas that make your problems easier to solve.<|endoftext|>\n",
      "<|startoftext|>Reverb introduces the only complete reverb and imaging platform designed to give you unprecedented sound quality and lifelike texture. Our proprietary technology combines advanced optical and acoustic sensors to precisely control your signal levels. Reverb is the only reverb solution for acoustic instruments and effects that delivers real time, total volume level control and lifelike behavior. Reverb is used by the world’s\n",
      "====================\n",
      "Men’s Health MD is a private, non-profit medical device company dedicated to improving patient care with diagnostics and laboratory services. In 2010, Men’s Health MD began offering its products through a network of community pharmacists. As the first commercial pharmacy company to offer HPV testing through a web-based solution, Men’ Health MD has established itself as an advocate for patient education and greater adherence to pharmaceutical practice guidelines. The company’s initiatives have resulted in significant improvements in patient outcomes and treatment adherence, with significant savings for Men’s Health MD and for the patients who depend on our services.<|endoftext|>\n",
      "<|startoftext|>ModFactory is the cloud-based platform that enables building, hosting, and managing large-scale, scalable, and reliable datacenters and cloud platforms. It supports the creation of virtual and cloud infrastructure for a variety of applications, including databases, storage, applications and data centers, web services,\n",
      "====================\n",
      "“Puzzles are great for building and learning complex algorithms but what a pain in the ass learning and applying them. In this post I'm going to show you how you can reinvent the learning process with playful AI tools that make it fun and easy to use. At Pluristem they're bringing an exciting new way to program by breaking free from the box and building your own circuit. With Pluristem, you can build engaging and complete computational adventures that last. I doubt very much that most of you have spent an entire weekend programming algorithms. But you can have them all wrapped up in a few short weeks. Pluristem is similar to coding bootcamps where students spend one-on-one time with industry veterans helping them to become better at something incredibly difficult. Pluristem is also like learning a new language or two but with absolutely no effort. You just sit back, relax and let Pluristem take you on.  I mean seriously,\n",
      "====================\n",
      "Media playback is unsupported on your device Media caption Terry Delongue reports on the progress of the team as they try to find a cure for cancer\n",
      "\n",
      "A US genetic researchers has developed a small gene therapy that targets a protein inside the tumour cells that can make them self-destruct.\n",
      "\n",
      "The small molecule, called KS288, is expected to be used once in a patient with head or neck cancer and then be spread to other parts of the body containing cancer cells.\n",
      "\n",
      "University of California, San Francisco (UCSF) scientists say the tweak in the protein, which activates a chemical response, could allow doctors to kill cancer cells without harming healthy cells within the tumour.\n",
      "\n",
      "They describe the small molecule in the journal Science.\n",
      "\n",
      "The UCSF school of medicine has been at the core of a scientific revolution that has brought safe and effective treatments for genetic disorders since 1953. They believe their small molecule approach will allow people with rare inherited diseases to get better sooner.\n",
      "\n",
      "====================\n",
      "|<\n",
      "\n",
      ">\n",
      "\n",
      ">\n",
      "\n",
      ">\n",
      "\n",
      ">\n",
      "\n",
      ">\n",
      "\n",
      ">\n",
      "\n",
      ">\n",
      "\n",
      ">\n",
      "\n",
      ">\n",
      "\n",
      ">\n",
      "\n",
      ">\n",
      "\n",
      ">\n",
      "\n",
      ">\n",
      "\n",
      ">\n",
      "\n",
      ">\n",
      "\n",
      ">\n",
      "\n",
      "<|startoftext|>Param.ai is a software company that offers automation solutions for rigid point-of-sale, billing, automation, and cybersecurity. Param.ai makes it possible to automate the processes that affect businesses today. Its automation software makes them easier to manage, safer, and more efficient. Param.ai was founded in 2016 and is headquartered in Chennai, India.<|endoftext|>\n",
      "<|startoftext|>Privia Innovation is a startup company in Brazil. It was founded in 2015 to improve the living standards of the poor in Brazil by creating environment and energy efficient cars, sustainable mobile phones and smart devices, articles and magazines, and smart TVs.  In 2017, they achieved a total\n",
      "====================\n",
      "|<\n",
      "\n",
      ">\n",
      "\n",
      "<|startoftext|>Root Network (formerly known as Zinedove) is a full-stack, cloud-enabled, peer to peer (p2p) telecommunication platform for content, communication, on-demand video streaming, internet video, and file storage. RootPOP enables organizations to use its proprietary peer to peer video transport (POPOV) protocol on their network edge and through its products to deliver cloud-based, enterprise-wide video and data services. The Root Platform includes Root IP, Root Cam, Root Geo, Root Geo Geo Hybrid, Root Geo XO, Root Geo Pro, Root Netflix, Root Nectar, Root Public Internet, Root Public Internet HD, Root One Universal, Root One Universal, Root One XO, Root HD Video, Root HD Video (HD 4K), Root Web, Root Web HD, Root HD Video, Root Web HD, Root One,  and other popular codecs and tags.\n",
      "====================\n",
      "Story highlights \"It starts with a simple idea: love,\" says the company\n",
      "\n",
      "(CNN) — The #1 online travel agency for single travelers, Expedia aims to help you discover the most interesting flights, hotels, activities and places around your world.  After all, it “prays” that you will too.    With Expedia, travelers can search for the best deals in their location-based travel section and easily see which countries have more deals each day or which features have the best offer -- both when they are traveling by the destination and which countries have the best business climates.)<|endoftext|>\n",
      "<|startoftext|>Our goal as an airline is to create the best travel experiences for our passengers, that’s why we work hard to make our mission a reality every day by matching travelers with the best deals around the world. To achieve this goal, we do some of the hardest work of cross-matching airlines\n",
      "====================\n",
      "|<|startoftext|>Reading Rainbow provides free eBooks, eNewsletters, and media and educational resources for children and young readers. It offers The Printer's Editions, a collection of over 250 classic stories for young readers from across a decade. It also offers Reading Rainbow eBooks, including five eBooks per month for individuals and a weekly eNewsletter that includes news, tips, and other pre-eminent books for young readers and adults. Reading Rainbow is distributed across more than 150 languages with translations available for over 4,000 different authors. The company was founded in 1997 and is based in Cambridge, Massachusetts.<|endoftext|>\n",
      "<|startoftext|>Recvify is an AI-powered cloud enterprise resource planning and analytics platform that provides cloud customers with real-time data insights and insights that make work easier. Their solutions are used every day by over 35,000 customers in over 100 markets around the world. Their solutions are used every day\n",
      "====================\n",
      "A versatile low emissions power system designed to support a variety of teams in an environmentally friendly and cost-effective manner. The Sunsol® Technology Platform can be integrated into almost any climate control project, from residential and commercial appliances to heating and cooling systems, telecommunication equipment and solar systems, commercial vehicles, and even large industrial plants.  Sunsol has been developed based on extensive research carried out at the University of Illinois at Urbana-Champaign and has significant support from the DOE Office of Science.  Sunsol has received numerous awards for its innovative technology including the Department of Energy's \"Top Ten Innovations\" ranking for 2013, the \"Communications Hub\" award for 2014, and the EPA's \"Outstanding Compliance Design Engineer\" award for 2015. Sunsol is currently working with a number of outside organizations on innovative solar technologies, including an energy market provider, a government agency, and utilities. Developers can expect to see Sunsol products in the near future.<|endoftext|\n",
      "====================\n",
      "|<\n",
      "\n",
      "<|startoftext|>DECKER is a complete — and easy to use --- digital money transfer platform. The Deckers stand out from other online transfer services by enabling consumers to electronically transfer money from their bank account to their Pay at the kiosk or POS at their door, directly paying for goods and services purchased for them at the end of the day.<|endoftext|>\n",
      "<|startoftext|>DeepCoding is an engineering consulting company that provides its users with software and design skills acquired from various industry disciplines. It also provides the operational experience needed to effectively manage engineering talent. DeepCoding was founded in 2015 and is headquartered in San Francisco, California.<|endoftext|>\n",
      "<|startoftext|>DeepCoding is an engineering consulting company that provides its users with software and design skills acquired from various industry disciplines. It also provides the operational experience needed to effectively manage engineering talent. DeepCoding was founded in\n",
      "====================\n",
      "<|startoftext|>Phonepot helps people easily find and book in-store phone services. Customers receive a personalized in-store experience. We change the way people interact with retailers.<|endoftext|>\n",
      "<|startoftext|>Driveclub is an online sharing app for car enthusiasts and allows anyone to share their car, discover shared experiences, measure and compare their own cars, and chat about their car experiences.<|endoftext|>\n",
      "<|startoftext|>Pliant is the most comprehensive online service for buying, selling, and managing residential property.  It amassed over a billion mileÙs (1.5 billionkm²s) of data in the space of just over a year, making it the most comprehensive property site in the world. Pliant, partnered with the Ministry of Planning, includes the worlds most extensive property market data, news, and market information, spanning 57,000 professional property dealers, as well as over 1\n",
      "====================\n",
      "advertisement\n",
      "\n",
      "advertisement\n",
      "\n",
      "A secure online communications platform, providing end to end encryption and strong protocol security.  Eric Schmidt, the former CEO of Google and current Chairman and Former CEO of HPE, founded Signal in 2005. The company is headquartered in Mountain View, California, United States.<|endoftext|>\n",
      "<|startoftext|>PercentageJam is building the next video technology platform to replace composite video as the main format for online communication. Incorporating video and R&B, PercentageJam's technology is transforming the way in which content is delivered to audiences, advertisers, partners, and users around the world. Since it’s founding in 2012, percentagejams.com has developed innovative technology that powers a variety of interactive advertising campaigns for digital publishers, fast-growing startups, media companies, and civic organizations. It has its headquarters in San Francisco, California and has regional offices in New York, Los Angeles, Chicago, Washington DC, Dallas and Austin\n",
      "====================\n",
      "Should you be looking for a new pet expert or just want to start a conversation, our online services are here to help. Whether you're looking for a pet expert to help you with your pet problem or you just want to chat with someone about adopting, our services are there to help. We're here to answer any questions that arise, whether you're talking about adopting, pet sharing, adoption, adopting a new pet, or just finding a new friend.<|endoftext|>\n",
      "<|startoftext|>DeepWhite is an AI company that aims to revolutionize the way customers and researchers interact with the physical world around us. Using machine learning and data analytics, DeepWhite enables its users to better understand and control natural phenomena like volcanic activity, seismic activity, and earthquake activity. It also provides customers with innovative solutions to those phenomena, such as earthquake risk prediction, geo-referencing and cloud-based data-preserving technologies. The company was founded in 2015 and is\n",
      "====================\n",
      "|<\n",
      "\n",
      "<|startoftext|>Howdy! We are a small team of technologists with a big passion for technology, design, and design!  We believe that great products should be simple to make and awesomely simple to use. That's why we built u8m(tm)! u8m is a wonderful way to make your favorite products even better. Simple, yet powerful - our goal is to inspire, not restrict. u8m’s product suite empowers you to identify and eliminate opportunity, whether it be through better design, better use of your money, or smarter tools powering the design process. A product that empowers is an understatement! We’ve taken the best design and usability practices and applied them to create something uniquely u8m. With u8m you can easily identify and eliminate opportunities for your company or product.  We’re always changing and learning more, so be sure to check back often! Thanks for stopping\n",
      "====================\n",
      "<|startoftext|>OncoInnovation Inc is a privately held biotechnology company with a mission to develop transformative treatments for non-alcoholic steatohepatitis/oleophila. OncoInnovation is focused on transforming oncology by bringing rapidly-derived therapeutic ingredients and therapies to dermatology for treatment. OncoInnovation’s pipeline includes therapies for psoriasis, advanced fibrosis, and monoclonal antibodies. The company envisions a therapeutic approach that will result in significant improvement in patients with non-alcoholic steatohepatitis/oleophila, including a reduced frequency and severity of symptoms, a more responsive treatment plan with better patient compliance, and a more effective associated health care. OncoInnovation is currently developing novel cytostatic agents for the treatment of steatosis neuritis and chronic inflammation.  OncoInnovation has entered into an exclusive license agreement with A. James Campbell Cancer Institute to\n",
      "====================\n",
      "Causes breast cancer? We believe that with enough information, women can make better decisions about how to reduce their risk of developing the cancer they want. Our cancer research is based on science and we share the vision that understanding the causes of breast cancer can help women take steps to reduce their risk, and ultimately reduce their burden of the disease. Our cancer genetic research centers combine science with cutting-edge clinical genomic testing to discover and validate important information about a risk factor for the disease we all carry. Our mission is to identify and prevent the cancer we all carry, and to make that risk visible to both women and men so they can make better health decisions.<|endoftext|>\n",
      "<|startoftext|>Deciphera Biotechnology was founded in 1998 with a mission to revolutionize cancer biology by efficiently identifying and activating novel therapeutic targets in the cancer microenvironment. Our approach utilizes a unique self-sizing strategy for small RNA therapeutics, which we believe will allow us to target\n",
      "====================\n",
      "|<\n",
      "\n",
      "<|startoftext|>Onbreeze provides an AI-powered creative and performance analytics platform for video made by people. The Onbreeze application programming interface analyzes dynamic video content to uncover meaningful insights about people and the world around us.  Video on Demand products are optimized for consumption on high-resolution, interactive devices such as mobile and desktop computers, set-top boxes, set-top boxes connected to viewing services like DVR and streaming services, and cloud services like Amazon Fire TV, Tesla Drive, and Twitch. Real-time analysis of video on demand content provides artist, publisher, and content creators with valuable real-time insights that drive significant revenue opportunities.  Onbreeze has been acquired by Instacart, a business-standards-compliant provider of cost-effective, feature-rich enterprise video infrastructure.<|endoftext|>\n",
      "<|startoftext|>Onsemple is building the next virtual desktop platform\n",
      "====================\n",
      "|<\n",
      "\n",
      "<|startoftext|>Playtika offers Value-Added, Content-Based Advertising solutions for brands and retailers. Its solutions enable brands to deliver tailored, engaged, highly-effective digital advertising campaigns based on their individual audience insights. Playtika’s solutions include segmentation, programmatic targeting, display and presentation, cross-device synchronization, presentation and presentation-as-a-service (DaaS), and data-driven analytics.  Playtika has partnerships with Bose, Chevrolet, Dell, Forbes, General Electric, Heineken, and Samsung among its customers. A broader range of clients include leading global brands in financial services, media, healthcare, technology, automotive, lifestyle, education, and advertising as well as retailers and brands in North America, Latin America, and Asia.  Playtika solutions are deployed globally by more than 170 advertisers and media companies and is deployed in 50+ languages with more than 1000+ developers from 50+\n",
      "====================\n",
      "Structure of Products and Services Provider - The structure of the service provider entity is very important in understanding the capabilities of the platform. Businesses need to understand what services they are getting into, and how those services are delivered.<|endoftext|>\n",
      "<|startoftext|>Destiny is a first-person shooter video game developed by [Bungie](https://www.crunchbase.com/organization/bungie-software) and published by [Activision](https://www.activision.com) and [Microsoft](https://www.activision.com) on [August 5, 2013]. Players are able to act as guardians of the last city on earth with incredible power. They are able to explore the ancient ruins of their solar system from the red dunes of Mars to the jungles of Venus. They are able to do this by finding unique and powerful artifacts called \"Labs of Destiny\" scattered across the universe. As they\n",
      "====================\n",
      "| Start of Article | Next of Kin\n",
      "<|startoftext|> Wawa USA, LLC was founded in 1997 with a mission to design, manufacture, and distribute durable, high quality food service and beverage products in the United States. Founded in Boston, Massachusetts Wawa USA, LLC is a wholly-owned subsidiary of Wawa Group, Japan’s largest convenience store operator, with further subsidiaries in several states. Wawa USA, LLC is a wholly-owned subsidiary of Wawa Group, an international convenience store operator. Wawa USA, Japan’s leading Japanese wholesalers and factory retailers, is responsible for the product design and development of several of Japan’s food-service brands and a number of other premium food products, including Daiya, Mai Taipani, and Del Taco. Wawa USA, LLC continues to carry out this mission through design, manufacture, marketing and service of its products. The company also designs and produces specialty food products for\n",
      "====================\n",
      "|<|startoftext|>Waiter.com's Virtual Cafe features a full menu of services, including breakfast, lunch and dinner menus, cocktail hour, select gift cards, home delivery, storage, delivery, delivery options, storage & catering, gift card payments, and more. It is a virtual ordering interface for your convenience.  Hungry for more? Just ask!  Waiter is completely free to use and connects you with thousands of restaurants and retailers across the UK.<|endoftext|>\n",
      "<|startoftext|>WatchTower Bank was founded to build and deliver a unique and innovative digital governance platform intended to deliver the kind of organisation that everyone wants and expects.  WatchTower Bank offers digital governance solutions that empower users to deliver better business decisions, engage in competitive markets, and acquire and hold assets in an efficient manner.<|endoftext|>\n",
      "<|startoftext|>Waterhound is an American bottled water brand that was founded in\n",
      "====================\n",
      "Media coverage: http://www.delaware.com/about/media-releases/press-releases/2017/11/delaware-completes-first-ever commercial-incubator. . .<|endoftext|>\n",
      "<|startoftext|>Delair creates technologies that allow divers to repeat their first dive of a new expedition without spending an arm and a leg. They charge a small monthly subscription fee to guarantee access to their site and their services. It’s a simple contract to allow divers to have access to their shop and their services. The subscription also provides divers with a great experience with a trustworthy brand.<|endoftext|>\n",
      "<|startoftext|>Delair.ai is an AI Driven Medical Intelligence Platform that is transforming the reliability and accuracy of clinical laboratory services. Our delivery systems use Artificial Intelligence (AI) to replace human agents in a variety of different critical areas. Our systems take\n",
      "====================\n",
      "text\n",
      "\n",
      "Platform 2: DTM's smartest next generation network technology. Optimizing access for businesses and consumers on two screens, Platform 2 eliminates bottlenecks between content consumption and mobile data and delivers cutting-edge mobile viewing experiences.<|endoftext|>\n",
      "<|startoftext|>Powered by Data2Vision, Pixlee helps high growth businesses efficiently access advanced computer vision and video data with computational intelligence.  Our software automatically creates intelligent video presentations based on your data. Simply set up your footage and let Pixlee do the rest. Get creative, build amazing tech things. Raise data and make things happen.  Pixlee is based on data from your cameras, smartphones, and connected devices.  It learns from your footage and other sources to create rich, actionable visualizations. Learn more at https://www.pi-vision.com/ and follow us @pi_vision on Twitter.<|endoftext|>\n",
      "<|startoftext|>\n",
      "====================\n",
      "|<\n",
      "\n",
      ">\n",
      "\n",
      "Hello Rocksmith fans! We are a very excited and humble group of audiophiles developing a new way to play your songs live with our on-board audio technology. We call it 'Rocksmith Live'. In short, Rocksmith Live is a digital conversion process in which you convert our songs into beautiful, playable digital tracks on your iPhone, iPod touch or Android device. We have developed a technology in which we can convert any physical trackable instrument, such as a guitar, bass, banjo, mandolin or electric guitar, into a magical digital sound. You will notice that we use real technology on our devices. We are not tinkering away in our bedrooms. We are Rock Band and we are making this possible by bringing creative professionals like you – the musicians - into our studio and onto our stage. We are one step closer to realizing the dream of the band – to make music as accessible as can be. We are developing a Rocksmith-\n",
      "====================\n"
     ]
    }
   ],
   "source": [
    "gpt2.generate(sess, \n",
    "              run_name='run1',\n",
    "              length = 200,\n",
    "              batch_size = 20,\n",
    "              temperature = 0.9, \n",
    "              nsamples = 40)"
   ]
  },
  {
   "cell_type": "markdown",
   "metadata": {
    "colab_type": "text",
    "id": "7MfpeppaL-JA"
   },
   "source": [
    "For bulk generation, we can generate a large amount of text to a file and sort out the samples locally on our computer. The next cell will generate a generated text file, process it just a bit, and then turn it into a .csv to pass along to the next step."
   ]
  },
  {
   "cell_type": "code",
   "execution_count": 0,
   "metadata": {
    "colab": {},
    "colab_type": "code",
    "id": "PurgNSb71dSn"
   },
   "outputs": [],
   "source": [
    "gen_file = 'gpt2_gentext.txt'\n",
    "\n",
    "gpt2.generate_to_file(sess,\n",
    "                      destination_path=gen_file,\n",
    "                      length=300,\n",
    "                      temperature=0.9,\n",
    "                      nsamples=5000,\n",
    "                      batch_size=20\n",
    "                      )\n",
    "\n",
    "files.download(gen_file)\n",
    "\n",
    "with open('gpt2_gentext.txt', 'r') as in_file:\n",
    "  desc = [line.strip('=*') for line in in_file]\n",
    "df = pd.DataFrame({'descriptions':desc})\n",
    "df.to_csv('log.csv')"
   ]
  },
  {
   "cell_type": "markdown",
   "metadata": {
    "colab_type": "text",
    "id": "mYpy53dZzyUV"
   },
   "source": [
    "# Post Processing\n",
    "\n",
    "The GPT-2 outputs fake company descriptions however they require cleaning and culling to boost the signal to noise ratio. Without this post processing we end up with a higher number of descriptions like:\n",
    "```\n",
    "CITY of Design is a UK company with offices in London, London, London, and Paris. The company was established in 1864 and is headquartered in London, England.\n",
    "```\n",
    "While the description is readable and almost believable it does not encode the type of information we care about, descriptions of problems companies are solving. Once descriptions pass through post processing, we don't entirely eliminate low value descriptions but do end up surfacing more descriptions with a higher level of value encoded in them, such as:\n",
    "```\n",
    "Omise is a modern software company that offers a suite of guest analytics and compliance tools for hotels, industry leaders in the areas of guest engagement, guest satisfaction, and hotel productivity.  Omise's mission is to help improve the guest experience by enabling smarter guest decisions throughout the guest-centric economy. \n",
    "```"
   ]
  },
  {
   "cell_type": "markdown",
   "metadata": {
    "colab_type": "text",
    "id": "wd0zvVFZLtTC"
   },
   "source": [
    "## Imports and Functions"
   ]
  },
  {
   "cell_type": "code",
   "execution_count": 0,
   "metadata": {
    "colab": {},
    "colab_type": "code",
    "id": "UE_psTL8KZZo"
   },
   "outputs": [],
   "source": [
    "import pandas as pd\n",
    "import spacy\n",
    "from spacy import displacy\n",
    "from collections import Counter\n",
    "import en_core_web_sm\n",
    "nlp = en_core_web_sm.load()"
   ]
  },
  {
   "cell_type": "markdown",
   "metadata": {
    "colab_type": "text",
    "id": "izISLR7RCZu3"
   },
   "source": [
    "### Supporting Functions\n",
    "- get_csv: Pull in CSV of generated descriptions and perform minor cleanup\n",
    "- cleanup: Cleans output from gpt-2, start/end of description markers left in the CSV\n",
    "- long_word: Flags if a description has a word over a given length\n",
    "- remove_stop_words: Remove default spacy stopwords and punctuation from a description\n",
    "- remove_stop_phrases: Remove phrases that encode little to no value in generated descriptions"
   ]
  },
  {
   "cell_type": "code",
   "execution_count": 3,
   "metadata": {},
   "outputs": [],
   "source": [
    "def get_csv(csv_path):\n",
    "  '''Pull in CSV of generated descriptions and perform minor cleanup'''\n",
    "  df = pd.read_csv(csv_path)\n",
    "  \n",
    "  df = df[df['descriptions'].str.startswith('<|startoftext|>') & \n",
    "          df['descriptions'].str.endswith('<|endoftext|>\\n')]\n",
    "  df['descriptions'] = df['descriptions'].apply(cleanup)\n",
    "  df = df.drop('Unnamed: 0', axis=1).reset_index(drop=True)\n",
    "  \n",
    "  return df[df['descriptions'] != '']"
   ]
  },
  {
   "cell_type": "code",
   "execution_count": 4,
   "metadata": {},
   "outputs": [],
   "source": [
    "def cleanup(desc):\n",
    "  '''Cleans output from gpt-2, start/end of description markers left in'''\n",
    "  desc = desc.replace('<|startoftext|>','').replace('<|endoftext|>\\n','')\n",
    "  return desc.strip()"
   ]
  },
  {
   "cell_type": "code",
   "execution_count": 5,
   "metadata": {},
   "outputs": [],
   "source": [
    "def long_word(desc, length=20):\n",
    "  '''Return True if description contains words too long'''\n",
    "  for word in desc:\n",
    "    if len(word) >= length:\n",
    "      return True\n",
    "  \n",
    "  return False"
   ]
  },
  {
   "cell_type": "code",
   "execution_count": 6,
   "metadata": {},
   "outputs": [],
   "source": [
    "def remove_stop_words(desc, nlp):\n",
    "  '''Remove default spacy stopwords and punctuation from a description'''\n",
    "  spacy_stopwords = spacy.lang.en.stop_words.STOP_WORDS\n",
    "  \n",
    "  doc = nlp(desc)\n",
    "  tokens = [token.text \n",
    "            for token in doc \n",
    "            if not token.is_stop and not token.is_punct]\n",
    "\n",
    "  return tokens"
   ]
  },
  {
   "cell_type": "code",
   "execution_count": 7,
   "metadata": {},
   "outputs": [],
   "source": [
    "def remove_stop_phrases(desc):\n",
    "  '''Remove phrases that encode little to no value in generated descriptions'''\n",
    "  stop_phrases = ['founded by', 'is based in', 'was founded in', \n",
    "                'is headquartered in', 'headquarters in', 'developed by',\n",
    "                'developed in', 'additional offices', 'germany',\n",
    "                'france', 'china', 'california', 'india', 'wholly-owned'\n",
    "                'silicon valley', 'san francisco', 'established in',\n",
    "                'mountain view', 'family owned', 'family-owned', \n",
    "                'clients include', 'argentina', 'brazil', 'chile', 'colombia', \n",
    "                'japan', 'korea', 'malaysia', 'mexico', 'subsidiary',\n",
    "                'formerly known as', 'venture capital', 'for more information',\n",
    "                'new york', 'united states', 'u.s.', 'u.s.a']\n",
    "  \n",
    "  for phrase in stop_phrases:\n",
    "    desc = desc.replace(phrase,'')\n",
    "    \n",
    "  return desc"
   ]
  },
  {
   "cell_type": "markdown",
   "metadata": {
    "colab_type": "text",
    "id": "5nCHS4nV4Awk"
   },
   "source": [
    "### Word Frequency\n",
    "This function is the main filter for the post processing. The idea is to assign a frequency score representing the  occurrence rate of unique words while also penalizing the words and phrases the are indicative of low value descriptions. This de-emphasizes descriptions that involve company location, founders, heavy repetition, and similar indicators of unessential information."
   ]
  },
  {
   "cell_type": "code",
   "execution_count": 8,
   "metadata": {},
   "outputs": [],
   "source": [
    "def word_freq(desc, nlp):\n",
    "  '''Return frequency of unique words not in stopwords/phrases'''\n",
    "  full_desc_len = len(str(desc).split())\n",
    "\n",
    "  desc = remove_stop_phrases(str(desc).lower())\n",
    "  desc = remove_stop_words(desc, nlp)\n",
    "\n",
    "  # Calculate unique word frequency, return 0 if description is too small\n",
    "  if ((len(desc) < 10) | (long_word(desc))):\n",
    "    return 0\n",
    "  return len(set(desc)) / full_desc_len"
   ]
  },
  {
   "cell_type": "code",
   "execution_count": 9,
   "metadata": {},
   "outputs": [],
   "source": [
    "def reduce_by_word_freq(df):\n",
    "  '''Reduce df size by narrowing word frequency range'''\n",
    "  lower = df['word_freq'].median()\n",
    "  upper = df['word_freq'].median() + df['word_freq'].std()\n",
    "\n",
    "  return df[(df['word_freq'] > lower) & (df['word_freq'] < upper)]"
   ]
  },
  {
   "cell_type": "markdown",
   "metadata": {
    "colab_type": "text",
    "id": "GkSCgBmx6O2A"
   },
   "source": [
    "### Entity Frequency\n",
    "The secondary filter utilizes named entity recognition (NER) to assign another frequency score. An entity is a word or phrase that represents a real world object/concept such as an organization or a date. By looking for entities indicating low value and tuning for a low frequency we can further narrow the field of fake descriptions and boost the signal to noise ratio."
   ]
  },
  {
   "cell_type": "code",
   "execution_count": 0,
   "metadata": {
    "colab": {},
    "colab_type": "code",
    "id": "UYNPLi7HVQHS"
   },
   "outputs": [],
   "source": [
    "def entity_freq(text, nlp):\n",
    "  '''Return frequency of low value entities'''\n",
    "  doc = nlp(text)\n",
    "  count = 0\n",
    "  \n",
    "  # Use SpaCy to find entities and count low value ones\n",
    "  for X in doc.ents:\n",
    "    if (X.label_ in ['ORG', 'DATE', 'PERSON', 'TIME', 'PERCENT', 'MONEY']):\n",
    "      count += 1\n",
    "      \n",
    "  return count/len(text.split())"
   ]
  },
  {
   "cell_type": "markdown",
   "metadata": {
    "colab_type": "text",
    "id": "E8ZAjp7688CL"
   },
   "source": [
    "### Further Selection Methods\n",
    "We tried a variety of other methods for selecting high value descriptions including cosine similarity, distance, key phrase/word detection, occurence frequency of bags of words, and more. Due to the nature of the data set both in terms of size and the difficulty exctracting semantic value embedded in each description these methods were deemed unusable. Please check our repo for a detailed account of experimentations performed that were ultimately abandonded."
   ]
  },
  {
   "cell_type": "markdown",
   "metadata": {
    "colab_type": "text",
    "id": "JEZhP8UILmbI"
   },
   "source": [
    "## Culling\n",
    "Once effective selection methods were settled upon we compiled the code and passed the GPT-2 generated descriptions through the post processing functions. Since the first MVP is to output a JSON of mostly high value fake descriptions we narrowed the final output to only the window most likely to boost the signal to noise ratio in the descriptions. In future iterations we plan to export a wider window of descriptions and allow the user some control over the tuning process."
   ]
  },
  {
   "cell_type": "code",
   "execution_count": null,
   "metadata": {},
   "outputs": [],
   "source": [
    "df = get_csv('https://raw.githubusercontent.com/labs15-pain-point/Data-Science/master/generated/log(6).csv')\n",
    "\n",
    "df['word_freq'] = [word_freq(desc, nlp) for desc in df['descriptions']]\n",
    "df = reduce_by_word_freq(df)\n",
    "\n",
    "df['ent_freq'] = [entity_freq(desc, nlp) for desc in df['descriptions']]\n",
    "df = df[df['ent_freq'] < df['ent_freq'].median()]\n",
    "\n",
    "df = df.sample(100).reset_index(drop=True)"
   ]
  },
  {
   "cell_type": "markdown",
   "metadata": {
    "colab_type": "text",
    "id": "t9-8rqVG_Rmi"
   },
   "source": [
    "# Manual Processing\n",
    "Once we narrow the field of possible descriptions, the final step is for a user to manually select for usable descriptions. Since the goal is to aid project ideation and brainstorming, we hope to provide a high frequency of descriptions that describe a problem and solutions to that problem. \n",
    "\n",
    "<br>\n",
    "\n",
    "Even though there is still noise and a manual selection process, we feel that significant value and time savings are added to the stakeholder. This is because we provide a wide range of problem/solution pairs in one location reducing research time to even find potential projects. Additionally, this should reduce some of the mental fatigue and creativity blocks associated with brainstorming and project ideation.\n",
    "\n",
    "<br>\n",
    "\n",
    "Future MVP's will continue to ease the mental burden of ideation and selection through greater usability and control over criteria."
   ]
  },
  {
   "cell_type": "markdown",
   "metadata": {
    "colab_type": "text",
    "id": "9nbG_g7_Gcze"
   },
   "source": [
    "# Examples of High Value Descriptions\n",
    "\n",
    "Project: Platform for language learning and development\n",
    "```\n",
    "Pro.com is an educational platform for Japanese language learners. It offers learning materials such as textbooks, storybooks, and videos to learn and develop language skills. The company was founded in 2015. \n",
    "```\n",
    "\n",
    "<br>\n",
    "\n",
    "Project: Tools and analytics application for the hotel/hospitality industry\n",
    "```\n",
    "Omise is a modern software company that offers a suite of guest analytics and compliance tools for hotels, industry leaders in the areas of guest engagement, guest satisfaction, and hotel productivity.  Omise's mission is to help improve the guest experience by enabling smarter guest decisions throughout the guest-centric economy. \n",
    "```\n",
    "\n",
    "<br>\n",
    "\n",
    "Project: Privacy and digital rights management application\n",
    "```\n",
    "In a world where everything from billboards to your mobile data is being stored for you, we believe it is important to support digital rights holders when it comes to keeping their valuable content around the world. \n",
    "```\n",
    "\n",
    "<br>\n",
    "\n",
    "Project: Track and analyze risk indicators in a healthcare setting to improve patient outcomes. Possible IoT integration\n",
    "```\n",
    "Riskimet is an all-in-one e-commerce solution for tracking and analyzing physical risks in the healthcare industry. By tracking physical risks in real-time they can easily and transparently gather intelligence and automate actions to improve patient outcomes and corporate welfare. \n",
    "```\n",
    "\n",
    "<br>\n",
    "\n",
    "Project: Website to organize large gatherings such as dinner parties and potlucks, and then provide the food, tools, and recipes to make it a success. Blue Apron for dinner parties.\n",
    "```\n",
    "At Dinevore, they believe that dining is a social community. They want to bring your food to people who would rather not be served. They want to offer you the best food that perfectly fits your eating style. \n",
    "```\n",
    "\n",
    "<br>\n",
    "\n",
    "Project: One stop shop for travel planning\n",
    "```\n",
    "Rooter is an online travel booking platform that lets users book flights, hotels, vacations, car rentals, golf, boats, activities, conference and event packages, car rental, food and beverage, and other great stuff on just about any booking page. Rooter’s mission is simple: To let people book where they want their life to go, and have them book at the same time. Rooter makes travel planning as easy as booking a flight, hotel, conference, or activity. It also allows users to book travel agencies and get a full picture view of the listing process. Rooter was launched in February 2010 and is based in London, England. \n",
    "```\n",
    "\n",
    "<br>\n",
    "\n",
    "Project: Mobile/web application for inventory tracking and delivery logistics\n",
    "```\n",
    "Rentlogic is a tech-enabled fulfillment and delivery platform that makes tracking inventory and order performance real-time. It ferociously tracks the supply chain from vendor to vendor, delivering products at scale and taking orders with less human input. It was founded in 2016. \n",
    "```"
   ]
  },
  {
   "cell_type": "markdown",
   "metadata": {
    "colab_type": "text",
    "id": "T3a8TMRWT5Ru"
   },
   "source": [
    "# Output to JSON\n",
    "To complete the MVP we finally output our dataframe to JSON."
   ]
  },
  {
   "cell_type": "code",
   "execution_count": 0,
   "metadata": {
    "colab": {},
    "colab_type": "code",
    "id": "VEhDuNlGUDVn"
   },
   "outputs": [],
   "source": [
    "df.to_json('generated_descriptions.json', index=False)"
   ]
  }
 ],
 "metadata": {
  "accelerator": "GPU",
  "colab": {
   "collapsed_sections": [],
   "name": "Pain Point Finder - MVP 1",
   "provenance": [],
   "version": "0.3.2"
  },
  "kernelspec": {
   "display_name": "Python 3",
   "language": "python",
   "name": "python3"
  },
  "language_info": {
   "codemirror_mode": {
    "name": "ipython",
    "version": 3
   },
   "file_extension": ".py",
   "mimetype": "text/x-python",
   "name": "python",
   "nbconvert_exporter": "python",
   "pygments_lexer": "ipython3",
   "version": "3.7.3"
  }
 },
 "nbformat": 4,
 "nbformat_minor": 1
}
