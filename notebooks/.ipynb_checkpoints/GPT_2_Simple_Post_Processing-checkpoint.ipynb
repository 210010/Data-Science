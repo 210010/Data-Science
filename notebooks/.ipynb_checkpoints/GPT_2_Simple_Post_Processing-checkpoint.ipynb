{
 "cells": [
  {
   "cell_type": "markdown",
   "metadata": {
    "colab_type": "text",
    "id": "TIYWYNfa_tk2"
   },
   "source": [
    "# Post Output Culling"
   ]
  },
  {
   "cell_type": "markdown",
   "metadata": {
    "colab_type": "text",
    "id": "wd0zvVFZLtTC"
   },
   "source": [
    "## Imports and Functions"
   ]
  },
  {
   "cell_type": "code",
   "execution_count": 2,
   "metadata": {},
   "outputs": [],
   "source": [
    "import pandas as pd\n",
    "import spacy\n",
    "from spacy import displacy\n",
    "from collections import Counter\n",
    "import en_core_web_sm\n",
    "nlp = en_core_web_sm.load()"
   ]
  },
  {
   "cell_type": "code",
   "execution_count": 3,
   "metadata": {},
   "outputs": [],
   "source": [
    "def get_csv(csv_path):\n",
    "  '''Pull in CSV of generated descriptions and perform minor cleanup'''\n",
    "  df = pd.read_csv(csv_path)\n",
    "  \n",
    "  df = df[df['descriptions'].str.startswith('<|startoftext|>') & \n",
    "          df['descriptions'].str.endswith('<|endoftext|>\\n')]\n",
    "  df['descriptions'] = df['descriptions'].apply(cleanup)\n",
    "  df = df.drop('Unnamed: 0', axis=1).reset_index(drop=True)\n",
    "  \n",
    "  return df[df['descriptions'] != '']"
   ]
  },
  {
   "cell_type": "code",
   "execution_count": 4,
   "metadata": {},
   "outputs": [],
   "source": [
    "def cleanup(desc):\n",
    "  '''Cleans output from gpt-2, start/end of description markers left in'''\n",
    "  desc = desc.replace('<|startoftext|>','').replace('<|endoftext|>\\n','')\n",
    "  return desc.strip()"
   ]
  },
  {
   "cell_type": "code",
   "execution_count": 5,
   "metadata": {},
   "outputs": [],
   "source": [
    "def long_word(desc, length=20):\n",
    "  '''Return True if description contains words too long'''\n",
    "  for word in desc:\n",
    "    if len(word) >= length:\n",
    "      return True\n",
    "  \n",
    "  return False"
   ]
  },
  {
   "cell_type": "code",
   "execution_count": 6,
   "metadata": {},
   "outputs": [],
   "source": [
    "def remove_stop_words(desc, nlp):\n",
    "  '''Remove default spacy stopwords and punctuation from a description'''\n",
    "  spacy_stopwords = spacy.lang.en.stop_words.STOP_WORDS\n",
    "  \n",
    "  doc = nlp(desc)\n",
    "  tokens = [token.text \n",
    "            for token in doc \n",
    "            if not token.is_stop and not token.is_punct]\n",
    "\n",
    "  return tokens"
   ]
  },
  {
   "cell_type": "code",
   "execution_count": 7,
   "metadata": {},
   "outputs": [],
   "source": [
    "def remove_stop_phrases(desc):\n",
    "  '''Remove phrases that encode little to no value in generated descriptions'''\n",
    "  stop_phrases = ['founded by', 'is based in', 'was founded in', \n",
    "                'is headquartered in', 'headquarters in', 'developed by',\n",
    "                'developed in', 'additional offices', 'germany',\n",
    "                'france', 'china', 'california', 'india', 'wholly-owned'\n",
    "                'silicon valley', 'san francisco', 'established in',\n",
    "                'mountain view', 'family owned', 'family-owned', \n",
    "                'clients include', 'argentina', 'brazil', 'chile', 'colombia', \n",
    "                'japan', 'korea', 'malaysia', 'mexico', 'subsidiary',\n",
    "                'formerly known as', 'venture capital', 'for more information',\n",
    "                'new york', 'united states', 'u.s.', 'u.s.a']\n",
    "  \n",
    "  for phrase in stop_phrases:\n",
    "    desc = desc.replace(phrase,'')\n",
    "    \n",
    "  return desc"
   ]
  },
  {
   "cell_type": "code",
   "execution_count": 8,
   "metadata": {},
   "outputs": [],
   "source": [
    "def word_freq(desc, nlp):\n",
    "  '''Return frequency of unique words not in stopwords/phrases'''\n",
    "  full_desc_len = len(str(desc).split())\n",
    "\n",
    "  desc = remove_stop_phrases(str(desc).lower())\n",
    "  desc = remove_stop_words(desc, nlp)\n",
    "\n",
    "  # Calculate unique word frequency, return 0 if description is too small\n",
    "  if ((len(desc) < 10) | (long_word(desc))):\n",
    "    return 0\n",
    "  return len(set(desc)) / full_desc_len"
   ]
  },
  {
   "cell_type": "code",
   "execution_count": 9,
   "metadata": {},
   "outputs": [],
   "source": [
    "def reduce_by_word_freq(df):\n",
    "  '''Reduce df size by narrowing word frequency range'''\n",
    "  lower = df['word_freq'].median()\n",
    "  upper = df['word_freq'].median() + df['word_freq'].std()\n",
    "\n",
    "  return df[(df['word_freq'] > lower) & (df['word_freq'] < upper)]"
   ]
  },
  {
   "cell_type": "code",
   "execution_count": 12,
   "metadata": {},
   "outputs": [],
   "source": [
    "def entity_freq(text, nlp):\n",
    "  '''Return frequency of low value entities'''\n",
    "  doc = nlp(text)\n",
    "  count = 0\n",
    "  \n",
    "  # Use SpaCy to find entities and count low value ones\n",
    "  for X in doc.ents:\n",
    "    if (X.label_ in ['ORG', 'DATE', 'PERSON', 'TIME', 'PERCENT', 'MONEY']):\n",
    "      count += 1\n",
    "      \n",
    "  return count/len(text.split())"
   ]
  },
  {
   "cell_type": "code",
   "execution_count": 13,
   "metadata": {},
   "outputs": [],
   "source": [
    "df = get_csv('https://raw.githubusercontent.com/labs15-pain-point/Data-Science/master/generated/log(6).csv')\n",
    "\n",
    "df['word_freq'] = [word_freq(desc, nlp) for desc in df['descriptions']]\n",
    "df = reduce_by_word_freq(df)\n",
    "\n",
    "df['ent_freq'] = [entity_freq(desc, nlp) for desc in df['descriptions']]\n",
    "df = df[df['ent_freq'] < df['ent_freq'].median()]\n",
    "\n",
    "df = df.sample(100).reset_index(drop=True)"
   ]
  },
  {
   "cell_type": "code",
   "execution_count": 14,
   "metadata": {},
   "outputs": [
    {
     "data": {
      "text/html": [
       "<div>\n",
       "<style scoped>\n",
       "    .dataframe tbody tr th:only-of-type {\n",
       "        vertical-align: middle;\n",
       "    }\n",
       "\n",
       "    .dataframe tbody tr th {\n",
       "        vertical-align: top;\n",
       "    }\n",
       "\n",
       "    .dataframe thead th {\n",
       "        text-align: right;\n",
       "    }\n",
       "</style>\n",
       "<table border=\"1\" class=\"dataframe\">\n",
       "  <thead>\n",
       "    <tr style=\"text-align: right;\">\n",
       "      <th></th>\n",
       "      <th>descriptions</th>\n",
       "      <th>word_freq</th>\n",
       "      <th>ent_freq</th>\n",
       "    </tr>\n",
       "  </thead>\n",
       "  <tbody>\n",
       "    <tr>\n",
       "      <th>0</th>\n",
       "      <td>Reebee is a fast-casual, grab-and-go, family-o...</td>\n",
       "      <td>0.527559</td>\n",
       "      <td>0.031496</td>\n",
       "    </tr>\n",
       "    <tr>\n",
       "      <th>1</th>\n",
       "      <td>Ocunexus Therapeutics, Inc., is a biopharmaceu...</td>\n",
       "      <td>0.586207</td>\n",
       "      <td>0.034483</td>\n",
       "    </tr>\n",
       "    <tr>\n",
       "      <th>2</th>\n",
       "      <td>RiminiActive Ltd. provides cloud-based softwar...</td>\n",
       "      <td>0.515152</td>\n",
       "      <td>0.030303</td>\n",
       "    </tr>\n",
       "    <tr>\n",
       "      <th>3</th>\n",
       "      <td>Omise is the leading digital-media business pl...</td>\n",
       "      <td>0.564516</td>\n",
       "      <td>0.000000</td>\n",
       "    </tr>\n",
       "    <tr>\n",
       "      <th>4</th>\n",
       "      <td>Rockets of Awesome is dedicated to helping cre...</td>\n",
       "      <td>0.527273</td>\n",
       "      <td>0.027273</td>\n",
       "    </tr>\n",
       "  </tbody>\n",
       "</table>\n",
       "</div>"
      ],
      "text/plain": [
       "                                        descriptions  word_freq  ent_freq\n",
       "0  Reebee is a fast-casual, grab-and-go, family-o...   0.527559  0.031496\n",
       "1  Ocunexus Therapeutics, Inc., is a biopharmaceu...   0.586207  0.034483\n",
       "2  RiminiActive Ltd. provides cloud-based softwar...   0.515152  0.030303\n",
       "3  Omise is the leading digital-media business pl...   0.564516  0.000000\n",
       "4  Rockets of Awesome is dedicated to helping cre...   0.527273  0.027273"
      ]
     },
     "execution_count": 14,
     "metadata": {},
     "output_type": "execute_result"
    }
   ],
   "source": [
    "df.head()"
   ]
  },
  {
   "cell_type": "code",
   "execution_count": null,
   "metadata": {},
   "outputs": [],
   "source": []
  }
 ],
 "metadata": {
  "colab": {
   "collapsed_sections": [
    "vBqixtJA_iy0"
   ],
   "name": "GPT-2 Simple Post Processing.ipynb",
   "provenance": [],
   "toc_visible": true,
   "version": "0.3.2"
  },
  "kernelspec": {
   "display_name": "Python 3",
   "language": "python",
   "name": "python3"
  },
  "language_info": {
   "codemirror_mode": {
    "name": "ipython",
    "version": 3
   },
   "file_extension": ".py",
   "mimetype": "text/x-python",
   "name": "python",
   "nbconvert_exporter": "python",
   "pygments_lexer": "ipython3",
   "version": "3.7.3"
  }
 },
 "nbformat": 4,
 "nbformat_minor": 1
}
