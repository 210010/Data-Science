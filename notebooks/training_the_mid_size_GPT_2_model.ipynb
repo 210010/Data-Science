{
  "nbformat": 4,
  "nbformat_minor": 0,
  "metadata": {
    "colab": {
      "name": "training the mid-size GPT-2 model",
      "version": "0.3.2",
      "provenance": [],
      "collapsed_sections": []
    },
    "kernelspec": {
      "name": "python3",
      "display_name": "Python 3"
    },
    "accelerator": "GPU"
  },
  "cells": [
    {
      "cell_type": "code",
      "metadata": {
        "id": "KBkpRgBCBS2_",
        "colab_type": "code",
        "colab": {}
      },
      "source": [
        "!pip install -q gpt-2-simple\n",
        "import gpt_2_simple as gpt2\n",
        "from datetime import datetime\n",
        "from google.colab import files"
      ],
      "execution_count": 0,
      "outputs": []
    },
    {
      "cell_type": "code",
      "metadata": {
        "id": "P8wSlgXoDPCR",
        "colab_type": "code",
        "outputId": "6cf538ae-9beb-4581-de42-cbbf3e0538e8",
        "colab": {
          "base_uri": "https://localhost:8080/",
          "height": 146
        }
      },
      "source": [
        "gpt2.download_gpt2(model_name=\"345M\")"
      ],
      "execution_count": 0,
      "outputs": [
        {
          "output_type": "stream",
          "text": [
            "Fetching checkpoint: 1.05Mit [00:00, 354Mit/s]                                                      \n",
            "Fetching encoder.json: 1.05Mit [00:00, 87.9Mit/s]                                                   \n",
            "Fetching hparams.json: 1.05Mit [00:00, 508Mit/s]                                                    \n",
            "Fetching model.ckpt.data-00000-of-00001: 1.42Git [00:09, 143Mit/s]                                  \n",
            "Fetching model.ckpt.index: 1.05Mit [00:00, 260Mit/s]                                                \n",
            "Fetching model.ckpt.meta: 1.05Mit [00:00, 121Mit/s]                                                 \n",
            "Fetching vocab.bpe: 1.05Mit [00:00, 181Mit/s]                                                       \n"
          ],
          "name": "stderr"
        }
      ]
    },
    {
      "cell_type": "code",
      "metadata": {
        "id": "JdlyQmnop3nb",
        "colab_type": "code",
        "outputId": "8fa2a836-1af7-4e86-b3ba-b41c61be8bc3",
        "colab": {
          "base_uri": "https://localhost:8080/",
          "height": 35
        }
      },
      "source": [
        "!git clone https://github.com/labs15-pain-point/Data-Science"
      ],
      "execution_count": 0,
      "outputs": [
        {
          "output_type": "stream",
          "text": [
            "fatal: destination path 'Data-Science' already exists and is not an empty directory.\n"
          ],
          "name": "stdout"
        }
      ]
    },
    {
      "cell_type": "code",
      "metadata": {
        "id": "vN6bYm7omccb",
        "colab_type": "code",
        "outputId": "eafa1503-418a-4822-edc3-b16e19f80253",
        "colab": {
          "base_uri": "https://localhost:8080/",
          "height": 243
        }
      },
      "source": [
        "import glob\n",
        "import os\n",
        "import pandas as pd\n",
        "\n",
        "files_1 = os.listdir('Data-Science/csvs/')\n",
        "files_1 = os.listdir('Data-Science/crunchbase_csv/')\n",
        "\n",
        "df = pd.concat([pd.read_csv(f, error_bad_lines=False) for f in glob.glob('Data-Science/csvs/*.csv')], ignore_index = True)\n",
        "print(df.shape)\n",
        "df.head()"
      ],
      "execution_count": 0,
      "outputs": [
        {
          "output_type": "stream",
          "text": [
            "b'Skipping line 749: expected 4 fields, saw 14\\n'\n"
          ],
          "name": "stderr"
        },
        {
          "output_type": "stream",
          "text": [
            "(49141, 4)\n"
          ],
          "name": "stdout"
        },
        {
          "output_type": "execute_result",
          "data": {
            "text/html": [
              "<div>\n",
              "<style scoped>\n",
              "    .dataframe tbody tr th:only-of-type {\n",
              "        vertical-align: middle;\n",
              "    }\n",
              "\n",
              "    .dataframe tbody tr th {\n",
              "        vertical-align: top;\n",
              "    }\n",
              "\n",
              "    .dataframe thead th {\n",
              "        text-align: right;\n",
              "    }\n",
              "</style>\n",
              "<table border=\"1\" class=\"dataframe\">\n",
              "  <thead>\n",
              "    <tr style=\"text-align: right;\">\n",
              "      <th></th>\n",
              "      <th>Organization Name</th>\n",
              "      <th>Organization Name URL</th>\n",
              "      <th>Categories</th>\n",
              "      <th>Full Description</th>\n",
              "    </tr>\n",
              "  </thead>\n",
              "  <tbody>\n",
              "    <tr>\n",
              "      <th>0</th>\n",
              "      <td>Automattic</td>\n",
              "      <td>https://www.crunchbase.com/organization/automa...</td>\n",
              "      <td>Blogging Platforms, Content, Internet, Web Des...</td>\n",
              "      <td>Automattic is the company behind WordPress.com...</td>\n",
              "    </tr>\n",
              "    <tr>\n",
              "      <th>1</th>\n",
              "      <td>Ant Financial</td>\n",
              "      <td>https://www.crunchbase.com/organization/ant-fi...</td>\n",
              "      <td>Banking, E-Commerce, Financial Services, FinTe...</td>\n",
              "      <td>Ant Financial Services Group is an online paym...</td>\n",
              "    </tr>\n",
              "    <tr>\n",
              "      <th>2</th>\n",
              "      <td>Antler</td>\n",
              "      <td>https://www.crunchbase.com/organization/antler...</td>\n",
              "      <td>Financial Services, Venture Capital</td>\n",
              "      <td>Founded in Singapore in 2017, Antler is a glob...</td>\n",
              "    </tr>\n",
              "    <tr>\n",
              "      <th>3</th>\n",
              "      <td>Aurora Cannabis</td>\n",
              "      <td>https://www.crunchbase.com/organization/aurora...</td>\n",
              "      <td>Cannabis, Medical, Pharmaceutical</td>\n",
              "      <td>Aurora Cannabis is a medical marijuana produce...</td>\n",
              "    </tr>\n",
              "    <tr>\n",
              "      <th>4</th>\n",
              "      <td>Animoca Brands</td>\n",
              "      <td>https://www.crunchbase.com/organization/animoc...</td>\n",
              "      <td>Apps, Casual Games, Developer Platform, Gaming...</td>\n",
              "      <td>Animoca Brands Corporation is the spinoff of p...</td>\n",
              "    </tr>\n",
              "  </tbody>\n",
              "</table>\n",
              "</div>"
            ],
            "text/plain": [
              "  Organization Name  ...                                   Full Description\n",
              "0        Automattic  ...  Automattic is the company behind WordPress.com...\n",
              "1     Ant Financial  ...  Ant Financial Services Group is an online paym...\n",
              "2            Antler  ...  Founded in Singapore in 2017, Antler is a glob...\n",
              "3   Aurora Cannabis  ...  Aurora Cannabis is a medical marijuana produce...\n",
              "4    Animoca Brands  ...  Animoca Brands Corporation is the spinoff of p...\n",
              "\n",
              "[5 rows x 4 columns]"
            ]
          },
          "metadata": {
            "tags": []
          },
          "execution_count": 4
        }
      ]
    },
    {
      "cell_type": "code",
      "metadata": {
        "id": "K3aUuVnDqmjR",
        "colab_type": "code",
        "outputId": "286d161b-2ed9-4dd0-a9eb-57bfdc746a36",
        "colab": {
          "base_uri": "https://localhost:8080/",
          "height": 366
        }
      },
      "source": [
        "df_2 = pd.concat([pd.read_csv(f, error_bad_lines=False) for f in glob.glob('Data-Science/crunchbase_csv/*.csv')], ignore_index = True)\n",
        "print(df_2.shape)\n",
        "df_2.head()"
      ],
      "execution_count": 0,
      "outputs": [
        {
          "output_type": "stream",
          "text": [
            "b'Skipping line 521: expected 5 fields, saw 11\\n'\n",
            "b'Skipping line 512: expected 5 fields, saw 16\\n'\n"
          ],
          "name": "stderr"
        },
        {
          "output_type": "stream",
          "text": [
            "(122331, 5)\n"
          ],
          "name": "stdout"
        },
        {
          "output_type": "execute_result",
          "data": {
            "text/html": [
              "<div>\n",
              "<style scoped>\n",
              "    .dataframe tbody tr th:only-of-type {\n",
              "        vertical-align: middle;\n",
              "    }\n",
              "\n",
              "    .dataframe tbody tr th {\n",
              "        vertical-align: top;\n",
              "    }\n",
              "\n",
              "    .dataframe thead th {\n",
              "        text-align: right;\n",
              "    }\n",
              "</style>\n",
              "<table border=\"1\" class=\"dataframe\">\n",
              "  <thead>\n",
              "    <tr style=\"text-align: right;\">\n",
              "      <th></th>\n",
              "      <th>Organization Name</th>\n",
              "      <th>Organization Name URL</th>\n",
              "      <th>Categories</th>\n",
              "      <th>Description</th>\n",
              "      <th>Full Description</th>\n",
              "    </tr>\n",
              "  </thead>\n",
              "  <tbody>\n",
              "    <tr>\n",
              "      <th>0</th>\n",
              "      <td>Kaiser Permanente</td>\n",
              "      <td>https://www.crunchbase.com/organization/kaiser...</td>\n",
              "      <td>Biotechnology, Health Care, Health Diagnostics...</td>\n",
              "      <td>Kaiser Permanente is committed to helping shap...</td>\n",
              "      <td>Kaiser Permanente offers nonprofit healthcare ...</td>\n",
              "    </tr>\n",
              "    <tr>\n",
              "      <th>1</th>\n",
              "      <td>Kabbage</td>\n",
              "      <td>https://www.crunchbase.com/organization/kabbage</td>\n",
              "      <td>Credit, Finance, Financial Services, FinTech, ...</td>\n",
              "      <td>Kabbage offers fast, easy loans for small busi...</td>\n",
              "      <td>Kabbage is a financial technology and data com...</td>\n",
              "    </tr>\n",
              "    <tr>\n",
              "      <th>2</th>\n",
              "      <td>Katerra</td>\n",
              "      <td>https://www.crunchbase.com/organization/katerra</td>\n",
              "      <td>Architecture, Construction, Logistics, Mechani...</td>\n",
              "      <td>Katerra is a Silicon Valley startup that is re...</td>\n",
              "      <td>Katerra is a technology company optimizing eve...</td>\n",
              "    </tr>\n",
              "    <tr>\n",
              "      <th>3</th>\n",
              "      <td>Kasten</td>\n",
              "      <td>https://www.crunchbase.com/organization/kasten</td>\n",
              "      <td>Apps, Cloud Storage, Information Technology, I...</td>\n",
              "      <td>Application Backup and Recovery for Kubernetes.</td>\n",
              "      <td>Policy-based backup, recovery, and migration f...</td>\n",
              "    </tr>\n",
              "    <tr>\n",
              "      <th>4</th>\n",
              "      <td>Karamba Security</td>\n",
              "      <td>https://www.crunchbase.com/organization/karamb...</td>\n",
              "      <td>Automotive, Cyber Security, Software</td>\n",
              "      <td>Karamba Security provides embedded cybersecuri...</td>\n",
              "      <td>Karamba Security's patented software detects a...</td>\n",
              "    </tr>\n",
              "  </tbody>\n",
              "</table>\n",
              "</div>"
            ],
            "text/plain": [
              "   Organization Name  ...                                   Full Description\n",
              "0  Kaiser Permanente  ...  Kaiser Permanente offers nonprofit healthcare ...\n",
              "1            Kabbage  ...  Kabbage is a financial technology and data com...\n",
              "2            Katerra  ...  Katerra is a technology company optimizing eve...\n",
              "3             Kasten  ...  Policy-based backup, recovery, and migration f...\n",
              "4   Karamba Security  ...  Karamba Security's patented software detects a...\n",
              "\n",
              "[5 rows x 5 columns]"
            ]
          },
          "metadata": {
            "tags": []
          },
          "execution_count": 5
        }
      ]
    },
    {
      "cell_type": "code",
      "metadata": {
        "id": "oz5IFMQHq9bJ",
        "colab_type": "code",
        "outputId": "dfc1882c-55ea-40b3-e815-1f96191997fa",
        "colab": {
          "base_uri": "https://localhost:8080/",
          "height": 457
        }
      },
      "source": [
        "df_big = pd.concat([df, df_2], ignore_index = True)\n",
        "df_big.shape\n",
        "df_big.head()"
      ],
      "execution_count": 0,
      "outputs": [
        {
          "output_type": "stream",
          "text": [
            "/usr/local/lib/python3.6/dist-packages/ipykernel_launcher.py:1: FutureWarning: Sorting because non-concatenation axis is not aligned. A future version\n",
            "of pandas will change to not sort by default.\n",
            "\n",
            "To accept the future behavior, pass 'sort=False'.\n",
            "\n",
            "To retain the current behavior and silence the warning, pass 'sort=True'.\n",
            "\n",
            "  \"\"\"Entry point for launching an IPython kernel.\n"
          ],
          "name": "stderr"
        },
        {
          "output_type": "execute_result",
          "data": {
            "text/html": [
              "<div>\n",
              "<style scoped>\n",
              "    .dataframe tbody tr th:only-of-type {\n",
              "        vertical-align: middle;\n",
              "    }\n",
              "\n",
              "    .dataframe tbody tr th {\n",
              "        vertical-align: top;\n",
              "    }\n",
              "\n",
              "    .dataframe thead th {\n",
              "        text-align: right;\n",
              "    }\n",
              "</style>\n",
              "<table border=\"1\" class=\"dataframe\">\n",
              "  <thead>\n",
              "    <tr style=\"text-align: right;\">\n",
              "      <th></th>\n",
              "      <th>Categories</th>\n",
              "      <th>Description</th>\n",
              "      <th>Full Description</th>\n",
              "      <th>Organization Name</th>\n",
              "      <th>Organization Name URL</th>\n",
              "    </tr>\n",
              "  </thead>\n",
              "  <tbody>\n",
              "    <tr>\n",
              "      <th>0</th>\n",
              "      <td>Blogging Platforms, Content, Internet, Web Des...</td>\n",
              "      <td>NaN</td>\n",
              "      <td>Automattic is the company behind WordPress.com...</td>\n",
              "      <td>Automattic</td>\n",
              "      <td>https://www.crunchbase.com/organization/automa...</td>\n",
              "    </tr>\n",
              "    <tr>\n",
              "      <th>1</th>\n",
              "      <td>Banking, E-Commerce, Financial Services, FinTe...</td>\n",
              "      <td>NaN</td>\n",
              "      <td>Ant Financial Services Group is an online paym...</td>\n",
              "      <td>Ant Financial</td>\n",
              "      <td>https://www.crunchbase.com/organization/ant-fi...</td>\n",
              "    </tr>\n",
              "    <tr>\n",
              "      <th>2</th>\n",
              "      <td>Financial Services, Venture Capital</td>\n",
              "      <td>NaN</td>\n",
              "      <td>Founded in Singapore in 2017, Antler is a glob...</td>\n",
              "      <td>Antler</td>\n",
              "      <td>https://www.crunchbase.com/organization/antler...</td>\n",
              "    </tr>\n",
              "    <tr>\n",
              "      <th>3</th>\n",
              "      <td>Cannabis, Medical, Pharmaceutical</td>\n",
              "      <td>NaN</td>\n",
              "      <td>Aurora Cannabis is a medical marijuana produce...</td>\n",
              "      <td>Aurora Cannabis</td>\n",
              "      <td>https://www.crunchbase.com/organization/aurora...</td>\n",
              "    </tr>\n",
              "    <tr>\n",
              "      <th>4</th>\n",
              "      <td>Apps, Casual Games, Developer Platform, Gaming...</td>\n",
              "      <td>NaN</td>\n",
              "      <td>Animoca Brands Corporation is the spinoff of p...</td>\n",
              "      <td>Animoca Brands</td>\n",
              "      <td>https://www.crunchbase.com/organization/animoc...</td>\n",
              "    </tr>\n",
              "  </tbody>\n",
              "</table>\n",
              "</div>"
            ],
            "text/plain": [
              "                                          Categories  ...                              Organization Name URL\n",
              "0  Blogging Platforms, Content, Internet, Web Des...  ...  https://www.crunchbase.com/organization/automa...\n",
              "1  Banking, E-Commerce, Financial Services, FinTe...  ...  https://www.crunchbase.com/organization/ant-fi...\n",
              "2                Financial Services, Venture Capital  ...  https://www.crunchbase.com/organization/antler...\n",
              "3                  Cannabis, Medical, Pharmaceutical  ...  https://www.crunchbase.com/organization/aurora...\n",
              "4  Apps, Casual Games, Developer Platform, Gaming...  ...  https://www.crunchbase.com/organization/animoc...\n",
              "\n",
              "[5 rows x 5 columns]"
            ]
          },
          "metadata": {
            "tags": []
          },
          "execution_count": 6
        }
      ]
    },
    {
      "cell_type": "code",
      "metadata": {
        "id": "Np2VM1wUrQTy",
        "colab_type": "code",
        "outputId": "8ba3cb2a-8571-4883-961f-fbfa99fe8dac",
        "colab": {
          "base_uri": "https://localhost:8080/",
          "height": 35
        }
      },
      "source": [
        "df_final = df_big.drop(['Organization Name URL', 'Organization Name', 'Description'], axis = 1)\n",
        "print(df_final.shape)\n",
        "df_final.to_csv('big_boy_df.csv')"
      ],
      "execution_count": 0,
      "outputs": [
        {
          "output_type": "stream",
          "text": [
            "(171472, 2)\n"
          ],
          "name": "stdout"
        }
      ]
    },
    {
      "cell_type": "code",
      "metadata": {
        "id": "ebl9A3Mw-Fb7",
        "colab_type": "code",
        "colab": {}
      },
      "source": [
        "train = df_final['Full Description']\n",
        "train.to_csv('train.csv', sep = ' ', index = False, header = False)"
      ],
      "execution_count": 0,
      "outputs": []
    },
    {
      "cell_type": "code",
      "metadata": {
        "id": "HlqPpyq9smyw",
        "colab_type": "code",
        "outputId": "2c4704a9-51d7-4d37-c307-5bbfeaa9bc40",
        "colab": {
          "base_uri": "https://localhost:8080/",
          "height": 35
        }
      },
      "source": [
        "!zip big_boy_df.zip big_boy_df.csv"
      ],
      "execution_count": 0,
      "outputs": [
        {
          "output_type": "stream",
          "text": [
            "updating: big_boy_df.csv (deflated 64%)\n"
          ],
          "name": "stdout"
        }
      ]
    },
    {
      "cell_type": "code",
      "metadata": {
        "id": "6OFnPCLADfll",
        "colab_type": "code",
        "colab": {}
      },
      "source": [
        "file_name = \"train.csv\""
      ],
      "execution_count": 0,
      "outputs": []
    },
    {
      "cell_type": "code",
      "metadata": {
        "id": "-Z6okFD8VKtS",
        "colab_type": "code",
        "outputId": "64e79dec-56b1-4bc5-be10-b9c1b37d688c",
        "colab": {
          "base_uri": "https://localhost:8080/",
          "height": 35
        }
      },
      "source": [
        "gpt2.mount_gdrive()\n",
        "gpt2.copy_file_from_gdrive(file_name)"
      ],
      "execution_count": 0,
      "outputs": [
        {
          "output_type": "stream",
          "text": [
            "Drive already mounted at /content/drive; to attempt to forcibly remount, call drive.mount(\"/content/drive\", force_remount=True).\n"
          ],
          "name": "stdout"
        }
      ]
    },
    {
      "cell_type": "markdown",
      "metadata": {
        "id": "Z7KCiKLkTdpx",
        "colab_type": "text"
      },
      "source": [
        "#sessions with Parameter Tuning"
      ]
    },
    {
      "cell_type": "code",
      "metadata": {
        "id": "aeXshJM-Cuaf",
        "colab_type": "code",
        "outputId": "cade7684-dec9-4710-a2a8-f504df4d1597",
        "colab": {
          "base_uri": "https://localhost:8080/",
          "height": 1000
        }
      },
      "source": [
        "sess = gpt2.start_tf_sess()\n",
        "\n",
        "gpt2.finetune(sess,\n",
        "              dataset=file_name,\n",
        "              model_name='345M',\n",
        "              accumulate_gradients = 11,\n",
        "              steps=1500,\n",
        "              restore_from='fresh',\n",
        "              run_name='run1',\n",
        "              print_every=10,\n",
        "              sample_every=100,\n",
        "              save_every=250,\n",
        "              only_train_transformer_layers=False\n",
        "              )"
      ],
      "execution_count": 0,
      "outputs": [
        {
          "output_type": "stream",
          "text": [
            "WARNING: Logging before flag parsing goes to stderr.\n",
            "W0826 17:49:13.267341 140355689449344 deprecation.py:323] From /usr/local/lib/python3.6/dist-packages/gpt_2_simple/src/sample.py:17: add_dispatch_support.<locals>.wrapper (from tensorflow.python.ops.array_ops) is deprecated and will be removed in a future version.\n",
            "Instructions for updating:\n",
            "Use tf.where in 2.0, which has the same broadcast rule as np.where\n",
            "W0826 17:49:39.217445 140355689449344 deprecation.py:323] From /usr/local/lib/python3.6/dist-packages/tensorflow/python/training/saver.py:1276: checkpoint_exists (from tensorflow.python.training.checkpoint_management) is deprecated and will be removed in a future version.\n",
            "Instructions for updating:\n",
            "Use standard file APIs to check for files with this prefix.\n"
          ],
          "name": "stderr"
        },
        {
          "output_type": "stream",
          "text": [
            "Loading checkpoint models/345M/model.ckpt\n"
          ],
          "name": "stdout"
        },
        {
          "output_type": "stream",
          "text": [
            "100%|██████████| 1/1 [00:00<00:00, 16.08it/s]"
          ],
          "name": "stderr"
        },
        {
          "output_type": "stream",
          "text": [
            "Loading dataset...\n"
          ],
          "name": "stdout"
        },
        {
          "output_type": "stream",
          "text": [
            "\n"
          ],
          "name": "stderr"
        },
        {
          "output_type": "stream",
          "text": [
            "dataset has 600378 tokens\n",
            "Training...\n",
            "[10 | 24.87] loss=3.20 avg=3.20\n",
            "[20 | 41.32] loss=3.33 avg=3.26\n",
            "[30 | 57.98] loss=2.76 avg=3.09\n",
            "[40 | 74.28] loss=2.60 avg=2.97\n",
            "[50 | 90.43] loss=3.00 avg=2.97\n",
            "[60 | 106.60] loss=2.88 avg=2.96\n",
            "[70 | 122.89] loss=2.71 avg=2.92\n",
            "[80 | 139.23] loss=2.86 avg=2.91\n",
            "[90 | 155.51] loss=3.04 avg=2.93\n",
            "[100 | 171.69] loss=3.06 avg=2.94\n",
            "======== SAMPLE 1 ========\n",
            " company, which offers mobile app content management software that simplifies video, music and media management. It was founded in 2010.\n",
            "<|endoftext|>\n",
            "<|startoftext|>One of the most popular businesses in the Indian private sector, the Dental Services Private Limited are India’s No.1 private healthcare investment. They offer a comprehensive range of products under their brands: CareRx, a brand of Dental products that offers customers access to the benefits of dental hygiene at affordable rates. The company grew by 15-26% between 2010 and 2015. The Dental Services Private Limited has grown from a single store at 3rd floor, in Delhi, in 2014 to a market capitalization of Rs 2.26 lakh crore, based on market availability.<|endoftext|>\n",
            "<|startoftext|>Obstacle is India’s leading technology company that is helping the government of India develop and enforce strong laws against child labour. Obstacle is the first technology company that offers free education to children under five years old and the first to provide free child labor rights training to families. The company was formed by former entrepreneurs and experts in the fields of IT and entrepreneurship in India, Canada, and the United States, to provide access to education and employment and to empower children.<|endoftext|>\n",
            "<|startoftext|>Opa Solutions provides information management solutions and secure communications solutions to manage, protect, and monetize financial transaction data. We’re transforming financial transaction management to make it easier, cheaper, more efficient, and trustworthy for all customers and organizations and are transforming the way financial institutions manage, analyze, and monetize financial data, as well as the data that is generated from these systems.<|endoftext|>\n",
            "<|startoftext|>Openeleu is a new digital content marketing platform for websites to add great content and get traffic. It helps you get traffic with content, make the biggest difference to a website, and make sure that customers and visitors see the value of your content. The platform is available in over 60 languages – both English and Arabic. We are excited by what we’re seeing from the emerging digital commerce sector, so we’re taking a few of the most amazing projects online and taking them over to the real world with us. We’re doing it in new ways and we're excited about what this means for our clients & customers.<|endoftext|>\n",
            "<|startoftext|>Opensource was founded to capitalize on the incredible opportunities of an automated data transformation platform that would make it possible to extract, analyze and analyze the information in our world. We've taken that idea and used it to become one of the most powerful enterprise analytics solutions in the world for data and information management—and it’s growing up. Open Source makes automation more affordable, efficient, secure, and effective. We're making data transformation cost-effective for all users, by delivering value for data. We are the only system that offers a truly unlimited and completely secure control of your data. The company was founded in April 2013. Open Source has since grown up as a wholly owned subsidiary of Cloudflare, a leading cloud resource management vendor, and as a leading provider of Cloudflare services at scale. Open Source has had its own corporate structure for the last five years, with cloud-based data and cloud-based application security (ASA) accounting for all of their revenue sources. We are currently a part company of Cloudflare.</|endoftext|>\n",
            "<|startoftext|>Opoionics Medical Solutions is a large patient care company serving over 13,000 hospitals and physicians throughout the country. As the only company in the United States offering the care and protection of your doctor’s prescription, Opoionics’s goal is to ensure you receive the highest quality care and protection possible for your health. By helping doctors with a high-risk practice, we can minimize the potential risk and pay your provider for the value they provide you. It is this level of risk for the healthcare industry and its care providers that is why Opoionics is here to help. Our healthcare service providers are also proud operators of award-winning quality, affordable outpatient services, which are available to tens of thousands of people every year, making us the best and most trusted provider of care in your area, making you the first beneficiary on a large scale. While we are here to help, we also hope that you help us grow. We are excited to have the opportunity to partner with great local healthcare companies to help make your healthcare experiences easy for you. <|endoftext|>\n",
            "<|startoftext|>Onyx Pharmaceuticals is an American biotech company focused on developing novel, low-cost treatments for pancreatic or liver cancer. Onyx’s latest innovation, the onyx™ gene-targeted delivery system, will improve the delivery of\n",
            "\n",
            "[110 | 212.94] loss=3.03 avg=2.95\n",
            "[120 | 229.31] loss=2.73 avg=2.93\n",
            "[130 | 245.64] loss=3.07 avg=2.94\n",
            "[140 | 261.96] loss=2.53 avg=2.91\n",
            "[150 | 278.32] loss=2.77 avg=2.90\n",
            "[160 | 294.71] loss=2.85 avg=2.90\n",
            "[170 | 311.12] loss=3.01 avg=2.90\n",
            "[180 | 327.54] loss=2.77 avg=2.90\n",
            "[190 | 343.95] loss=2.76 avg=2.89\n",
            "[200 | 360.32] loss=2.48 avg=2.87\n",
            "======== SAMPLE 1 ========\n",
            "Hash* s = new LinkedList<_><|startoftext|>Lilium is a cloud-based technology that generates real-time traffic alerts for real-time applications at the airport, bus and ferry end of the scale.  Available in four models, lilium simplifies airport, rail, bus/train service disruptions and other disruptions to traffic. lilium was launched in 2010 and is based in Cambridge. lilium was launched in 2010 by a team of former Google engineers and is privately funded. lilium has been featured on the cover of TIME Magazine and the New York Times, and has secured investments from investors including Benchmark, the World Bank and the Carnegie Foundation.<|endoftext|>\n",
            "<|startoftext|>Managing the financial services industry for more than three decades, we provide customers with the industry's first platform-neutral, scalable, and cross-border financial services platform. Our platform delivers the most comprehensive, enterprise-wide financial services platform in the financial markets, with features like an industry leading data management solution, a range of financial services brokers, and more. We believe this platform should be used everywhere, everywhere by everyone. We’re building a global financial services company, where everyone should belong. That's ManuManu.<|endoftext|>\n",
            "<|startoftext|>Manipul is an open-source, crowd-sourced system for optimizing online business development. The company's software is used in more than 200 startups across the globe.  Headquartered in Palo Alto, California with offices in London, Madrid and San Francisco, the company is backed by Silicon Valley venture capital firm Greylock Partners, a venture capital firm founded by Mark Zuckerberg. Like a lot of startup leaders, Manipul has seen the value in a product developed by engineers for engineers. Its solution is called CodeFizz. CodeFizz is an acronym for Core Competitiveness and Innovation in Open Source Software.<|endoftext|>\n",
            "<|startoftext|>Manipul offers advanced technology to assist manufacturers and service providers in the design, prototyping, manufacturing, and operation of vehicle-related products. The company's technology is primarily aimed at service providers - automakers and service companies - to provide a more competitive advantage, with a variety of benefits. The proprietary Manipul vehicle-related products platform, which is part of Manipul Enterprise, aims to provide a variety of products from different manufacturers that meet the service-industry needs of different users of a vehicle<|endoftext|>\n",
            "<|startoftext|>Manning Technologies is an American healthcare technology company headquartered in Pittsburgh, Pennsylvania. It develops and markets medical devices and systems for health, wellness, and performance. Its focus with its products is clinical quality and efficiency.<|endoftext|>\n",
            "<|startoftext|>Marion Digital provides an integrated online platform for the medical and pharmaceutical industries, serving customers, distributors, hospitals, health plans, retailers and healthcare providers. The company provides the Health Digital Medicine Platform Platform (HDPP) that provides online medical and pharmaceutical information, medical practices and medication plans across the US, including California. MARION is also the publisher of an online publication, the MedWatch Blog, a newsletter of the Medical Journal of North Carolina (MJC), and a leading provider of medical and drug-related content. Marion Digital acquired the MedWatch blog in 2013. MARION’s primary focus area is medical technologies, medical devices, and medical device accessories. Its portfolio includes the Health & Fitness products and services, health software and services, and medical equipment and health care products. MARION develops and markets products that enhance medical devices and electronic health records, and services that deliver the benefits of these products and services in a modern and connected environment. MARION's business model is centered on the Health Digital Medicine Provider™ service, which helps healthcare organizations to improve patient health and wellness, and provide the opportunity to enhance the quality of care to clients through medical devices and/or devices. In this respect, MARION's activities and business model are very close to and complementary to Health Digital, and involve no additional sales pressure from customers, distributors and Health Systems. MARION's platform includes software applications for medical devices, medication plans, devices, software devices, and health, beauty and wellness. It also includes online publications for patient information, consumer experiences, health content management, medical device programs, medical devices and health, wellness, and lifestyle products and services. The Medical Device Programs platform provides software applications for home medicine, home medicine, home wellness, wellness, and wellness and wellness products. The company also provides online publications for home medicine and home wellness, health content management, and home medicine, among other activities.<|endoftext|>\n",
            "<|startoftext|>Managing the Global Payment Framework: Payments and Enterprise Payments.   By leveraging financial institutions and payment systems, Managing the Global Payment Framework enables financial and payment services providers to innovate and\n",
            "\n",
            "[210 | 399.02] loss=3.10 avg=2.88\n",
            "[220 | 415.35] loss=3.03 avg=2.89\n",
            "[230 | 431.67] loss=2.89 avg=2.89\n",
            "[240 | 448.01] loss=2.47 avg=2.87\n",
            "[250 | 464.38] loss=2.66 avg=2.86\n",
            "Saving checkpoint/run1/model-250\n",
            "[260 | 488.74] loss=2.73 avg=2.85\n",
            "[270 | 505.38] loss=2.18 avg=2.82\n",
            "[280 | 521.83] loss=2.39 avg=2.81\n",
            "[290 | 538.13] loss=2.83 avg=2.81\n",
            "[300 | 554.43] loss=3.13 avg=2.82\n",
            "======== SAMPLE 1 ========\n",
            ", and has become one of the most loved video game communities in the world.  The company has received numerous accolades and awards including being selected as one of Inc. magazine's 50 Under 50, among others. With over 800 employee players in its offices in Atlanta and Austin, the company's staff of over 2,000 professionals includes video game industry veterans from industry legends such as NetherRealm, Riot Technologies, Riot Games, Red Bull Inc., and Microsoft. The company has established relationships with brands including SEGA and Glu Mobile. By adding its video game industry expertise, Activision is poised to revolutionize the video game platform as a whole.<|endoftext|>\n",
            "\n",
            "<|startoftext|>Oyst is developing novel and proprietary nanofabrication technologies that enable new solutions for manufacturing food. In fact, Oyst is the first food manufacturing company to create food products using a proprietary nanofabrication process that can produce micro-allotropes, such as protein, fats, and water. Oyst is leading the global effort creating nanofabrication technologies for food and consumer, to create foods that are 100% biodegradable, ultra-portable and customizable.<|endoftext|>\n",
            "<|startoftext|>Orbita provides a new way for health professionals to share their expertise with patient partners, patients, and care team members. It is transforming the way information is shared. Orbita’s new cloud-based platform enables patients, specialists, and teams to discover and connect with each other.  It also gives them the tools to connect with each other and their clients, as well as an opportunity to reach new patients and patients’ clients by leveraging best practices from the healthcare industry.  Orbita is the fastest growing company in healthcare with revenues of $5B and is ranked in the top 100 of Google's Health Care Companies In A Changing Healthcare Industry, published quarterly by The Boston Consulting Group (BCG), an influential group of global experts in healthcare.  <|endoftext|>\n",
            "<|startoftext|>Organic Lighting is dedicated to bringing beauty to life. For over 15 years, they have focused on developing innovative solutions that address issues facing skin and the environment. Their mission is to create the products and technologies that address skin and the environment, while providing solutions for people living today - the customers - and those who are looking to meet them. Their vision is a world where every woman gets gorgeous skin and radiant skin without breaking the bank. And so, they’re taking on big problems in every city. Their products are made from materials that are sustainable, non-toxic, and eco-friendly, and using sustainable methods like composting and organic processing helps them capture the most greenhouse gas emissions, the absolute most of any product on the planet. In addition, ORGANIC LIGHTING has created a unique solution to lighten our air, water, and waste by turning it into a source of electricity and using it to operate our solar powered machines. We're changing the way the world produces and uses energy, and we“re a global company that has been built on being the lightest company in the world.<|endoftext|>\n",
            "<|startoftext|>At OpenID, we focus on building the next big thing in technology. The OpenStack Marketplace<|endoftext|>\n",
            "<|startoftext|>Open Source Software, Inc. is a provider of information technology solutions which have been and continue to be the foundation for the success of leading enterprises in the global Information Technology industry. Open Source Software, Inc. operates as one of the largest suppliers of the Information Technology industry. It currently manufactures products such as OpenPager and its products. Open Source Software, Inc. sells under the Open Source banner, or under the Open Source banner, C and C++, respectively. The firm was formerly known as Open Source Corporation.<|endoftext|>\n",
            "<|startoftext|>Of more than 30 countries, Pakistan ranks No. 6 out of all countries that the World Bank classifies in its annual Indicators of Well-being Report. The global average is No. 20. With such a low ranking, it's hardly surprising that the Pakistani government has resorted to measures to combat poverty. However, it also has to manage the growing number of Pakistanis who are facing dire circumstances, due to the declining standard of living.  In response, the Government has embarked on a campaign under the slogan of \"Wage Poverty & Poverty for All\".  The Government and its affiliated organizations have been responsible for the introduction, implementation and impact of the government initiatives on poverty, housing, access to food, housing, nutrition and the like. The government has also been responsible for the improvement in social safety and health. This report is the result of a one-on-one interview with an eminent civil servant, and was compiled by a prominent panel of economists. The report is an indispensable guide for anyone\n",
            "\n",
            "[310 | 593.30] loss=2.63 avg=2.81\n",
            "[320 | 609.61] loss=3.01 avg=2.82\n",
            "[330 | 625.96] loss=3.36 avg=2.84\n",
            "[340 | 642.33] loss=2.52 avg=2.83\n",
            "[350 | 658.66] loss=2.97 avg=2.83\n",
            "[360 | 675.01] loss=2.14 avg=2.81\n",
            "[370 | 691.42] loss=2.68 avg=2.81\n",
            "[380 | 707.82] loss=2.56 avg=2.80\n",
            "[390 | 724.19] loss=2.62 avg=2.79\n",
            "[400 | 740.50] loss=2.45 avg=2.78\n",
            "======== SAMPLE 1 ========\n",
            "000 business units across all divisions. Our goal is to provide our partners with a one-of-a-kind design that will allow them to design their own amazing products. We use our experience in building beautiful web apps as developers to understand our customers, and make sure they have everything they need to be great customers in the future.<|endoftext|>\n",
            "<|startoftext|>Reggora develops a novel class of protein structures and applications for use in bio-medical diagnostics.<|endoftext|>\n",
            "<|startoftext|>Risks and Opportunities\n",
            "\n",
            "There are a number of risks and opportunities that can be faced from the business model:\n",
            "\n",
            "Unfunded projects or other unforeseen problems.\n",
            "\n",
            "Expected delays due to business models.\n",
            "\n",
            "Unpredictable financial markets.\n",
            "\n",
            "Unsuitable and unfavourable trade conditions due to the lack of predictability.\n",
            "\n",
            "Expected loss of profits on the investment.\n",
            "\n",
            "Operational difficulties due to technical change or shutdown.\n",
            "\n",
            "Problems finding customers due to a lack of inventory at different times.\n",
            "\n",
            "Problems obtaining financing.\n",
            "\n",
            "Changes to supply chain management practices.\n",
            "\n",
            "Changes to business model due to product improvement.\n",
            "\n",
            "Change in business plan due to changes in business conditions or customers.\n",
            "\n",
            "Possible failure due to the business model, as a result of unexpected events or developments.<|endoftext|>A group of Israeli academics has developed a technology that they believe will help fight the spread of deadly microbes in human intestines and ensure food safety.\n",
            "\n",
            "They believe that an advanced understanding of the composition and structure of the gut microbiome has the potential to provide a complete picture of the human diet. This will enable us to assess and improve the safety of our food or beverages by exploiting a new range of novel microbial pathways.\n",
            "\n",
            "\"We are the first to develop robust methods and devices that enable precise measurements of what is in the gut of individuals across an entire population at very low cost and low volume\", says Dr. Avi Ben-David, an expert in the field of probiotics and professor in the Faculty of Agriculture (BFA), Faculty of Health Sciences, Institute of Food and Agricultural Sciences (IFAS) and Hebrew University. \"The aim is both to identify and understand the precise composition and structure of the intestinal microbial community, and to improve health.\"​ – Ben David\n",
            "\n",
            "\"We understand the importance of understanding the microbial communities present in your intestinal tract. This is the first time in over 100 years that it has been possible to develop such tools at the point of consumption, in close contact with the foods you consume. The research aims to answer fundamental questions such as: Is the microbiome present in the intestines common, or unique or artificial? What proportion of the microbiota are commensals and what is the microbial composition of the host? Are you drinking food that is microbial-based or plant-based? Is a specific microbial species present unique to your own species, or is abundant in others? Are the microbes present within the colon acting within your body as microbially-active agents, or are they naturally occurring within the body? Is there still not enough understanding by the mainstream community about the composition and function of the intestinal microbiota.  Do you have a specific food or beverages to which you are allergic? Is the microbiota present in the intestines or in a specific food or drink? Are the symptoms of illness coming from all over your body, or are they coming from different parts of your body?\" Dr. David has launched a number of public initiatives addressing these questions, as well as raising awareness around the issue. The first is his latest study published in the journal Gut. One third of the samples from patients with irritable bowel syndrome (IBS) were given a simple placebo, as well as 2.5x the number of probiotics consumed in the placebo group. It was observed that the same amounts of probiotics were still safe to take in the study, and the same amounts returned to baseline regardless of the patient's response to the study intervention.<|endoftext|>\n",
            "\n",
            "A new breed of food makers is emerging at a critical moment in human history. Food companies are seeking out a new way to innovate, and one way they're doing so is to rethinking what's already in food. By taking a different approach and putting products that are good for the planet in healthy portions, companies like Soylent, Kettle, and Lowspore are redefining food. Founded by an entrepreneur with a background in mechanical engineering and nanotechnology, these companies are developing revolutionary low cost ways to cook, ferment, and freeze foods that are clean, balanced, sustainable, and flavorful.<|endoftext|>\n",
            "\n",
            "Habitat is providing housing to some of the world's poorest people and those looking to build more are on the brink of becoming the new homeless. Habitat is a UK based company that uses an innovative technology to allow its community partners to rent their accommodation.  As a member of\n",
            "\n",
            "[410 | 779.03] loss=2.75 avg=2.78\n",
            "[420 | 795.37] loss=2.97 avg=2.79\n",
            "[430 | 811.70] loss=2.98 avg=2.79\n",
            "[440 | 828.03] loss=2.58 avg=2.79\n",
            "[450 | 844.39] loss=2.97 avg=2.79\n",
            "[460 | 860.73] loss=3.24 avg=2.80\n",
            "[470 | 877.04] loss=2.62 avg=2.80\n",
            "[480 | 893.39] loss=3.17 avg=2.81\n",
            "[490 | 909.78] loss=3.10 avg=2.82\n",
            "[500 | 926.19] loss=2.70 avg=2.81\n",
            "Saving checkpoint/run1/model-500\n"
          ],
          "name": "stdout"
        },
        {
          "output_type": "stream",
          "text": [
            "W0826 18:05:16.419136 140355689449344 deprecation.py:323] From /usr/local/lib/python3.6/dist-packages/tensorflow/python/training/saver.py:960: remove_checkpoint (from tensorflow.python.training.checkpoint_management) is deprecated and will be removed in a future version.\n",
            "Instructions for updating:\n",
            "Use standard file APIs to delete files with this prefix.\n"
          ],
          "name": "stderr"
        },
        {
          "output_type": "stream",
          "text": [
            "======== SAMPLE 1 ========\n",
            "comes|>WarrantyX™ provides a comprehensive and intuitive warranty calculator that lets consumers get the most out of their hardware and software product warranty claims. It also provides a way to compare warranties and understand warranty claims in detail, and a way to easily manage and track warranty claims and their claims processors, in case hardware or software breaks down or becomes faulty.<|endoftext|>\n",
            "<|startoftext|>WanderX aims to be the most comprehensive and personal shopping destination for travellers around the world. It offers a number of unique services that help its customers, in the form of travel deals, travel guides, gift-giving and travel suggestions. WanderX is available to its users on both mobile and desktop platforms, and offers a wide range of premium digital content that makes travel recommendations and the making of travel planning a delightfully personal experience. WanderX provides a number of ways for its users to make travel travel trips, and to get the best deals and get the most out of its deals. WanderX also offers an on-demand travel recommendation tool, travel planning software, and an advanced travel check-in and check-out functionality. Travelers can book their next global trip by making travel offers, getting recommendations, making reservations and getting a check-in/check-out in real-time. WanderX’s flagship product, WanderX Travel, is a travel planner, travel aid and book to go ticket booking software. WanderX Travel is launched by Yishai Keren of Palo Alto, California.<|endoftext|>\n",
            "<|startoftext|>WalletPizza enables businesses to increase employee satisfaction and reduce costs without the need for a payroll software or application. Its products are used for a wide range of companies including medical, dental and equipment manufacturers, and medical and professional offices. Its software was developed to work across all major companies, including small and medium sized businesses, large hospitals, and large public and private health institutions, and was introduced to the market by David Sirota of Boston, Massachusetts.<|endoftext|>\n",
            "<|startoftext|>Wantedys is an education start-up that aims to bring a digital world of education to everyone<|endoftext|>\n",
            "<|startoftext|>Water.Me is an education software application for the business. Water.Me is a collaboration platform that enables businesses to share content and learn how its used in real-time. Its powerful content management and reporting tools allow people to measure, track, grade and deliver feedback to business professionals while saving time and money.<|endoftext|>\n",
            "<|startoftext|>Wassup is a company that aims to make the construction material market safer for miners.<|endoftext|>\n",
            "<|startoftext|><|endoftext|>\n",
            "<|startoftext|>Waytos provides solutions to monitor and manage your business processes such as invoices, invoices, invoices, invoices, invoices, bills, invoices, bills, invoices, invoices, invoices, invoices, invoices, invoices, invoices, invoices, invoices. It also provides solutions to monitor the management and security of your data, documents and information. Waytos provides solutions to streamline the process of data sharing and manage the data from multiple layers of business processes. It supports the data protection of documents and business documents, managing the transfer of data between different agencies and the management of data security. Waytos is an enterprise solution designed to reduce costs while improving security and usability of the solution.<|endoftext|>\n",
            "<|startoftext|>Waygo provides a Web based communication platform enabling individuals, companies, and organizations to create customized, highly professional communication based activities for their companies and teams. It enables its users to easily create, publish and manage meetings and task to task communication for the communications management system, meeting scheduling, video conferences, and group chat. Waygo helps its users maintain meetings and communications, manage meetings, analyze and report information for meetings, monitor meetings and reports, provide reports to participants, and monitor meetings.<|endoftext|>\n",
            "<|startoftext|>WarrantyEase is a cybersecurity technology that allows its users to report, repair and dispose of the items it handles, in real-time, anywhere, for any price, and get a full refund or satisfaction guarantee for a flat rate of at least 90% of parts. WarrantyEase is in private beta and will be introduced to the general public in December of 2015. WarrantyEase is a cybersecurity solution that protects the network from hackers and malware by giving users the option to report, document, and send reportable and confidential information in real-time, with a 15-50% rate decrease in file size, at no cost to its users. The company's patented Cyber-Disruption Protection technology prevents viruses from damaging users\n",
            "\n",
            "[510 | 972.06] loss=1.95 avg=2.79\n",
            "[520 | 988.37] loss=1.97 avg=2.77\n",
            "[530 | 1004.70] loss=2.66 avg=2.77\n",
            "[540 | 1021.06] loss=2.54 avg=2.76\n",
            "[550 | 1037.41] loss=2.88 avg=2.77\n",
            "[560 | 1053.80] loss=1.91 avg=2.75\n",
            "[570 | 1070.19] loss=2.32 avg=2.74\n",
            "[580 | 1086.61] loss=1.70 avg=2.71\n",
            "[590 | 1103.01] loss=2.31 avg=2.70\n",
            "[600 | 1119.43] loss=2.62 avg=2.70\n",
            "======== SAMPLE 1 ========\n",
            " demand and the ability to control the product development.<|endoftext|>\n",
            "<|startoftext|>At Daimler, we build a vehicle for people who want something that looks good and is comfortable and that also offers more than meets the eye: the ability to drive it and drive it well. To do this, we look to our heritage of well-maintained and highly popular cars and trucks: the 5 series, namely the 4A, 4E, 4M, and 4Z.  The 4A was designed from the early 1990's to be an excellent family car for everyone at an attractive price: a 5 series of the 5A family.  The 4C was also designed to be an excellent family car for everyone at an attractive price.:  A 3-series with the 4C and 2C series cars, 2C being the standard car.   The 3 series (B3, 3 and 3.5E) represents the evolution and direction of the company (from sport sedan to a family car). The 3.5 series (B3, 3.5 and 3.7T) represents the evolution and direction of the company (from hatchback to luxury sports car).  The 3 series (E3, 3.5, 3.6, 4 and 4.5E) represents the evolution and direction of the company (from sport sedan to luxury sports car).<|endoftext|>\n",
            "<|startoftext|>Defo was created to make the internet work for everyone and to help you make better decisions and more importantly, live a better life. They are the first community dedicated to providing information related to the technology that powers your life right now, and they are about to be the first to provide all of those pieces together. We have created an ecosystem of information and the community has created a brand new way to discover and connect with like minded people – using only a few simple words and an idea. We have created a community on the internet dedicated to making the people around you smarter so that the people around you spend more time doing the things that really matter – the things that will really increase your happiness and increase your quality of life.<|endoftext|>\n",
            "<|startoftext|>Demographic: 30% of the population is under the age of 25 years, 25% of adults are 65 years and older and only 12% are under age 50. By contrast, 40% are under age 50 and 26% are older than 50. Demographics are projected to stay constant at the average 55+-year-old age. It is projected that by 2026, 55% less than 50 years old will be eligible for Medicare. It is also projected that by 2026, more than half older than 50 years old will be eligible for Medicare.<|endoftext|>\n",
            "<|startoftext|><|endoftext|>\n",
            "<|startoftext|><|endoftext|>\n",
            "<|startoftext|>DermaTech, Inc (TSXV: DMMT) is in the early stages of developing innovative laser-based diagnostic technologies that assist clinicians in detecting and treating rare diseases at the point of diagnosis by providing a unique, novel, and non-invasive diagnostic method that can be used in the consultation of a physician prior to or at the point of diagnosis.<|endoftext|>\n",
            "<|startoftext|>DevOps is the core responsibility of all IT managers in the organization and DevOps is a skill set that is required to effectively manage DevOps. DevOps involves the ability to effectively manage DevOps across the enterprise with the ability to apply DevOps within the organization. DevOps training is a skill set that is required to effectively manage DevOps across the enterprise with the ability to apply DevOps within the organization.<|endoftext|>\n",
            "<|startoftext|>DETROIT TECHNOLOGY CO., LTD. (NYSE: DEQ) is a leading private sector engineering and science software company that delivers innovative applications to an emerging market. DSETECH is a premier technology-enabled business for the auto/electrical industry with extensive experience in engineering, business software development, and data processing.<|endoftext|>\n",
            "<|startoftext|>DemandSense is an industry-leading technology-enabled market research company and the leading company of its kind using the internet of things to measure demand for products across retail, home, mobile, IoT and consumer markets. The company’s leading digital research is used in over 100 business sectors worldwide and provides data that is used for the first time to measure the demand for products globally. In the US, DemandSense has an agreement with retailers that allows them to obtain demand data from retailers. The technology enables them to measure demand and to understand demand across all markets. The company also provides a data product in Canada.<|endoftext|>\n",
            "<|startoftext|>Desjardins is a French\n",
            "\n",
            "[610 | 1157.97] loss=2.93 avg=2.71\n",
            "[620 | 1174.29] loss=2.73 avg=2.71\n",
            "[630 | 1190.69] loss=2.26 avg=2.70\n",
            "[640 | 1207.12] loss=1.92 avg=2.68\n",
            "[650 | 1223.51] loss=1.84 avg=2.66\n",
            "[660 | 1239.86] loss=2.39 avg=2.66\n",
            "[670 | 1256.20] loss=3.13 avg=2.67\n",
            "[680 | 1272.55] loss=2.57 avg=2.67\n",
            "[690 | 1288.89] loss=3.03 avg=2.67\n",
            "[700 | 1305.24] loss=1.93 avg=2.66\n",
            "======== SAMPLE 1 ========\n",
            " and a lot closer to my family.<|endoftext|>\n",
            "<|startoftext|>Watty Solutions (formerly Wattty Ventures) is a privately-held technology company focused on helping organizations around the world optimize their digital and physical communications networks. Our mobile apps are used by over 18 million users every day in 150+ countries, and we connect over 1.4 billion people with friends and family. Our focus is to deliver the right message wherever it's received’s most vulnerable; and to help organizations succeed where others have failed.<|endoftext|>\n",
            "<|startoftext|>Wandering Labs is a startup that creates unique outdoor living experiences and inspires individuals and families to live their life in the natural world. We create stories around place and around technology. Through a collaborative approach we work with leaders and leaders of organizations, local groups and individuals who share our mission and values. Wanding Labs gives our vision a global reach by leveraging the technology, services and knowledge we bring to bear on the challenges of living and interacting with the natural world.<|endoftext|>\n",
            "<|startoftext|>WaVe is the world's most popular app food app. We let you know what's next. Follow along, add to your meal, share it with your friends and get updates when we announce new restaurants near you.  WaVe started as a one-woman show and has become the most widely-applied food app at the highest levels of the restaurant industry.<|endoftext|>\n",
            "<|startoftext|>WaterSense Systems is a highly advanced cloud-computing infrastructure company designed to deliver rapid growth in the global supply chain. WaterSense makes high bandwidth multi-core CPU-centric cloud platforms and applications possible for global enterprises of all sizes.<|endoftext|>\n",
            "<|startoftext|>Waste Industries is a North American company that is transforming the entire waste disposal market, delivering the most consistent, cost-effective, predictable and sustainable end-to-end service in North America. We work with clients throughout North America, including those that operate less than 20% of their facilities.<|endoftext|>\n",
            "<|startoftext|>Wanda.it delivers a unique service for the hospitality industry. Wanda.it provides guests the opportunity to reserve a table in a restaurant, booking it via Wanda e-commerce platform. This feature allows for the purchase of table directly from the restaurant’s website, without the need to bring any personal items, providing a better experience for guests.<|endoftext|>\n",
            "<|startoftext|>Waypoint provides the best technology for intelligent cities. It helps organizations design smart city infrastructure. Waypoint’s Smart City Platform combines a cloud-based data management system, the OpenStreetMap™, and a mobile app that provides data insights, recommendations, and mobile apps.   Waypoint helps urban organizations to optimize infrastructure investments through continuous city improvement, data integration, and data science.<|endoftext|>\n",
            "<|startoftext|>Wakelet is a fully-automated mobile application, that enables users to receive and set reminders. Wakelet uses artificial intelligence to improve your daily productivity, improve the way you communicate, and more. Wakelet is a cloud-enabled productivity service designed for companies that use mobile and web applications as part of their daily digital workflows. With Wakelet, you can take the time to take notes, take trips, share locations with your team, and much more.<|endoftext|>\n",
            "<|startoftext|>WareBotics is a US company that develops and sells the world’s first self-serve washing machine, which enables consumers to wash their clothes directly from their mobile devices, without leaving the house. The product can be ordered as a stand-alone unit, or as part of a team’s weekly, monthly, or monthly recurring delivery plan. WareBotics was founded in 2011 and is based in Overland Park, Kansas.<|endoftext|>\n",
            "<|startoftext|>Waste.io is an e-commerce platform that specializes in green product recycling and environmental solutions. It was launched in 2012, and is headquartered in New York City.<|endoftext|>\n",
            "<|startoftext|>Watt-Energy is transforming the way power plants generate energy by using clean, abundant and ultra-efficient energy. Our innovative patented technology delivers peak and trough levels of energy on demand. At watt-energy, efficiency matters: The goal is to reduce variability and increase reliability by as much as 50-75%, while continuously increasing energy density. We’re committed to this goal because it’s the most important thing to us, the key to sustaining and improving the performance of our global customer relationships.<|endoftext|>\n",
            "<|startoftext|>WatchPoint, a real-time video search, is powered by\n",
            "\n",
            "[710 | 1343.96] loss=2.35 avg=2.65\n",
            "[720 | 1360.31] loss=2.21 avg=2.64\n",
            "[730 | 1376.64] loss=2.30 avg=2.64\n",
            "[740 | 1392.97] loss=2.38 avg=2.63\n",
            "[750 | 1409.32] loss=1.93 avg=2.62\n",
            "Saving checkpoint/run1/model-750\n",
            "[760 | 1432.72] loss=2.67 avg=2.62\n",
            "[770 | 1449.38] loss=2.03 avg=2.61\n",
            "[780 | 1465.85] loss=1.70 avg=2.59\n",
            "[790 | 1482.18] loss=1.25 avg=2.57\n",
            "[800 | 1498.45] loss=1.87 avg=2.56\n",
            "======== SAMPLE 1 ========\n",
            " effectively for any client.  So, our users’ information is protected and their privacy is guaranteed.  Whether it was building a new business or getting your own started, the PowerLab service is an excellent substitute for the traditional website.<|endoftext|>\n",
            "<|startoftext|>Panthera’s mission is to improve health through better health management.  They combine the power of large health databases with the power of predictive analytics, delivering personalized, relevant, and cost-effective care. Their product is the first and only product that combines predictive analytics with real-time analytics to drive personalized activity targeting. With Panthera's predictive algorithms and analytics, healthcare organizations can better target and manage their staffs, improve administration efficiency and lower costs, achieve better patient and societal outcomes, and increase patient safety and health.  Today, Panthera products and services include: health data management and analytics, predictive analytics, analytics and data mining, risk analytics, predictive health modeling and optimization, predictive analytics, and data applications. The company’s software solutions are used by businesses throughout the financial services, real estate, insurance, research, health, and media industries; it is an established network across such companies.  Panthera’s services include: Personalized health messaging, predictive management software, software for health planning, predictive analytics, data analytics, digital health management, cloud health, and medical services.  Panthera is a privately held corporation headquartered in Oakland, California.<|endoftext|>\n",
            "<|startoftext|>Pagoda is an online platform to help you understand, manage and expand your customer base.  All over the world, brands use this platform to learn more about their audiences and build their business, from how they grow to how they interact with them in the future.<|endoftext|>\n",
            "<|startoftext|>Paladin provides a platform that makes it easy for you to build a better portfolio of assets. It's all in one app that makes your portfolio and portfolio management simpler. It does this in a way that will enable you to achieve your portfolio goals, improve your portfolio's competitiveness, and boost your long-term strategy. Paladin has two major components: portfolio management tool, a platform, and portfolio management application. From the platform, you can see a portfolio of assets by any asset type, identify market capitalization and portfolio-wide performance. With portfolio management tool, you can share data about assets and create and manage portfolio-wide portfolios of assets. From it's dashboard, you can see your portfolio on it’s first run, see its competitive performance, and compare it with the other platforms and portfolios. In addition, portfolio management application, with the help of your own portfolio, can help you make good investments, measure your current investments, and set up investment vehicles that make more accurate assessments of your assets and performance and better portfolios.<|endoftext|>\n",
            "<|startoftext|>Pimax Technology was founded in 2017 by two brothers with extensive technology industry experience. They partnered with leading technology vendors to deliver one-of-a-kind solutions, leading enterprises to make radical product changes and make radical business decisions. Their flagship platform, called \"PocketPimax\" has already enabled customers of the most progressive companies in tech, from Walmart, Google, eBay, Facebook, and Intel. They are the only company that operates inside the enterprise where customers work using PocketPimax, one of the best-in-class enterprise applications in mobile and in any field, creating their own PocketPimax. The company is currently working with some key key companies, such as Tesla, Airbnb, Uber. At the core of PocketPimax is a powerful mobile app called \"PocketPimax on steroids\", which is used by customers around the world to easily manage their investments in more profitable ways. We have already deployed PocketPimax on a few different projects, such as helping a company turn a profit from a project using it, helping a merchant convert a customer to a recurring customer, and giving a customer better insights into the performance of his portfolio and the profitability of his portfolio as the technology improves.  Since PocketPimax is not something that comes from a startup, they are developing it independently of all the crazy technology vendors and businesses that are used in the startup/tech space. You can see the development of PocketPimax on it's own in the picture at the top of this post.<|endoftext|>\n",
            "<|startoftext|>PlayDoh has long been a pioneer of 3D printed clothing.   PlayDoh was the first to make it possible for people to be a part of the world in 3D using the technology on the Internet.  The company was founded by Satyam Rajendran and is headquartered in San Francisco, California.<|endoftext|>\n",
            "<|startoftext|>PlayOn connects individuals and businesses with compelling video\n",
            "\n",
            "[810 | 1537.01] loss=2.33 avg=2.55\n",
            "[820 | 1553.36] loss=2.98 avg=2.56\n",
            "[830 | 1569.70] loss=2.31 avg=2.55\n",
            "[840 | 1586.08] loss=1.72 avg=2.54\n",
            "[850 | 1602.42] loss=3.00 avg=2.55\n",
            "[860 | 1618.74] loss=2.73 avg=2.55\n",
            "[870 | 1635.13] loss=1.71 avg=2.54\n",
            "[880 | 1651.56] loss=1.96 avg=2.53\n",
            "[890 | 1667.98] loss=2.92 avg=2.53\n",
            "[900 | 1684.38] loss=2.82 avg=2.54\n",
            "======== SAMPLE 1 ========\n",
            " someone, we can find the right solution for them. There are currently around 200 websites registered to this name that we are the most interested in, so we are confident that you will love the way our unique search and ratings system is used to find your solution for you. In the last quarter, we have grown from 20 to more than 60 websites per day, but we don't stop there as we are now also looking into the possibility of becoming the dominant online destination to address a variety of products and services relating to the medical care industry. When you use MedExchange to compare and select a solution, we are also able to list those solutions that are of high interest to our customers as well as list some solutions that you might find useful in other sectors or fields. As MedExchange is a growing company it has started using an enterprise technology based platform (EEPA) to handle the growing amount of data produced by its users. With a goal to make this process as smooth as possible, the company is now able to control and analyze the data and provide its users an interactive product to make a choice on whether or not to pursue their solutions as well as provide feedback after you take the decision, such as feedback to the solution. We are also able to offer a feedback to the company after the decision and are also adding elements of user satisfaction and satisfaction as well. By combining all these elements MedExchange is currently in the process of becoming the most influential online destination to address a variety of different product areas on the market.<|endoftext|>\n",
            "<|startoftext|>MediCor is an IT consulting company that helps people manage healthcare systems and applications to improve quality and profitability. We are experts in software applications such as CMSs, ERP, mobile, web applications, business intelligence, infrastructure, cloud, CRM, automation, OTTs, and more. We work with large organisations and large multinationals, and have offices all across the world.<|endoftext|>\n",
            "<|startoftext|><|endoftext|>\n",
            "<|startoftext|>Misconduct.com is a Web-based platform for legal disputes and disputes for personal communications.  Misconduct was launched by an alumni of law firm of the same name of Harvard University. Incidentally the site was already used by students at Harvard University to solve some problem.  This is one more solution for the solution gap of the internet.<|endoftext|>\n",
            "<|startoftext|>Millennium Mobile Inc. provides Internet mobile data in the United States with a mobile payment method and a mobile data plan. Millennium Mobile is a technology company in China, founded in 2008, with an operation in Guangzhou, China. Millennium Mobile is listed on NASDAQ as a technology company.<|endoftext|>\n",
            "<|startoftext|><|endoftext|>\n",
            "<|startoftext|><|endoftext|>\n",
            "<|startoftext|>MillionairesClub.com is a global consortium of the world's wealthiest individuals and their companies investing in, promoting and managing the growth and success of real estate, high technology and innovative technologies which enable them to create and prosper their private and public properties. Through the use of technology we enable our members to manage their businesses in a more transparent and effective way, while maintaining their independent edge<|endoftext|>\n",
            "<|startoftext|>NavX is an online booking platform and the leading online destination for travel & accommodation, allowing travelers to search online and find exactly what they want. NavX has created a portal to travel that would allow you to easily find the perfect hotel in a more relevant or unique way for you. NavX is a privately held company, led by experienced executives from some of the world's top companies in the industries that have been dominating the online travel and travel trends in recent times. In addition to the current portal for travel in a given city, NavX has created a portal to make it simple for people to find the best places to stay by searching in the portals that they require. NavX also focuses on creating a way for people to search and find the best hotels that they want to be staying at, for more than just the one particular place. As the world's leading online hotel marketplace, NavX is able to handle the challenge of serving everyone’s desire to be sure and that what they want to do is to search, find and find what they need. NavX is home to the world’s best qualified and experienced real estate agents, offering services that create more connections for all, whether it is to search for a place, find the perfect hotel, or to search the Internet and find exactly what they want. NavX also offers a portal to make it easy for people to find great places to eat and do business with other businesses they like.<|endoftext|>\n",
            "<|startoftext|>Might is the new best friend: A friend\n",
            "\n",
            "[910 | 1722.93] loss=1.39 avg=2.52\n",
            "[920 | 1739.26] loss=1.03 avg=2.49\n",
            "[930 | 1755.66] loss=1.44 avg=2.48\n",
            "[940 | 1772.09] loss=1.95 avg=2.47\n",
            "[950 | 1788.51] loss=3.04 avg=2.48\n",
            "[960 | 1804.92] loss=2.03 avg=2.47\n",
            "[970 | 1821.33] loss=1.59 avg=2.46\n",
            "[980 | 1837.73] loss=2.95 avg=2.46\n",
            "[990 | 1854.13] loss=1.77 avg=2.45\n",
            "[1000 | 1870.55] loss=3.53 avg=2.47\n",
            "Saving checkpoint/run1/model-1000\n",
            "======== SAMPLE 1 ========\n",
            " reducing and extending the life of software.       The software architecture is extremely complex and dynamic.   Different software architectures require different development times.       Different hardware controllers require different programming interfaces.<|endoftext|>\n",
            "<|startoftext|>A new way to explore, measure, and share what you get\n",
            "<|endoftext|>\n",
            "<|startoftext|>Degree has invented the world's largest video content library, covering more than 10.4 terabytes of video. The company is a leader in instant-video content and develops on mobile devices like iPad. Degree is an educational technology company, designed for non-traditional learners, using data to make curriculum relevant, relevant, and personalized. Degree's curriculum combines real-world experiences with learning content to inspire curriculum that provides learners the context, not the context, which they’re missing when they start from a non-traditional source. Using a unique proprietary technology, Degrees helps educators connect classroom lessons with learning opportunities. Learning content from different sources, and video from all over the web, creates high-quality, highly engaging learning materials for teachers and learners. Degrees has been recognized as a Top 100 Private Company by Crain's and has been recognized as a Top Small Business by CTForeclosure.com.<|endoftext|>\n",
            "<|startoftext|>Deepens, Inc. engages in developing small molecule therapeutics for inflammatory disorders and for the treatment of neurodegenerative diseases. Its product candidates include PED-251, a small-molecule receptor antagonist for the EGFR kinase agonist; PED-202, a potent inhibitor of nicotinamide adenine dinucleotide kinase; and PED-9001, a small-molecule receptor antagonist for N-acetyl-acyl-guanosine (N-CG; also used for the treatment of nicotine addiction and compulsive behaviors). It also develops two other small molecules: PED-202 and PED-9001. Its drug candidates have been shown in preclinical models to be safe and have potential as drugs for inflammatory diseases, including rheumatoid arthritis and brain injury. In addition, it has initiated a Phase 2 clinical trial for the treatment of peripheral arterial hypertension. Deepens, Inc. was founded in 2010 and is based in Bedford, Pa. It has subsidiaries and affiliates in New Jersey, California, Texas and Virginia.<|endoftext|>\n",
            "<|startoftext|>Delta Health offers health plans a web-based, flexible technology that allows people to receive and continue health coverage. The company specializes in electronic health records (EHRs), e-health and other cloud technologies. The company is available as an EHRA member, health exchange member, or as a mobile application for employer benefits. Founded in 2011 in Oakland, Calif., the company was acquired by Aon Corporation on September 2, 2013.<|endoftext|>\n",
            "<|startoftext|>DeepField is the leading provider of predictive analytics for the real-time transformation of content into actions and outcomes. At DeepField we deliver advanced, real-time, visual analytics that empower decision-makers to identify, engage and catalyse action across the social, digital and professional spaces. The business uses machine learning with cutting-edge data science and robotics to enable managers to better engage teams in front office, site and digital channels while improving employee productivity.   With products like \"Show Me One,\" available in April 2018, it will help people easily collaborate with friends and family to share content, actions and rewards.  DeepField is headquartered in Atlanta, Ga.<|endoftext|>\n",
            "<|startoftext|>Devoteam is an award-winning design and production studio providing the highest quality solutions to the real-time business and design world.<|endoftext|>\n",
            "<|startoftext|>Delvify Finance enables small and medium-sized enterprises to create more income with less capital.   Established in 2014, Delvify Finance has successfully funded three successful startups in its first six months: - Delvify: AaaB funded by SeedInvest - Delvify: US $1.3m first round - and - Delvify: US $50,000+ second round funding - The business has reached a strategic partnership with Deloitte, which has been approved for second round funding.  - Delvify has raised $5m to date for its business (including $3m from SeedInvest) and is valued at US$60m. <|endoftext|>\n",
            "<|startoftext|>Founded in 2002 by a serial entrepreneur and inventor, Delos is engaged in the design and manufacture of high precision, high flow cooling and vacuum packaging systems capable of coolant exiting the coolant system entirely. It also provides end-of-life solutions for large\n",
            "\n",
            "[1010 | 1916.76] loss=2.52 avg=2.47\n",
            "[1020 | 1933.08] loss=1.86 avg=2.46\n",
            "[1030 | 1949.37] loss=1.28 avg=2.44\n",
            "[1040 | 1965.74] loss=1.73 avg=2.43\n",
            "[1050 | 1982.15] loss=2.26 avg=2.43\n",
            "[1060 | 1998.57] loss=1.89 avg=2.42\n",
            "[1070 | 2014.95] loss=2.42 avg=2.42\n",
            "[1080 | 2031.33] loss=2.10 avg=2.42\n",
            "[1090 | 2047.67] loss=1.91 avg=2.41\n",
            "[1100 | 2064.01] loss=1.53 avg=2.40\n",
            "======== SAMPLE 1 ========\n",
            " a computer, tablet, phone, video game console, mobile phone in your pocket. It has started work on a mobile phone app, a web-interface product for the devices.  It also develops web and mobile application in-house. Its technology is based on a patented algorithm, developed specifically for mobile phone. As a spin-off of IIT-Bombay, Raja AI is a research company with global scope. Currently working with top end mobile phone research institutions and companies in the emerging market, Raja AI is building a set of algorithms to automate research and development, and provide high-value, patent-pending algorithmic solutions for large-scale research. Raja AI specializes in machine learning and computational fluid dynamics. Its AI solutions are used both in research and in real-world applications. It is building an ecosystem of AI algorithms that is designed to facilitate collaboration within research teams, and to foster innovation.<|endoftext|>\n",
            "<|startoftext|>Recursive Research, a California-based startup, develops software and hardware products designed to improve the efficiency, stability and productivity of software projects. Its software products enable project management, track project progress, and track software upgrades and changes across the entire project life-cycle. Recursive Research was founded by Sébastien Chollet and André Bourbeaud in September 2014 and is backed by a consortium led by Renaissance Technology Ventures, Inc. and Ténèbres SA. In August 2011, RECursive Research was acquired by Renaissance Technology Ventures, a technology investment company. The company was founded in 2010 and is based in Silicon Valley, California.<|endoftext|>\n",
            "<|startoftext|>Raptr brings people closer. We create digital networks where people meet, do business, and connect in a peer-to-peer ecosystem. The Raptr platform uses artificial intelligence and other technology to allow network members to share in the benefits of their R&D. They build open source software and hardware products to bring this vision to life.<|endoftext|>\n",
            "<|startoftext|>Rentals.com is a technology-driven rental marketplace that pairs independent landlords with tenants looking for a place to rent.  All rentals are fully searchable and available on properties ranging from one-room apartments to apartments with kitchens and baths. Rentals.com combines multiple factors such as credit score, income, and location with the goal of finding housing that meets everyone's needs.<|endoftext|>\n",
            "<|startoftext|>RenttoPower is a company whose mission is to improve the economic viability of communities in the United States by providing sustainable energy access for both home and commercial users. As such, RenttoPower is committed to ensuring the safe and reliable operation of the nation's nuclear, electric, and hydroelectric power plants.  As the nation's leading sustainable clean energy company, RenttoPower understands the impact its actions have on communities by providing energy solutions that are clean, renewable and affordable.<|endoftext|>\n",
            "<|startoftext|>RedHill Biopharma, Inc., a clinical stage biopharmaceutical company, has selected and has entered into a licensing transaction to commercialize and develop its products. This provides the Company with an important strategic opportunity to develop its portfolio of drugs, which in turn provides the opportunity to capitalize on the commercial opportunities for future revenue cycle.<|endoftext|>\n",
            "<|startoftext|>RealCrowd is a global crowd funding marketplace that aggregates and evaluates crowdsourcing projects, creating the crowdsourced content to be built into products. The Crowd is a global network of community-driven projects, which collectively provide valuable feedback to an organization in creating products and services, such as business opportunities, opportunities for growth, and financial rewards. RealCrowd has grown to more than 350,000 projects funded in over 200 countries and the company’s team of 200+ passionate investors. The company is based in San Francisco, California and headquartered in New York, NY.<|endoftext|>\n",
            "<|startoftext|>Rocketz is the cloud gaming platform. With Rocketz you can host your own server and host any game anywhere. You can play games on any device, offline, and with anyone. Rocketz servers support high-end gaming PCs, mobile phones, tablets, IPTV set-top boxes, serverless computing platforms, and virtual servers. You can host your own server and host any game anywhere. You can have players join for free and have paid players earn real gamers gold. Your players earn the first right to access the game.  It is easier than you think.  Play with friends in your office, home, or a pub or club while you work. It's that easy.<|endoftext|>\n",
            "<|startoftext|>Rebellion is a tech start-up that has been selected by both StartUp Ireland and TechStars San Francisco as one of the 13 new tech\n",
            "\n",
            "[1110 | 2102.72] loss=2.62 avg=2.40\n",
            "[1120 | 2119.07] loss=2.55 avg=2.40\n",
            "[1130 | 2135.39] loss=1.84 avg=2.39\n",
            "[1140 | 2151.72] loss=1.07 avg=2.37\n",
            "[1150 | 2168.07] loss=2.55 avg=2.38\n",
            "[1160 | 2184.45] loss=3.15 avg=2.39\n",
            "[1170 | 2200.87] loss=2.03 avg=2.38\n",
            "[1180 | 2217.27] loss=2.25 avg=2.38\n",
            "[1190 | 2233.67] loss=1.92 avg=2.37\n",
            "[1200 | 2250.08] loss=1.85 avg=2.37\n",
            "======== SAMPLE 1 ========\n",
            " and and beyond. Founded in 2006 and headquartered in New York, Dented Brick specializes in construction and design-focused solutions in the construction of high-presence offices, retail spaces, retail shops, conference facilities, office parks and residential facilities.  In addition to design work, the firm’s headquarters are located in downtown Chicago and have been designated as the preferred location for many years due to its proximity to the Midway to West Interchange and the iconic \"STABB\" sign that hangs above its entrance.  Dented Brick is on a mission to facilitate every project that occurs along the Midway. This mission encompasses everything from obtaining an EIR for construction work to completing the EIR as quickly as possible.  The firm is renowned for its speed as well as for working with contractors who have earned the Dented Brick’s™ unique seal of approval. To this end, Dented Brick is the only firm to grant each of its construction partners unique dual or triple-stamp EIR’s upon completing a project. Upon completion of the work, the firm’s certificate of approval is included with the completed project.   While the public eye may focus on construction and other construction work, the Dents is committed to provide complete and integrated repair, operation, maintenance and operational services to businesses that require them.<|endoftext|>\n",
            "<|startoftext|>deer and Dearbird brings simplicity and elegance to the way people interact with outdoor furniture and accessories by providing its users with the right fit for every use.  Our online catalogue is constantly expanding with more accessories for every season, brand and room. Deer and Dearbird was founded in 2013 and operates from New York, United States.<|endoftext|>\n",
            "<|startoftext|>Deerling is a technology owned and operated by nature, nature creates products you love. They offer people around the world that have benefited from their plant based products – their skins, oils, flowers and nuts, to use in their products. They work with companies ranging from luxury fashion brands to local businesses to provide their suppliers with access to a world class supplier network. Their team is diverse and globally distributed across multiple industries including medicine, communications, foodservice and forestry.<|endoftext|>\n",
            "<|startoftext|>Debbazu is an online marketplace that helps people buy and sell their unwanted and damaged possessions. It aims to serve both buyers and sellers. The online store aims to be your partner in saving and selling your unwanted and damaged possessions.<|endoftext|>\n",
            "<|startoftext|>Deer & Dearbird was founded in 2008 with one mission: make plant based living affordable and simple for everyone. In 2010 we launched our first online marketplace to fund the construction of homes made entirely of plant-based materials like bamboo and fir, using just a basic credit card. The initial aim was to help people buy and sell their excess constructibles like palazzas, trikes and jumbo trikes. But after receiving many positive feedbacks, we quickly realized that we could do so many more extraordinary things with the same basic credit card. The market for usable bamboo and fir constructibles is exploding and it’s time to change that with our first step towards sustainable consumption.<|endoftext|>\n",
            "<|startoftext|>The Dealflow brand was started in 2008 by two businessmen from Dublin, Ireland. Over the next four years Dealflow opened two more offices in India. Dealflow.com was launched in 2012 in Coimbatore, Tamilnadu (now Hyderabad). Within two years of its launch Dealflow’s mobile number one website was serving over 100,000 users. In 2016, Dealflow launched its second website in Delhi, Lucknow, which has already crossed one million unique visitors. In 2017, the third website opened in Mumbai, which is already in the top 10 in India for the number of days of its listing. In 2018, Dealflow launched its online rental and buyback program, which is the fifth time in six months that the website has topped the list of the best places to rent and buy property in India. Dealflow’s success story has also been recognized in awards and Chambers. In 2018 Dealflow was named “Mobile Place of Value” by IIT Madras and 2017 by IIT Bangalore. Dealflow is considered the leader in the rental and buyback products in India with sales of over one million units. The website has also been featured in The Economic Times and The Wall Street Journal. Dealflow is the #1 place in India to search for rent and buy properties with its users having the privilege to manage their properties. The Dealflow mobile application makes renting and buying property simple and accessible for those living in luxury apartments, apartments that are shared by more than one family. <|endoftext|>\n",
            "<|startoftext|>Deskstar is a\n",
            "\n",
            "[1210 | 2288.78] loss=2.33 avg=2.37\n",
            "[1220 | 2305.10] loss=1.65 avg=2.36\n",
            "[1230 | 2321.47] loss=1.80 avg=2.35\n",
            "[1240 | 2337.88] loss=0.97 avg=2.33\n",
            "[1250 | 2354.32] loss=1.65 avg=2.32\n",
            "Saving checkpoint/run1/model-1250\n",
            "[1260 | 2377.84] loss=0.77 avg=2.30\n",
            "[1270 | 2394.40] loss=1.94 avg=2.29\n",
            "[1280 | 2410.86] loss=2.36 avg=2.29\n",
            "[1290 | 2427.19] loss=1.49 avg=2.28\n",
            "[1300 | 2443.51] loss=2.72 avg=2.29\n",
            "======== SAMPLE 1 ========\n",
            " market at a discount of 33% - 50% depending on the product. That discount represents savings from being able to offer an equivalent product or products to a comparable price.<|endoftext|>\n",
            "<|startoftext|>DeVilbiss Healthcare is a global healthcare company dedicated to making high quality, affordable specialty solutions solutions to the specialty healthcare market. To drive specialty revenue growth, the company leverages its expertise in patient engagement and specialty partnership development to improve the profitability of specialty businesses.  The Company operates in 11 specialty areas: Cardiology, Dental Hygiene, Emergency Medicine, Internal Medicine, Orthopedics, Radiology, Surgical Pathology, and Vision.<|endoftext|>\n",
            "<|startoftext|>DealDash is a software that allows sellers to monetize excess product inventory as quickly and as effectively as possible. When you have excess product from authorized sellers, you can sell it as quickly and more efficiently than any other auctioneer or logistics company. We honor all contracts. We track each sale and remove any obstacles to final sale. We give you real-time access to your budget for all periods. Our technology is easy to use and comes with powerful bidding and counter-buying tools. And we have a database of thousands of previous auction winners to help sellers sell at their prices.<|endoftext|>\n",
            "<|startoftext|>Deven Software is a global cloud-based solutions company that offers cloud-based solutions through an intelligent cloud-based contract that ties into and simplifies legacy business processes with a single source of change in order to provide real-time enterprise visibility, transparency and productivity improvements. Deven's Cloud-to-Business Solution™ builds upon the Company, simplifying and streamlining its business in order to deliver a single, integrated solution for each enterprise. Deven provides a single and integrated approach as it applies to their customers' businesses worldwide.   Deven Software was founded in 1995 and is headquartered in West Lafayette, Indiana. For more information, please visit www.deepedge.com and our Investor Relations page.<|endoftext|>\n",
            "<|startoftext|>Delica is a personal health analytics company helping people manage their health better. Our mission is to help folks stay healthy and prevent heart attacks and strokes by empowering them with data to better health. We help folks save money on their healthcare and prevent costly medical procedures with a simple eCookie cookie.<|endoftext|>\n",
            "<|startoftext|>Decidata is the company behind the Health Data Platform, a comprehensive cloud-based, Big Data Analytics solution that provides real-time insights into patient and provider data to healthcare providers and paid medical partners.  With Health Data Platform, patients and providers gain access to the data they need to make better decisions, get the data they need to better health, and pay for the health outcomes they need to see with quality healthcare.<|endoftext|>\n",
            "<|startoftext|>Deltascape is an international technology company that delivers web video performance analysis and platform optimization solutions. They have a mission to make web performance more effective to enable more exciting and measurable moments in video content. They achieve this by delivering advanced tools for measuring web video impact that enable marketers and media buyers not only to improve ad performance but also to measure video value.<|endoftext|>\n",
            "<|startoftext|>DEUTSCH ELECTRIC manufactures and supplies thermal transfer circuit breakers and integrated thermal controllers for large-scale commercial and industrial applications around the world. DEUTSCH ELECTRIC offers thermal transfer circuit breakers and integrated thermal controllers for large-scale commercial and industrial applications in: AC, DC, RF, and JST MOSFETs and Braid® thermal transfer devices through both direct soldering and via custom hardware or software component. The company offers Thermal Transfer circuit breakers in the following categories: >Flexible heat transfer circuits, including transfer circuits and integrated circuits >Reservoir to load and supply >Condenser to heat >Fully integrated thermal controller systems >Integrated circuit >Integrated circuit >Flexible heat sink systems >Flexible heat transfers The company was founded in 1992 and is headquartered in Munich, Germany. It designs and manufactures flexible heat sinks and integrated circuit breakers for cold and heat sinks. In addition, the company offers integrated thermal controllers for heat sinks and transfer cases. The company has operations in the following countries (translated from German in Excel): -- United Kingdom (Greater Germany) -- United States -- Russia -- India -- Argentina -- Uruguay DEUTSCH INDUSTRY, LTD., is a subsidiary of DEUTSCH N.V. The company was founded by Bob Chory, Sr. in 1988. It is headquartered in Milwaukee, Wisconsin. Its primary product is the RESERVO category of heat sink and its second and third products are sold in North America and Europe.<|endoftext|>\n",
            "<|startoftext|\n",
            "\n",
            "[1310 | 2481.97] loss=1.34 avg=2.28\n",
            "[1320 | 2498.29] loss=2.52 avg=2.28\n",
            "[1330 | 2514.62] loss=0.40 avg=2.25\n",
            "[1340 | 2530.97] loss=1.80 avg=2.25\n",
            "[1350 | 2547.33] loss=2.18 avg=2.25\n",
            "[1360 | 2563.71] loss=2.32 avg=2.25\n",
            "[1370 | 2580.12] loss=1.81 avg=2.24\n",
            "[1380 | 2596.53] loss=2.59 avg=2.25\n",
            "[1390 | 2612.91] loss=2.10 avg=2.24\n",
            "[1400 | 2629.29] loss=0.90 avg=2.23\n",
            "======== SAMPLE 1 ========\n",
            "an-Curry-s-A-Lot\" , \"n\" : { \"buyer_id\" : \"9121101\" , \"offer_date\" : \"2016-01-11\" , \"offer_download\" : \"2016-12-03\" , \"is_live\" : \"2016-12-03T18:05:42+00:00\" , \"price_range\" : \"$6-$27\" , \"is_live_in_YAHOO\" : true , \"price_range_text\" : \"\" , \"price\" : \"$6-$27\" , \"locale\" : \"$8\" , \"market_name\" : \"\" , \"market_price\" : \"\" , \"offered_while_live\" : \"0\" , \"discount_offer\" : \"\" , \"price_list\" : \"\" , \"discount_code\" : \"P02C\" , \"price_range_offline\" : \"\" , \"offered_while_live_in_YAHOO\" : \"1\" , \"add_to_list\" : \"P01K\" , \"has_discount\" : \"0\" , \"list_item\" : \"\" , \"discount_item\" :    \"\" , \"has_applied\" : \"0\" , \"has_discount_reserve\" : \"0\" , \"applied_from_YAHOO\" : \"0\" , \"offer_promo_details\" : \"\" , \"offer_summary\" : \"\" }\n",
            "<|startoftext|>Outline is a cloud-based financial data and intelligence platform that empowers financial institutions to be able to easily interact securely with one another. With the ability to easily search for the key data necessary to produce a report, analysts can quickly get started on the business of understanding trends across a company​s balance sheet. They also have the ability to see the value of a particular deal within a wider range of financial instruments. This is a company that uses their data and insights to put the right products into the right marketplaces, bank, and exchange without going through the traditional investment channels.<|endoftext|>\n",
            "<|startoftext|><|endoftext|>\n",
            "<|startoftext|>Omni provides an Android-ready SaaS solution to handle any energy usage issue. From reducing your power usage with minimal resources, making your energy efficient home or business more energy efficient with more energy savings at a fraction of the cost, paying your utility bill with a smart meter that uses Wi-Fi only, Omni is there to help you achieve your energy and financial goals.<|endoftext|>\n",
            "<|startoftext|>Ocrola is a software solution provider for energy trading and monitoring. Optimizing asset performance with the help of this Smart Energy Technology for Energy (s-T-M) system and other advanced energy monitoring systems, such as Energy Efficiency Systems for Industrial, Healthcare and Commercial buildings, this software offers complete freedom of motion and state-of-the-art analytics to manage the energy portfolio. The powerful Omni-DEEP technology provides unmatched efficiency and absolute accuracy of the platform with the ability to meet the stringent requirements of the regulatory and institutional investors. By optimizing your energy use with cutting-edge technology, you can significantly lower your energy costs and increase your return on equity. For a complete evaluation of the technologies offering by evaluating performance across different energy assets, such as coal (coal), gas, oil and others in the energy portfolio, visit www.ocsol.com.<|endoftext|>\n",
            "<|startoftext|>Orca Energy Holdings, Inc. is a leading provider of advanced, risk mitigating technologies and operations to the growing global power industry. Orca’s core technologies encompass sophisticated control systems for generating, storing and distributing electricity as well as a range of highly specialized management and control systems for the production, storage and transportation of electricity. The company offers a variety of products for its clients including power equipment, energy resource forecasting, and power utility market. Orca also provides a comprehensive portfolio of risk mitigating and risk mitigation services. The company solutions are recognized globally for delivering industry-leading capabilities and products worldwide.<|endoftext|>\n",
            "<|startoftext|>OpsDataStore is an Oracle database solution that streamlines the business of modern enterprises. It enables them to host and support their own private databases, while building a scalable infrastructure for other database vendors. The company also offers its customers continuous migration to a more reliable database while delivering a consistent and fault-free SQL query. Built using a modern, high-performance and secure data model, OpsDataStore can be used to run a full range of ORMs, VMs, SPAs and databases, on-premise, on an unlimited number of tables and columns.<|endoftext|>\n",
            "<|startoftext|\n",
            "\n",
            "[1410 | 2667.37] loss=2.30 avg=2.23\n",
            "[1420 | 2683.69] loss=0.91 avg=2.21\n",
            "[1430 | 2700.06] loss=2.46 avg=2.21\n",
            "[1440 | 2716.46] loss=1.19 avg=2.20\n",
            "[1450 | 2732.88] loss=0.51 avg=2.18\n",
            "[1460 | 2749.27] loss=1.43 avg=2.17\n",
            "[1470 | 2765.65] loss=2.13 avg=2.17\n",
            "[1480 | 2782.04] loss=1.51 avg=2.16\n",
            "[1490 | 2798.41] loss=1.54 avg=2.15\n",
            "[1500 | 2814.77] loss=0.99 avg=2.14\n",
            "Saving checkpoint/run1/model-1500\n"
          ],
          "name": "stdout"
        }
      ]
    },
    {
      "cell_type": "code",
      "metadata": {
        "id": "PLIfj84JTlKf",
        "colab_type": "code",
        "outputId": "d645f042-ae45-48a4-cbe6-ab3fee845606",
        "colab": {
          "base_uri": "https://localhost:8080/",
          "height": 55
        }
      },
      "source": [
        "'''sess2 = gpt2.start_tf_sess()\n",
        "\n",
        "gpt2.finetune(sess2,\n",
        "              dataset=file_name,\n",
        "              model_name='117M',\n",
        "              accumulate_gradients = 5\n",
        "              steps=500,\n",
        "              restore_from='fresh',\n",
        "              run_name='run1',\n",
        "              print_every=10,\n",
        "              sample_every=100,\n",
        "              save_every=250,\n",
        "              only_train_transformer_layers=True\n",
        "              )'''"
      ],
      "execution_count": 0,
      "outputs": [
        {
          "output_type": "execute_result",
          "data": {
            "text/plain": [
              "\"sess2 = gpt2.start_tf_sess()\\n\\ngpt2.finetune(sess2,\\n              dataset=file_name,\\n              model_name='117M',\\n              accumulate_gradients = 5\\n              steps=500,\\n              restore_from='fresh',\\n              run_name='run1',\\n              print_every=10,\\n              sample_every=100,\\n              save_every=250,\\n              only_train_transformer_layers=True\\n              )\""
            ]
          },
          "metadata": {
            "tags": []
          },
          "execution_count": 13
        }
      ]
    },
    {
      "cell_type": "code",
      "metadata": {
        "id": "35I_41T8TsUX",
        "colab_type": "code",
        "outputId": "25d49841-3cbe-4eaf-a6b8-834def6aff05",
        "colab": {
          "base_uri": "https://localhost:8080/",
          "height": 55
        }
      },
      "source": [
        "'''sess3 = gpt2.start_tf_sess()\n",
        "\n",
        "gpt2.finetune(sess3,\n",
        "              dataset=file_name,\n",
        "              model_name='117M',\n",
        "              accumulate_gradients = 7\n",
        "              steps=500,\n",
        "              restore_from='fresh',\n",
        "              run_name='run1',\n",
        "              print_every=10,\n",
        "              sample_every=100,\n",
        "              save_every=250,\n",
        "              only_train_transformer_layers=True\n",
        "              )\n",
        "'''\n",
        "# after detmining best direction work on generation training"
      ],
      "execution_count": 0,
      "outputs": [
        {
          "output_type": "execute_result",
          "data": {
            "text/plain": [
              "\"sess3 = gpt2.start_tf_sess()\\n\\ngpt2.finetune(sess3,\\n              dataset=file_name,\\n              model_name='117M',\\n              accumulate_gradients = 7\\n              steps=500,\\n              restore_from='fresh',\\n              run_name='run1',\\n              print_every=10,\\n              sample_every=100,\\n              save_every=250,\\n              only_train_transformer_layers=True\\n              )\\n\""
            ]
          },
          "metadata": {
            "tags": []
          },
          "execution_count": 14
        }
      ]
    },
    {
      "cell_type": "markdown",
      "metadata": {
        "id": "IXSuTNERaw6K",
        "colab_type": "text"
      },
      "source": [
        "After the model is trained, you can copy the checkpoint folder to your own Google Drive.\n",
        "\n",
        "If you want to download it to your personal computer, it's strongly recommended you copy it there first, then download from Google Drive. The checkpoint folder is copied as a `.rar` compressed file; you can download it and uncompress it locally."
      ]
    },
    {
      "cell_type": "code",
      "metadata": {
        "id": "VHdTL8NDbAh3",
        "colab_type": "code",
        "colab": {}
      },
      "source": [
        "gpt2.copy_checkpoint_to_gdrive(run_name='run1')"
      ],
      "execution_count": 0,
      "outputs": []
    },
    {
      "cell_type": "markdown",
      "metadata": {
        "id": "qQJgV_b4bmzd",
        "colab_type": "text"
      },
      "source": [
        "You're done! Feel free to go to the **Generate Text From The Trained Model** section to generate text based on your retrained model."
      ]
    },
    {
      "cell_type": "markdown",
      "metadata": {
        "id": "pel-uBULXO2L",
        "colab_type": "text"
      },
      "source": [
        "## Load a Trained Model Checkpoint\n",
        "\n",
        "Running the next cell will copy the `.rar` checkpoint file from your Google Drive into the Colaboratory VM."
      ]
    },
    {
      "cell_type": "code",
      "metadata": {
        "id": "DCcx5u7sbPTD",
        "colab_type": "code",
        "colab": {}
      },
      "source": [
        "gpt2.copy_checkpoint_from_gdrive(run_name='run1')"
      ],
      "execution_count": 0,
      "outputs": []
    },
    {
      "cell_type": "markdown",
      "metadata": {
        "id": "RTa6zf3e_9gV",
        "colab_type": "text"
      },
      "source": [
        "The next cell will allow you to load the retrained model checkpoint + metadata necessary to generate text.\n",
        "\n",
        "**IMPORTANT NOTE:** If you want to rerun this cell, **restart the VM first** (Runtime -> Restart Runtime). You will need to rerun imports but not recopy files."
      ]
    },
    {
      "cell_type": "code",
      "metadata": {
        "id": "-fxL77nvAMAX",
        "colab_type": "code",
        "outputId": "5e999408-4f46-420b-99ac-ef84bbf90c11",
        "colab": {
          "base_uri": "https://localhost:8080/",
          "height": 129
        }
      },
      "source": [
        "sess = gpt2.start_tf_sess()\n",
        "gpt2.load_gpt2(sess, run_name='run1')"
      ],
      "execution_count": 0,
      "outputs": [
        {
          "output_type": "stream",
          "text": [
            "WARNING: Logging before flag parsing goes to stderr.\n",
            "W0826 21:05:12.884999 140242931496832 deprecation.py:323] From /usr/local/lib/python3.6/dist-packages/tensorflow/python/training/saver.py:1276: checkpoint_exists (from tensorflow.python.training.checkpoint_management) is deprecated and will be removed in a future version.\n",
            "Instructions for updating:\n",
            "Use standard file APIs to check for files with this prefix.\n"
          ],
          "name": "stderr"
        },
        {
          "output_type": "stream",
          "text": [
            "Loading checkpoint checkpoint/run1/model-1500\n"
          ],
          "name": "stdout"
        }
      ]
    },
    {
      "cell_type": "markdown",
      "metadata": {
        "id": "ClJwpF_ACONp",
        "colab_type": "text"
      },
      "source": [
        "## Generate Text From The Trained Model\n",
        "\n",
        "After you've trained the model or loaded a retrained model from checkpoint, you can now generate text. `generate` generates a single text from the loaded model."
      ]
    },
    {
      "cell_type": "code",
      "metadata": {
        "id": "4RNY6RBI9LmL",
        "colab_type": "code",
        "outputId": "1e945d54-55d7-4ea9-a2fc-73da43c28f86",
        "colab": {
          "base_uri": "https://localhost:8080/",
          "height": 1000
        }
      },
      "source": [
        "gpt2.generate(sess, \n",
        "              run_name='run1',\n",
        "              length = 200,\n",
        "              batch_size = 20,\n",
        "              temperature = 0.9, \n",
        "              nsamples = 40)"
      ],
      "execution_count": 0,
      "outputs": [
        {
          "output_type": "stream",
          "text": [
            "Consumers who use coupon code VENDED are automatically entered to win charity buys! Visit VendedOneBuy.com to enter to win.  Be sure to enter to win by using the right coupon code on the checkout page. Good luck! <|endoftext|>\n",
            "<|startoftext|>Departures are a new platform for digital communication built for travelers that creates an instant, safe and collaborative platform for travelers around the world to communicate and collaborate on their daily travel plans by connecting on destinations that offer cultural, historic, and fantastic environments. Departures use artificial intelligence to converse with travelers and generate recommendations that are shared with them based on their social media activity and other data sources. The company works with travelers around the world on a daily basis and then delivers an amazing gift – a way for travelers to travel and get inspired on their next adventure. Departures has raised $30 million in funding from some of Silicon Valley's most experienced venture capital firms as\n",
            "====================\n",
            "Phil Synthes is an English language learning company that offers online courses in business and entrepreneurship. Its courses are based in Panama, Hong Kong, Spain, Italy and Germany.  The company’s success is based on its quality, adaptability and on the fact that its courses are delivered in English curriculum with Spanish content. It has also developed a valuable online service, which enables its students to capture and share in the course material with their friends and fellow students. The company was established in 2016, and is based in Panama.<|endoftext|>\n",
            "<|startoftext|>PerceptiveVideo is an IQ video company, visual decoder and creator of the Mark It VC-backed Bright Future video platform. The platform enables media organizations, educators and the public sector to engage with their audiences through intelligent postproduction techniques and advanced lighting that deliver highly immersive video content.  The Mark It Vending Board approved of the lighting design and feasibility of the PerceptiveVideo system.  Per\n",
            "====================\n",
            "<|startoftext|>Vegetable Cycle Pharmaceuticals, a private biotech company developing best-in-class formulations of cancer vaccines and therapeutics for select cancer types based on its proprietary, patented Veggie Cycle DMP144™ Candid Allogeneic LungAMOP 294™ Candid Allogeneic LungAMOP 294™ is a veggie lung transplantation project, which is developing a new targeted delivery system for the four human Veggie Lung Transplantation Program (VLTP) recipients in the United States. Veggie LungAMOP 294™ is a four-component, human lung cell line described in the U.S. Food and Drug Administration (FDA) NICS Form ADVANCE for Veggie LungAMOP 144™, a four-component, human lung cell line. Veggie LungAMOP 144™ is a single-cell, 14β-estradiol-based delivery system for delivery of human lung cells to patients via an outpatient intramural route\n",
            "====================\n",
            "|<\n",
            "\n",
            "<|startoftext|>DeepTech was founded with a mission to enable individuals and institutions to transform how they discover knowledge.<|endoftext|>\n",
            "<|startoftext|>Dentint is the modern health care company. They are the only company that provides continuous, primary care dental services integrated with a patient-centered approach to care.They believe that dental care should be affordable, universal, and accessible to everyone. They are committed to building a dentistry accessible to all.<|endoftext|>\n",
            "<|startoftext|>Delicatessen is a privately-held, independent research company specialized in the design and manufacture of analytical instruments. The company was founded in 2003 to capitalize on breakthrough UGC process technologies. Today, Delicatessen delivers state-of-the-art analytical solutions in the laboratory and clinic, where they are recognized for their value toward improving clinical and public health standards of care.<|endoftext\n",
            "====================\n",
            "Overland Park, KS (Ousta Labs) is a data-driven, high-growth start-up that is building a unique set of computational tools that allows communities and organizations to rapidly create better predictions and achieve goals. Ousta is leveraging breakthrough computer science and engineering to enable greater predictability in city and neighborhood-level data. The company’s first product, PredictIt, a cloud-based, interactive forecasting software, taps the power of high-resolution GPS navigation for unprecedented predictability. Ousta is also developing a mobile app for iPhone and Android devices that transforms the city into a \"Cars Land\" experience, where residents can explore neighborhoods through automated car-mounted camera(“CAM), allowing for greater spatial awareness, and more reliable street-level predictions.  Ousta is funding-focused, with a 3-year, $14 million US research grant from the Army Research Office and a $2 million US Amazon Development Fund grant.</|end\n",
            "====================\n",
            "Sign Up for an NFL team you love to support while you still can. The NFL is a game where the stars and stripes rise, and you can't help but to follow. But just because you're following doesn't make you obligated to follow.  Followers are free to follow who they want, wherever they want, whenever they want, however they want to get their fix.  Stick to your schedule, stick to your diet, and stop following the crowd-count. Followers are here to entertain and entertain them will be followers. And once you've got that, introduce your new face to a world you won't believe.   🤢 From a behind-the-scenes perspective, Twilio is a software that helps businesses and organizations use artificial intelligence to up-skill and automate their followership management process. We're here to enable you to automate much of your follower management pain point. Find out how we work in the beautiful and mysterious world of Twilio.\n",
            "====================\n",
            "About\n",
            "\n",
            "Rollcar is a real time online commerce engine that talks to retailers and brands to find unique transaction opportunities, and deliver those offers to consumers right when they are close to them. When a brand’s online commerce efforts heat up, Rollcar lowers the prices they pay for goods and services, while increasing the volume of retail delivery they get from their distribution centers. The ability to do this is key to P&G’s strategy of making retail sales work for them.<|endoftext|>\n",
            "<|startoftext|><|endoftext|>\n",
            "<|startoftext|>Promise is the best way to make sure developers get the maximum return on their investment. The Promise Marketplace is your source for reliable help making your dream project a reality.<|endoftext|>\n",
            "<|startoftext|>Promotion Lending is a credit sales platform for independent contractors. It provides lenders with an innovative technology platform to support the lending\n",
            "====================\n",
            "Each month, Sweetgreen provides its customers with a variety of products and services to support their individual wellness goals and to make a positive impact on the communities they serve. For example, if you’re interested in losing weight, getting more sleep, or experiencing more emotions, Sweetgreen can help you through the many ways that your body adjusts to stress – including through a variety of insights, tips, and solutions for managing stress, managing stress reaction, and coping with anxiety. Whether you’re interested in dieting, getting more sleep, or feeling happier, knowing that youre helped every step of the way can make a big difference in making a habit change a regular occurrence.<|endoftext|>\n",
            "<|startoftext|>Shulman’s Vision is to attract the world's best talent and develop them to meet their industry-leading clients’ unique needs, while providing a great value to their communities. Through integrated business development, coaching and mentoring,\n",
            "====================\n",
            "AUSTIN, Texas (KXAN) -- A jury has awarded a total of $56 million to the family of five who were lost in an Austin construction accident in 2011. In a case that has become a symbol of road safety, eight-year-old Austin boy Warren was driving home from school one day when he saw a construction crew working on the side of the road. Thinking it was a strange sight, Warren swerved to avoid the construction vehicle and drove home worried. Fortunately, the construction worker's life was spared because he was sitting in the car after all. After an extensive investigation, the Austin Fire Department discovered that the construction worker's name is Warren and he was driving home with his family on the day the accident occurred. Officer Warren is survived by his father, Gregg, and his mother, Jan.A. Gregg. Officer Warren was born and raised in Austin, Texas and graduated from Austin Southern College in 2011. Officer Warren was a first-year student at the University\n",
            "====================\n",
            "Pick your poison: It's time for the real world to experience your ideas.  Our world is filled with people who are experts in various fields, yet you can't seem to find anything that interests you.  Why? Because you just can't seem to decide what to do with your time.  Are we missing something important?   Do you have ideas about growing your business?  Do you have ideas for marketing?  Do you have ideas for advertising?     You name it, we've got it. Share them with other like-minded Individuals, and bring a few bucks with you as a gift so you can Austrolize your own passion.<|endoftext|>\n",
            "<|startoftext|>PainDreams is a dream-sharing website that allows users to share and enjoy physical, emotional and creative dreams. It also provides listeners with dream audio stories, and provides sleep coaching services. The company was founded in 2010 and is based in Austin,\n",
            "====================\n",
            "<|startoftext|>randombrew is a team of technologists, designers, and innovators building custom mobile operating systems with a focus on building custom operating systems for smart phones and tablets. They are building the world's first large-scale, custom operating system for smartphones and tablets, and the only complete mobile operating system built for each specific platform. Their goal is to deliver a highly immersive mobile experience that will transform the way people interact with their mobile devices throughout their lives. Their vision is to build the world’s most immersive operating system for smartphones and tablets, and to make this experience work for them, for their users, and for the devices they already have. They believe that, one day, people will wake up confidently knowing that their smartphone or tablet has the best operating system on the market. With their mission in mind, they are combining industry-leading technologies with cutting-edge design and engineering to bring the world’s most innovative operating systems to people’\n",
            "====================\n",
            "Coming today, NICHD is the first certification in the world that will enable healthcare providers, in the virtual environment, to make accurate health assessments from their own personal computers! Through our innovative, patent pending, technology, NICHD-certified healthcare providers have a superior user experience and transparent visibility of health metrics across the ERP value chain. NICHD is a Win-Win-Win solution for healthcare providers and their patients. We are transforming the way healthcare is delivered, transforming patient and provider workflow, reducing costs and improving health outcomes. NICHD is based on Dell PrecisionMark, an industry leading x-premise Precision Graphics architecture with integrated digital GPU, and IBM's x86 Floating Point Machine (PFM) technologies. Our platform provides value-based, real-time performance monitoring, predictive health analytics and decision support for healthcare applications in a user-friendly user interface. By aligning healthcare with its value-based goals, NICHD allows for better value-based decision support, and ultimately better\n",
            "====================\n",
            "PHABLE offers companies and individuals with advanced technology and their solutions that are transforming the way their companies and individuals do business. We are on a mission to create value by using technology in the most creative and efficient way.  PHABLE Collaborate offers a suite of products and capabilities that accelerate business processes, catalysts, and solutions to achieve innovative business goals. We have developed a number of proprietary solutions that allow companies and individuals to manage, analyze, track, and measure their data, processes and programs more effectively, resulting in more profitable, customer-facing, shareholder-focused outcomes.  PHABLE has a presence in over 40 countries across its award-winning partner networks. And today, PHABLE continues to be one of the leading cloud data providers in the financial services industry. For more information, visit www.phable.com or follow us on Twitter @phabledotcom.<|endoftext|>\n",
            "<|startoftext|>Pseudo is a privately-held cybersecurity\n",
            "====================\n",
            "(Image: ©iStockphoto.com) …and since then, the site has evolved into an online platform that allows individuals to buy and sell residential property, and more.   Owners of properties can list their needs on the site, and receive personalized recommendations from experts on the property market.   Many of the real estate deals on the site are in the final stages of closing, and it is a good bet that you will see many of the featured deals on the site as the day goes by.  In the mean time, you can browse through collections of home improvement and construction projects that are currently active in your neighborhood, as well as the newest projects, news, and deals in the area.  At Homescents, we believe that the best home improvement sites are built with community and enthusiasm. We don't want our site to be \"just for home,\" so we’ll put it here where we’ll make sure that we’re making things as\n",
            "====================\n",
            "|<\n",
            "\n",
            "<|startoftext|>Promentia is a rapidly growing cloud computing provider, which is great news for small and medium-sized businesses and consumers looking for low cost, reliable access to high-performance computing capacity. Promentia is owned & operated by the global leadership team in enterprise software and cloud services. Promentia provides an array of complete business, cloud, and technical support for its customers. Together, they serve more than 430,000 enterprise customers in over 190 countries and more than 14,000 consumer businesses in over 162 countries. Promentia is headquartered in San Jose, California. The company is backed by Accel, SAP, VMware, Oracle, DigitalOcean and Xilinx. For more information, visit promentia.com.<|endoftext|>\n",
            "<|startoftext|>PathAI is building the industry’s most comprehensive data science platform to provide real-time, contextual insights and intelligence that dramatically improve path\n",
            "====================\n",
            "The company was built to enable doctors to deliver better patient care by enhancing patient monitoring and communication. In doing so, we came to realize that our own skills as health providers were often lacking. Through the use of mHealthCare's platform and software, we have enabled more than 15,000 physicians across the country to better support and facilitate their staff as they serve their patients.<|endoftext|>\n",
            "<|startoftext|>PumaPay is a world's first, fully-licensed, bitcoin-enabled utility bill payment service provider. We accept bitcoin, cryptocurrency, and blockchain payments on our website and mobile apps, providing fast, seamless, secure, private, and compliant payment solutions. PumaPay was founded in 2018 and is headquartered in London, England.<|endoftext|>\n",
            "<|startoftext|>The Public Payment Platform (PPP) is a fully regulated alternative payment solution that helps organisations make money from users. PPP is based in San Francisco\n",
            "====================\n",
            "|<\n",
            "\n",
            "<|startoftext|>Their focus is not making money off of your failures, but rather helping you build great habits and getting you back on track.They pick the tools you use to build your tools and use them to build amazing solutions you haven't thought of. They use their Data-Driven Processes to identify patterns and insights in your own environment with which to build great products and services. They use their accelerated technology to provide you with new tools and ideas that make your problems easier to solve.<|endoftext|>\n",
            "<|startoftext|>Reverb introduces the only complete reverb and imaging platform designed to give you unprecedented sound quality and lifelike texture. Our proprietary technology combines advanced optical and acoustic sensors to precisely control your signal levels. Reverb is the only reverb solution for acoustic instruments and effects that delivers real time, total volume level control and lifelike behavior. Reverb is used by the world’s\n",
            "====================\n",
            "Men’s Health MD is a private, non-profit medical device company dedicated to improving patient care with diagnostics and laboratory services. In 2010, Men’s Health MD began offering its products through a network of community pharmacists. As the first commercial pharmacy company to offer HPV testing through a web-based solution, Men’ Health MD has established itself as an advocate for patient education and greater adherence to pharmaceutical practice guidelines. The company’s initiatives have resulted in significant improvements in patient outcomes and treatment adherence, with significant savings for Men’s Health MD and for the patients who depend on our services.<|endoftext|>\n",
            "<|startoftext|>ModFactory is the cloud-based platform that enables building, hosting, and managing large-scale, scalable, and reliable datacenters and cloud platforms. It supports the creation of virtual and cloud infrastructure for a variety of applications, including databases, storage, applications and data centers, web services,\n",
            "====================\n",
            "“Puzzles are great for building and learning complex algorithms but what a pain in the ass learning and applying them. In this post I'm going to show you how you can reinvent the learning process with playful AI tools that make it fun and easy to use. At Pluristem they're bringing an exciting new way to program by breaking free from the box and building your own circuit. With Pluristem, you can build engaging and complete computational adventures that last. I doubt very much that most of you have spent an entire weekend programming algorithms. But you can have them all wrapped up in a few short weeks. Pluristem is similar to coding bootcamps where students spend one-on-one time with industry veterans helping them to become better at something incredibly difficult. Pluristem is also like learning a new language or two but with absolutely no effort. You just sit back, relax and let Pluristem take you on.  I mean seriously,\n",
            "====================\n",
            "Media playback is unsupported on your device Media caption Terry Delongue reports on the progress of the team as they try to find a cure for cancer\n",
            "\n",
            "A US genetic researchers has developed a small gene therapy that targets a protein inside the tumour cells that can make them self-destruct.\n",
            "\n",
            "The small molecule, called KS288, is expected to be used once in a patient with head or neck cancer and then be spread to other parts of the body containing cancer cells.\n",
            "\n",
            "University of California, San Francisco (UCSF) scientists say the tweak in the protein, which activates a chemical response, could allow doctors to kill cancer cells without harming healthy cells within the tumour.\n",
            "\n",
            "They describe the small molecule in the journal Science.\n",
            "\n",
            "The UCSF school of medicine has been at the core of a scientific revolution that has brought safe and effective treatments for genetic disorders since 1953. They believe their small molecule approach will allow people with rare inherited diseases to get better sooner.\n",
            "\n",
            "====================\n",
            "|<\n",
            "\n",
            ">\n",
            "\n",
            ">\n",
            "\n",
            ">\n",
            "\n",
            ">\n",
            "\n",
            ">\n",
            "\n",
            ">\n",
            "\n",
            ">\n",
            "\n",
            ">\n",
            "\n",
            ">\n",
            "\n",
            ">\n",
            "\n",
            ">\n",
            "\n",
            ">\n",
            "\n",
            ">\n",
            "\n",
            ">\n",
            "\n",
            ">\n",
            "\n",
            ">\n",
            "\n",
            "<|startoftext|>Param.ai is a software company that offers automation solutions for rigid point-of-sale, billing, automation, and cybersecurity. Param.ai makes it possible to automate the processes that affect businesses today. Its automation software makes them easier to manage, safer, and more efficient. Param.ai was founded in 2016 and is headquartered in Chennai, India.<|endoftext|>\n",
            "<|startoftext|>Privia Innovation is a startup company in Brazil. It was founded in 2015 to improve the living standards of the poor in Brazil by creating environment and energy efficient cars, sustainable mobile phones and smart devices, articles and magazines, and smart TVs.  In 2017, they achieved a total\n",
            "====================\n",
            "|<\n",
            "\n",
            ">\n",
            "\n",
            "<|startoftext|>Root Network (formerly known as Zinedove) is a full-stack, cloud-enabled, peer to peer (p2p) telecommunication platform for content, communication, on-demand video streaming, internet video, and file storage. RootPOP enables organizations to use its proprietary peer to peer video transport (POPOV) protocol on their network edge and through its products to deliver cloud-based, enterprise-wide video and data services. The Root Platform includes Root IP, Root Cam, Root Geo, Root Geo Geo Hybrid, Root Geo XO, Root Geo Pro, Root Netflix, Root Nectar, Root Public Internet, Root Public Internet HD, Root One Universal, Root One Universal, Root One XO, Root HD Video, Root HD Video (HD 4K), Root Web, Root Web HD, Root HD Video, Root Web HD, Root One,  and other popular codecs and tags.\n",
            "====================\n",
            "Story highlights \"It starts with a simple idea: love,\" says the company\n",
            "\n",
            "(CNN) — The #1 online travel agency for single travelers, Expedia aims to help you discover the most interesting flights, hotels, activities and places around your world.  After all, it “prays” that you will too.    With Expedia, travelers can search for the best deals in their location-based travel section and easily see which countries have more deals each day or which features have the best offer -- both when they are traveling by the destination and which countries have the best business climates.)<|endoftext|>\n",
            "<|startoftext|>Our goal as an airline is to create the best travel experiences for our passengers, that’s why we work hard to make our mission a reality every day by matching travelers with the best deals around the world. To achieve this goal, we do some of the hardest work of cross-matching airlines\n",
            "====================\n",
            "|<|startoftext|>Reading Rainbow provides free eBooks, eNewsletters, and media and educational resources for children and young readers. It offers The Printer's Editions, a collection of over 250 classic stories for young readers from across a decade. It also offers Reading Rainbow eBooks, including five eBooks per month for individuals and a weekly eNewsletter that includes news, tips, and other pre-eminent books for young readers and adults. Reading Rainbow is distributed across more than 150 languages with translations available for over 4,000 different authors. The company was founded in 1997 and is based in Cambridge, Massachusetts.<|endoftext|>\n",
            "<|startoftext|>Recvify is an AI-powered cloud enterprise resource planning and analytics platform that provides cloud customers with real-time data insights and insights that make work easier. Their solutions are used every day by over 35,000 customers in over 100 markets around the world. Their solutions are used every day\n",
            "====================\n",
            "A versatile low emissions power system designed to support a variety of teams in an environmentally friendly and cost-effective manner. The Sunsol® Technology Platform can be integrated into almost any climate control project, from residential and commercial appliances to heating and cooling systems, telecommunication equipment and solar systems, commercial vehicles, and even large industrial plants.  Sunsol has been developed based on extensive research carried out at the University of Illinois at Urbana-Champaign and has significant support from the DOE Office of Science.  Sunsol has received numerous awards for its innovative technology including the Department of Energy's \"Top Ten Innovations\" ranking for 2013, the \"Communications Hub\" award for 2014, and the EPA's \"Outstanding Compliance Design Engineer\" award for 2015. Sunsol is currently working with a number of outside organizations on innovative solar technologies, including an energy market provider, a government agency, and utilities. Developers can expect to see Sunsol products in the near future.<|endoftext|\n",
            "====================\n",
            "|<\n",
            "\n",
            "<|startoftext|>DECKER is a complete — and easy to use --- digital money transfer platform. The Deckers stand out from other online transfer services by enabling consumers to electronically transfer money from their bank account to their Pay at the kiosk or POS at their door, directly paying for goods and services purchased for them at the end of the day.<|endoftext|>\n",
            "<|startoftext|>DeepCoding is an engineering consulting company that provides its users with software and design skills acquired from various industry disciplines. It also provides the operational experience needed to effectively manage engineering talent. DeepCoding was founded in 2015 and is headquartered in San Francisco, California.<|endoftext|>\n",
            "<|startoftext|>DeepCoding is an engineering consulting company that provides its users with software and design skills acquired from various industry disciplines. It also provides the operational experience needed to effectively manage engineering talent. DeepCoding was founded in\n",
            "====================\n",
            "<|startoftext|>Phonepot helps people easily find and book in-store phone services. Customers receive a personalized in-store experience. We change the way people interact with retailers.<|endoftext|>\n",
            "<|startoftext|>Driveclub is an online sharing app for car enthusiasts and allows anyone to share their car, discover shared experiences, measure and compare their own cars, and chat about their car experiences.<|endoftext|>\n",
            "<|startoftext|>Pliant is the most comprehensive online service for buying, selling, and managing residential property.  It amassed over a billion mileÙs (1.5 billionkm²s) of data in the space of just over a year, making it the most comprehensive property site in the world. Pliant, partnered with the Ministry of Planning, includes the worlds most extensive property market data, news, and market information, spanning 57,000 professional property dealers, as well as over 1\n",
            "====================\n",
            "advertisement\n",
            "\n",
            "advertisement\n",
            "\n",
            "A secure online communications platform, providing end to end encryption and strong protocol security.  Eric Schmidt, the former CEO of Google and current Chairman and Former CEO of HPE, founded Signal in 2005. The company is headquartered in Mountain View, California, United States.<|endoftext|>\n",
            "<|startoftext|>PercentageJam is building the next video technology platform to replace composite video as the main format for online communication. Incorporating video and R&B, PercentageJam's technology is transforming the way in which content is delivered to audiences, advertisers, partners, and users around the world. Since it’s founding in 2012, percentagejams.com has developed innovative technology that powers a variety of interactive advertising campaigns for digital publishers, fast-growing startups, media companies, and civic organizations. It has its headquarters in San Francisco, California and has regional offices in New York, Los Angeles, Chicago, Washington DC, Dallas and Austin\n",
            "====================\n",
            "Should you be looking for a new pet expert or just want to start a conversation, our online services are here to help. Whether you're looking for a pet expert to help you with your pet problem or you just want to chat with someone about adopting, our services are there to help. We're here to answer any questions that arise, whether you're talking about adopting, pet sharing, adoption, adopting a new pet, or just finding a new friend.<|endoftext|>\n",
            "<|startoftext|>DeepWhite is an AI company that aims to revolutionize the way customers and researchers interact with the physical world around us. Using machine learning and data analytics, DeepWhite enables its users to better understand and control natural phenomena like volcanic activity, seismic activity, and earthquake activity. It also provides customers with innovative solutions to those phenomena, such as earthquake risk prediction, geo-referencing and cloud-based data-preserving technologies. The company was founded in 2015 and is\n",
            "====================\n",
            "|<\n",
            "\n",
            "<|startoftext|>Howdy! We are a small team of technologists with a big passion for technology, design, and design!  We believe that great products should be simple to make and awesomely simple to use. That's why we built u8m(tm)! u8m is a wonderful way to make your favorite products even better. Simple, yet powerful - our goal is to inspire, not restrict. u8m’s product suite empowers you to identify and eliminate opportunity, whether it be through better design, better use of your money, or smarter tools powering the design process. A product that empowers is an understatement! We’ve taken the best design and usability practices and applied them to create something uniquely u8m. With u8m you can easily identify and eliminate opportunities for your company or product.  We’re always changing and learning more, so be sure to check back often! Thanks for stopping\n",
            "====================\n",
            "<|startoftext|>OncoInnovation Inc is a privately held biotechnology company with a mission to develop transformative treatments for non-alcoholic steatohepatitis/oleophila. OncoInnovation is focused on transforming oncology by bringing rapidly-derived therapeutic ingredients and therapies to dermatology for treatment. OncoInnovation’s pipeline includes therapies for psoriasis, advanced fibrosis, and monoclonal antibodies. The company envisions a therapeutic approach that will result in significant improvement in patients with non-alcoholic steatohepatitis/oleophila, including a reduced frequency and severity of symptoms, a more responsive treatment plan with better patient compliance, and a more effective associated health care. OncoInnovation is currently developing novel cytostatic agents for the treatment of steatosis neuritis and chronic inflammation.  OncoInnovation has entered into an exclusive license agreement with A. James Campbell Cancer Institute to\n",
            "====================\n",
            "Causes breast cancer? We believe that with enough information, women can make better decisions about how to reduce their risk of developing the cancer they want. Our cancer research is based on science and we share the vision that understanding the causes of breast cancer can help women take steps to reduce their risk, and ultimately reduce their burden of the disease. Our cancer genetic research centers combine science with cutting-edge clinical genomic testing to discover and validate important information about a risk factor for the disease we all carry. Our mission is to identify and prevent the cancer we all carry, and to make that risk visible to both women and men so they can make better health decisions.<|endoftext|>\n",
            "<|startoftext|>Deciphera Biotechnology was founded in 1998 with a mission to revolutionize cancer biology by efficiently identifying and activating novel therapeutic targets in the cancer microenvironment. Our approach utilizes a unique self-sizing strategy for small RNA therapeutics, which we believe will allow us to target\n",
            "====================\n",
            "|<\n",
            "\n",
            "<|startoftext|>Onbreeze provides an AI-powered creative and performance analytics platform for video made by people. The Onbreeze application programming interface analyzes dynamic video content to uncover meaningful insights about people and the world around us.  Video on Demand products are optimized for consumption on high-resolution, interactive devices such as mobile and desktop computers, set-top boxes, set-top boxes connected to viewing services like DVR and streaming services, and cloud services like Amazon Fire TV, Tesla Drive, and Twitch. Real-time analysis of video on demand content provides artist, publisher, and content creators with valuable real-time insights that drive significant revenue opportunities.  Onbreeze has been acquired by Instacart, a business-standards-compliant provider of cost-effective, feature-rich enterprise video infrastructure.<|endoftext|>\n",
            "<|startoftext|>Onsemple is building the next virtual desktop platform\n",
            "====================\n",
            "|<\n",
            "\n",
            "<|startoftext|>Playtika offers Value-Added, Content-Based Advertising solutions for brands and retailers. Its solutions enable brands to deliver tailored, engaged, highly-effective digital advertising campaigns based on their individual audience insights. Playtika’s solutions include segmentation, programmatic targeting, display and presentation, cross-device synchronization, presentation and presentation-as-a-service (DaaS), and data-driven analytics.  Playtika has partnerships with Bose, Chevrolet, Dell, Forbes, General Electric, Heineken, and Samsung among its customers. A broader range of clients include leading global brands in financial services, media, healthcare, technology, automotive, lifestyle, education, and advertising as well as retailers and brands in North America, Latin America, and Asia.  Playtika solutions are deployed globally by more than 170 advertisers and media companies and is deployed in 50+ languages with more than 1000+ developers from 50+\n",
            "====================\n",
            "Structure of Products and Services Provider - The structure of the service provider entity is very important in understanding the capabilities of the platform. Businesses need to understand what services they are getting into, and how those services are delivered.<|endoftext|>\n",
            "<|startoftext|>Destiny is a first-person shooter video game developed by [Bungie](https://www.crunchbase.com/organization/bungie-software) and published by [Activision](https://www.activision.com) and [Microsoft](https://www.activision.com) on [August 5, 2013]. Players are able to act as guardians of the last city on earth with incredible power. They are able to explore the ancient ruins of their solar system from the red dunes of Mars to the jungles of Venus. They are able to do this by finding unique and powerful artifacts called \"Labs of Destiny\" scattered across the universe. As they\n",
            "====================\n",
            "| Start of Article | Next of Kin\n",
            "<|startoftext|> Wawa USA, LLC was founded in 1997 with a mission to design, manufacture, and distribute durable, high quality food service and beverage products in the United States. Founded in Boston, Massachusetts Wawa USA, LLC is a wholly-owned subsidiary of Wawa Group, Japan’s largest convenience store operator, with further subsidiaries in several states. Wawa USA, LLC is a wholly-owned subsidiary of Wawa Group, an international convenience store operator. Wawa USA, Japan’s leading Japanese wholesalers and factory retailers, is responsible for the product design and development of several of Japan’s food-service brands and a number of other premium food products, including Daiya, Mai Taipani, and Del Taco. Wawa USA, LLC continues to carry out this mission through design, manufacture, marketing and service of its products. The company also designs and produces specialty food products for\n",
            "====================\n",
            "|<|startoftext|>Waiter.com's Virtual Cafe features a full menu of services, including breakfast, lunch and dinner menus, cocktail hour, select gift cards, home delivery, storage, delivery, delivery options, storage & catering, gift card payments, and more. It is a virtual ordering interface for your convenience.  Hungry for more? Just ask!  Waiter is completely free to use and connects you with thousands of restaurants and retailers across the UK.<|endoftext|>\n",
            "<|startoftext|>WatchTower Bank was founded to build and deliver a unique and innovative digital governance platform intended to deliver the kind of organisation that everyone wants and expects.  WatchTower Bank offers digital governance solutions that empower users to deliver better business decisions, engage in competitive markets, and acquire and hold assets in an efficient manner.<|endoftext|>\n",
            "<|startoftext|>Waterhound is an American bottled water brand that was founded in\n",
            "====================\n",
            "Media coverage: http://www.delaware.com/about/media-releases/press-releases/2017/11/delaware-completes-first-ever commercial-incubator. . .<|endoftext|>\n",
            "<|startoftext|>Delair creates technologies that allow divers to repeat their first dive of a new expedition without spending an arm and a leg. They charge a small monthly subscription fee to guarantee access to their site and their services. It’s a simple contract to allow divers to have access to their shop and their services. The subscription also provides divers with a great experience with a trustworthy brand.<|endoftext|>\n",
            "<|startoftext|>Delair.ai is an AI Driven Medical Intelligence Platform that is transforming the reliability and accuracy of clinical laboratory services. Our delivery systems use Artificial Intelligence (AI) to replace human agents in a variety of different critical areas. Our systems take\n",
            "====================\n",
            "text\n",
            "\n",
            "Platform 2: DTM's smartest next generation network technology. Optimizing access for businesses and consumers on two screens, Platform 2 eliminates bottlenecks between content consumption and mobile data and delivers cutting-edge mobile viewing experiences.<|endoftext|>\n",
            "<|startoftext|>Powered by Data2Vision, Pixlee helps high growth businesses efficiently access advanced computer vision and video data with computational intelligence.  Our software automatically creates intelligent video presentations based on your data. Simply set up your footage and let Pixlee do the rest. Get creative, build amazing tech things. Raise data and make things happen.  Pixlee is based on data from your cameras, smartphones, and connected devices.  It learns from your footage and other sources to create rich, actionable visualizations. Learn more at https://www.pi-vision.com/ and follow us @pi_vision on Twitter.<|endoftext|>\n",
            "<|startoftext|>\n",
            "====================\n",
            "|<\n",
            "\n",
            ">\n",
            "\n",
            "Hello Rocksmith fans! We are a very excited and humble group of audiophiles developing a new way to play your songs live with our on-board audio technology. We call it 'Rocksmith Live'. In short, Rocksmith Live is a digital conversion process in which you convert our songs into beautiful, playable digital tracks on your iPhone, iPod touch or Android device. We have developed a technology in which we can convert any physical trackable instrument, such as a guitar, bass, banjo, mandolin or electric guitar, into a magical digital sound. You will notice that we use real technology on our devices. We are not tinkering away in our bedrooms. We are Rock Band and we are making this possible by bringing creative professionals like you – the musicians - into our studio and onto our stage. We are one step closer to realizing the dream of the band – to make music as accessible as can be. We are developing a Rocksmith-\n",
            "====================\n"
          ],
          "name": "stdout"
        }
      ]
    },
    {
      "cell_type": "markdown",
      "metadata": {
        "id": "oF4-PqF0Fl7R",
        "colab_type": "text"
      },
      "source": [
        "If you're creating an API based on your model and need to pass the generated text elsewhere, you can do `text = gpt2.generate(sess, return_as_list=True)[0]`\n",
        "\n",
        "You can also pass in a `prefix` to the generate function to force the text to start with a given character sequence and generate text from there (good if you add an indicator when the text starts).\n",
        "\n",
        "You can also generate multiple texts at a time by specifing `nsamples`. Unique to GPT-2, you can pass a `batch_size` to generate multiple samples in parallel, giving a massive speedup (in Colaboratory, set a maximum of 20 for `batch_size`).\n",
        "\n",
        "Other optional-but-helpful parameters for `gpt2.generate` and friends:\n",
        "\n",
        "*  **`length`**: Number of tokens to generate (default 1023, the maximum)\n",
        "* **`temperature`**: The higher the temperature, the crazier the text (default 0.7, recommended to keep between 0.7 and 1.0)\n",
        "* **`top_k`**: Limits the generated guesses to the top *k* guesses (default 0 which disables the behavior; if the generated output is super crazy, you may want to set `top_k=40`)\n",
        "* **`top_p`**: Nucleus sampling: limits the generated guesses to a cumulative probability. (gets good results on a dataset with `top_p=0.9`)\n",
        "* **`truncate`**: Truncates the input text until a given sequence, excluding that sequence (e.g. if `truncate='<|endoftext|>'`, the returned text will include everything before the first `<|endoftext|>`). It may be useful to combine this with a smaller `length` if the input texts are short.\n",
        "*  **`include_prefix`**: If using `truncate` and `include_prefix=False`, the specified `prefix` will not be included in the returned text."
      ]
    },
    {
      "cell_type": "markdown",
      "metadata": {
        "id": "zjjEN2Tafhl2",
        "colab_type": "text"
      },
      "source": [
        "For bulk generation, you can generate a large amount of text to a file and sort out the samples locally on your computer. The next cell will generate a generated text file with a unique timestamp and then download it.\n",
        "\n",
        "You can rerun the cell as many times as you want for even more generated texts!"
      ]
    },
    {
      "cell_type": "code",
      "metadata": {
        "id": "PurgNSb71dSn",
        "colab_type": "code",
        "colab": {}
      },
      "source": [
        "gen_file = 'gpt2_gentext.txt'\n",
        "\n",
        "gpt2.generate_to_file(sess,\n",
        "                      destination_path=gen_file,\n",
        "                      length=300,\n",
        "                      temperature=0.9,\n",
        "                      nsamples=5000,\n",
        "                      batch_size=20\n",
        "                      )\n",
        "\n",
        "files.download(gen_file)\n",
        "\n"
      ],
      "execution_count": 0,
      "outputs": []
    },
    {
      "cell_type": "code",
      "metadata": {
        "id": "_l0K8ZBPCUNj",
        "colab_type": "code",
        "colab": {}
      },
      "source": [
        "import csv\n",
        "import pandas as pd\n",
        "\n",
        "with open('gpt2_gentext.txt', 'r') as in_file:\n",
        "  desc = [line.strip('=*') for line in in_file]\n",
        "df = pd.DataFrame({'descriptions':desc})\n",
        "df.to_csv('log.csv')\n",
        "df.head()"
      ],
      "execution_count": 0,
      "outputs": []
    },
    {
      "cell_type": "code",
      "metadata": {
        "id": "f-DyRZSsPXEE",
        "colab_type": "code",
        "colab": {}
      },
      "source": [
        ""
      ],
      "execution_count": 0,
      "outputs": []
    }
  ]
}