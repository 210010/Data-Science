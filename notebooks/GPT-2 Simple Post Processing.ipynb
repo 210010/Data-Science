{
 "cells": [
  {
   "cell_type": "code",
   "execution_count": 1,
   "metadata": {},
   "outputs": [],
   "source": [
    "def cleanup(desc):\n",
    "  desc = desc.replace('<|startoftext|>','').replace('<|endoftext|>\\n','')\n",
    "  return desc.strip()"
   ]
  },
  {
   "cell_type": "code",
   "execution_count": 2,
   "metadata": {},
   "outputs": [
    {
     "data": {
      "text/html": [
       "<div>\n",
       "<style scoped>\n",
       "    .dataframe tbody tr th:only-of-type {\n",
       "        vertical-align: middle;\n",
       "    }\n",
       "\n",
       "    .dataframe tbody tr th {\n",
       "        vertical-align: top;\n",
       "    }\n",
       "\n",
       "    .dataframe thead th {\n",
       "        text-align: right;\n",
       "    }\n",
       "</style>\n",
       "<table border=\"1\" class=\"dataframe\">\n",
       "  <thead>\n",
       "    <tr style=\"text-align: right;\">\n",
       "      <th></th>\n",
       "      <th>descriptions</th>\n",
       "    </tr>\n",
       "  </thead>\n",
       "  <tbody>\n",
       "    <tr>\n",
       "      <th>0</th>\n",
       "      <td>Founded in 2017, Radiantia is a healthcare tec...</td>\n",
       "    </tr>\n",
       "    <tr>\n",
       "      <th>1</th>\n",
       "      <td>Rumble Wireless is a fabless mobility company ...</td>\n",
       "    </tr>\n",
       "    <tr>\n",
       "      <th>2</th>\n",
       "      <td>Rent the Mile is a marketplace that helps make...</td>\n",
       "    </tr>\n",
       "    <tr>\n",
       "      <th>3</th>\n",
       "      <td>ReThink Medical is a medical device research c...</td>\n",
       "    </tr>\n",
       "    <tr>\n",
       "      <th>4</th>\n",
       "      <td>Ritual is a fashion ordering and optimization ...</td>\n",
       "    </tr>\n",
       "  </tbody>\n",
       "</table>\n",
       "</div>"
      ],
      "text/plain": [
       "                                        descriptions\n",
       "0  Founded in 2017, Radiantia is a healthcare tec...\n",
       "1  Rumble Wireless is a fabless mobility company ...\n",
       "2  Rent the Mile is a marketplace that helps make...\n",
       "3  ReThink Medical is a medical device research c...\n",
       "4  Ritual is a fashion ordering and optimization ..."
      ]
     },
     "execution_count": 2,
     "metadata": {},
     "output_type": "execute_result"
    }
   ],
   "source": [
    "import pandas as pd\n",
    "\n",
    "df = pd.read_csv('https://raw.githubusercontent.com/labs15-pain-point/Data-Science/master/generated/log(6).csv')\n",
    "df = df.drop('Unnamed: 0', axis=1)\n",
    "df['descriptions'] = df['descriptions'].apply(cleanup)\n",
    "df = df[df['descriptions'] != '']\n",
    "df.head()"
   ]
  },
  {
   "cell_type": "code",
   "execution_count": 3,
   "metadata": {},
   "outputs": [],
   "source": [
    "# Function to make the output more readable\n",
    "def print_line(line):\n",
    "  while len(str(line)) > 90:\n",
    "    print(line[:90])\n",
    "    line = line[90:]\n",
    "  print(line,'\\n\\n')"
   ]
  },
  {
   "cell_type": "code",
   "execution_count": 4,
   "metadata": {},
   "outputs": [],
   "source": [
    "def word_freq(line):\n",
    "  line = str(line).lower()\n",
    "  full_len = len(line.split())\n",
    "  dump_words = ['founded by', 'is based in', 'was founded in', \n",
    "                'is headquartered in', 'headquarters in', 'developed by',\n",
    "                'developed in', 'additional offices', 'germany', 'usa',\n",
    "                'france', 'uk', 'china', 'california', 'india', \n",
    "                'silicon valley', 'san francisco', 'established in',\n",
    "                'mountain view', 'family owned', 'family-owned', \n",
    "                'clients include', 'argentina', 'brazil', 'chile', 'colombia', \n",
    "                'japan', 'korea', 'malaysia', 'mexico']\n",
    "  \n",
    "  # Drop words that encode garbage info for our purposes\n",
    "  for phrase in dump_words:\n",
    "    line = line.replace(phrase,'')\n",
    "  \n",
    "  # Calculate unique word frequency\n",
    "  split_line = str(line).split()\n",
    "  if len(split_line) < 5: return 0\n",
    "  return len(set(split_line)) / full_len"
   ]
  },
  {
   "cell_type": "code",
   "execution_count": 5,
   "metadata": {},
   "outputs": [],
   "source": [
    "import spacy\n",
    "from spacy import displacy\n",
    "from collections import Counter\n",
    "import en_core_web_sm\n",
    "nlp = en_core_web_sm.load()\n",
    "\n",
    "\n",
    "def entity_freq(text, nlp):\n",
    "  doc = nlp(text)\n",
    "  count = 0\n",
    "  for X in doc.ents:\n",
    "    if (X.label_ in ['ORG', 'DATE', 'PERSON', 'TIME', 'PERCENT', 'MONEY']):\n",
    "      count += 1\n",
    "  return count/len(text.split())"
   ]
  },
  {
   "cell_type": "code",
   "execution_count": 12,
   "metadata": {},
   "outputs": [
    {
     "data": {
      "text/plain": [
       "NearestNeighbors(algorithm='ball_tree', leaf_size=30, metric='minkowski',\n",
       "         metric_params=None, n_jobs=None, n_neighbors=2, p=2, radius=1.0)"
      ]
     },
     "execution_count": 12,
     "metadata": {},
     "output_type": "execute_result"
    }
   ],
   "source": [
    "from sklearn.feature_extraction.text import TfidfVectorizer\n",
    "from sklearn.neighbors import NearestNeighbors\n",
    "\n",
    "real_desc = pd.read_csv('big_boy_df/big_boy_df.csv')\n",
    "real_desc = real_desc[real_desc['Full Description'].notnull()]['Full Description']\n",
    "\n",
    "# Instantiate vectorizer object\n",
    "tfidf = TfidfVectorizer(stop_words='english', max_features=5000)\n",
    "\n",
    "# Create a vocabulary and get word counts per document\n",
    "dtm = tfidf.fit_transform(real_desc)\n",
    "\n",
    "# Instantiate the model\n",
    "nn = NearestNeighbors(n_neighbors=2, algorithm='ball_tree')\n",
    "\n",
    "# Fit on TF-IDF Vectors\n",
    "nn.fit(dtm.todense())"
   ]
  },
  {
   "cell_type": "code",
   "execution_count": 13,
   "metadata": {},
   "outputs": [],
   "source": [
    "def get_distance(desc, nn_model):\n",
    "  new = tfidf.transform([desc])\n",
    "  neighborhood = nn.kneighbors(new.todense())\n",
    "  return neighborhood[0][0][0]"
   ]
  },
  {
   "cell_type": "code",
   "execution_count": null,
   "metadata": {},
   "outputs": [],
   "source": [
    "df['freq'] = df['descriptions'].apply(word_freq)\n",
    "df = df[(df['freq'] > .6)].reset_index()\n",
    "df['ent_freq'] = [entity_freq(desc, nlp) for desc in df['descriptions']]\n",
    "df['dist_to_real'] = [get_distance(desc, nn) for desc in df['descriptions']]"
   ]
  },
  {
   "cell_type": "code",
   "execution_count": null,
   "metadata": {},
   "outputs": [],
   "source": [
    "df.head()"
   ]
  },
  {
   "cell_type": "code",
   "execution_count": null,
   "metadata": {},
   "outputs": [],
   "source": [
    "df.describe()"
   ]
  },
  {
   "cell_type": "code",
   "execution_count": null,
   "metadata": {},
   "outputs": [],
   "source": []
  }
 ],
 "metadata": {
  "kernelspec": {
   "display_name": "Python 3",
   "language": "python",
   "name": "python3"
  },
  "language_info": {
   "codemirror_mode": {
    "name": "ipython",
    "version": 3
   },
   "file_extension": ".py",
   "mimetype": "text/x-python",
   "name": "python",
   "nbconvert_exporter": "python",
   "pygments_lexer": "ipython3",
   "version": "3.7.3"
  }
 },
 "nbformat": 4,
 "nbformat_minor": 2
}
